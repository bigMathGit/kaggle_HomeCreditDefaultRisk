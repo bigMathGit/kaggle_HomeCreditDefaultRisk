{
 "cells": [
  {
   "cell_type": "code",
   "execution_count": 45,
   "metadata": {},
   "outputs": [
    {
     "name": "stdout",
     "output_type": "stream",
     "text": [
      "Importing data...\n"
     ]
    }
   ],
   "source": [
    "import pandas as pd\n",
    "import numpy as np\n",
    "from sklearn.preprocessing import MinMaxScaler, LabelEncoder\n",
    "from sklearn.model_selection import train_test_split\n",
    "from sklearn.metrics import accuracy_score, roc_auc_score, confusion_matrix\n",
    "from sklearn.feature_selection import VarianceThreshold\n",
    "import lightgbm as lgb\n",
    "import matplotlib.pyplot as plt\n",
    "import seaborn as sns\n",
    "\n",
    "print('Importing data...')\n",
    "path = 'Data/'\n",
    "data = pd.read_csv(path+'application_train.csv')\n",
    "test = pd.read_csv(path+'application_test.csv')\n",
    "prev = pd.read_csv(path+'previous_application.csv')\n",
    "buro = pd.read_csv(path+'bureau.csv')\n",
    "buro_balance = pd.read_csv(path+'bureau_balance.csv')\n",
    "credit_card  = pd.read_csv(path+'credit_card_balance.csv')\n",
    "POS_CASH  = pd.read_csv(path+'POS_CASH_balance.csv')\n",
    "payments = pd.read_csv(path+'installments_payments.csv')\n",
    "lgbm_submission = pd.read_csv(path+'sample_submission.csv')\n",
    "\n",
    "#Separate target variable\n",
    "y = data['TARGET']\n",
    "del data['TARGET']"
   ]
  },
  {
   "cell_type": "code",
   "execution_count": 46,
   "metadata": {},
   "outputs": [],
   "source": [
    "#One-hot encoding of categorical features in data and test sets\n",
    "categorical_features = [col for col in data.columns if data[col].dtype == 'object']\n",
    "\n",
    "one_hot_df = pd.concat([data,test])\n",
    "one_hot_df = pd.get_dummies(one_hot_df, columns=categorical_features)\n",
    "\n",
    "data = one_hot_df.iloc[:data.shape[0],:]\n",
    "test = one_hot_df.iloc[data.shape[0]:,]"
   ]
  },
  {
   "cell_type": "code",
   "execution_count": 47,
   "metadata": {
    "scrolled": true
   },
   "outputs": [
    {
     "name": "stdout",
     "output_type": "stream",
     "text": [
      "Pre-processing previous_application...\n"
     ]
    }
   ],
   "source": [
    "#Pre-processing previous_application\n",
    "print('Pre-processing previous_application...')\n",
    "#One-hot encoding of categorical features in previous application data set\n",
    "prev_cat_features = [pcol for pcol in prev.columns if prev[pcol].dtype == 'object']\n",
    "prev = pd.get_dummies(prev, columns=prev_cat_features)\n",
    "avg_prev = prev.groupby('SK_ID_CURR').mean()\n",
    "cnt_prev = prev[['SK_ID_CURR', 'SK_ID_PREV']].groupby('SK_ID_CURR').count()\n",
    "avg_prev['nb_app'] = cnt_prev['SK_ID_PREV']\n",
    "del avg_prev['SK_ID_PREV']"
   ]
  },
  {
   "cell_type": "code",
   "execution_count": 48,
   "metadata": {},
   "outputs": [
    {
     "name": "stdout",
     "output_type": "stream",
     "text": [
      "Pre-processing buro_balance...\n"
     ]
    }
   ],
   "source": [
    "#Pre-processing buro_balance\n",
    "print('Pre-processing buro_balance...')\n",
    "buro_grouped_size = buro_balance.groupby('SK_ID_BUREAU')['MONTHS_BALANCE'].size()\n",
    "buro_grouped_max = buro_balance.groupby('SK_ID_BUREAU')['MONTHS_BALANCE'].max()\n",
    "buro_grouped_min = buro_balance.groupby('SK_ID_BUREAU')['MONTHS_BALANCE'].min()\n",
    "buro_grouped_median = buro_balance.groupby('SK_ID_BUREAU')['MONTHS_BALANCE'].median()\n",
    "\n",
    "buro_counts = buro_balance.groupby('SK_ID_BUREAU')['STATUS'].value_counts(normalize = False)\n",
    "buro_counts_unstacked = buro_counts.unstack('STATUS')\n",
    "buro_counts_unstacked.columns = ['STATUS_0', 'STATUS_1','STATUS_2','STATUS_3','STATUS_4','STATUS_5','STATUS_C','STATUS_X',]\n",
    "buro_counts_unstacked['MONTHS_COUNT'] = buro_grouped_size\n",
    "buro_counts_unstacked['MONTHS_MIN'] = buro_grouped_min\n",
    "buro_counts_unstacked['MONTHS_MAX'] = buro_grouped_max\n",
    "buro_counts_unstacked['MONTHS_MEDIAN'] = buro_grouped_median\n",
    "buro = buro.join(buro_counts_unstacked, how='left', on='SK_ID_BUREAU')"
   ]
  },
  {
   "cell_type": "code",
   "execution_count": 49,
   "metadata": {},
   "outputs": [
    {
     "name": "stdout",
     "output_type": "stream",
     "text": [
      "Pre-processing buro...\n"
     ]
    }
   ],
   "source": [
    "#Pre-processing buro\n",
    "print('Pre-processing buro...')\n",
    "\n",
    "buro_active = buro.groupby('SK_ID_CURR')['CREDIT_ACTIVE'].value_counts(normalize = False)\n",
    "buro_active_unstacked = buro_active.unstack('CREDIT_ACTIVE')\n",
    "buro_active_unstacked.columns = ['CREDIT_ACTIVE_A','CREDIT_ACTIVE_B','CREDIT_ACTIVE_C','CREDIT_ACTIVE_S']\n",
    "\n",
    "buro_credittype = buro.groupby('SK_ID_CURR')['CREDIT_TYPE'].value_counts(normalize = False)\n",
    "buro_credittype_unstacked = buro_credittype.unstack('CREDIT_TYPE')\n",
    "buro_credittype_unstacked.columns = 'CREDIT_TYPE_' + buro_credittype_unstacked.columns\n",
    "\n",
    "del buro['CREDIT_ACTIVE']\n",
    "del buro['CREDIT_TYPE']\n",
    "\n",
    "#One-hot encoding of categorical features in buro data set\n",
    "buro_cat_features = [bcol for bcol in buro.columns if buro[bcol].dtype == 'object']\n",
    "buro = pd.get_dummies(buro, columns=buro_cat_features)\n",
    "\n",
    "avg_buro = buro.groupby('SK_ID_CURR').mean()\n",
    "avg_buro['buro_count'] = buro[['SK_ID_BUREAU', 'SK_ID_CURR']].groupby('SK_ID_CURR').count()['SK_ID_BUREAU']\n",
    "del avg_buro['SK_ID_BUREAU']\n",
    "\n",
    "max_buro = buro.groupby('SK_ID_CURR').max()\n",
    "max_buro.columns = max_buro.columns + '_max'\n",
    "max_buro.rename(columns={'SK_ID_CURR_max': 'SK_ID_CURR'}, inplace=True)\n",
    "del max_buro['SK_ID_BUREAU_max']\n",
    "min_buro = buro.groupby('SK_ID_CURR').min()\n",
    "min_buro.columns = min_buro.columns + '_min'\n",
    "min_buro.rename(columns={'SK_ID_CURR_min': 'SK_ID_CURR'}, inplace=True)\n",
    "del min_buro['SK_ID_BUREAU_min']"
   ]
  },
  {
   "cell_type": "code",
   "execution_count": 50,
   "metadata": {},
   "outputs": [
    {
     "name": "stdout",
     "output_type": "stream",
     "text": [
      "Pre-processing POS_CASH...\n"
     ]
    }
   ],
   "source": [
    "#Pre-processing POS_CASH\n",
    "print('Pre-processing POS_CASH...')\n",
    "le = LabelEncoder()\n",
    "POS_CASH['NAME_CONTRACT_STATUS'] = le.fit_transform(POS_CASH['NAME_CONTRACT_STATUS'].astype(str))\n",
    "nunique_status = POS_CASH[['SK_ID_CURR', 'NAME_CONTRACT_STATUS']].groupby('SK_ID_CURR').nunique()\n",
    "nunique_status2 = POS_CASH[['SK_ID_CURR', 'NAME_CONTRACT_STATUS']].groupby('SK_ID_CURR').max()\n",
    "POS_CASH['NUNIQUE_STATUS'] = nunique_status['NAME_CONTRACT_STATUS']\n",
    "POS_CASH['NUNIQUE_STATUS2'] = nunique_status2['NAME_CONTRACT_STATUS']\n",
    "POS_CASH.drop(['SK_ID_PREV', 'NAME_CONTRACT_STATUS'], axis=1, inplace=True)"
   ]
  },
  {
   "cell_type": "code",
   "execution_count": 51,
   "metadata": {},
   "outputs": [
    {
     "name": "stdout",
     "output_type": "stream",
     "text": [
      "Pre-processing credit_card...\n"
     ]
    }
   ],
   "source": [
    "#Pre-processing credit_card\n",
    "print('Pre-processing credit_card...')\n",
    "credit_card['NAME_CONTRACT_STATUS'] = le.fit_transform(credit_card['NAME_CONTRACT_STATUS'].astype(str))\n",
    "nunique_status = credit_card[['SK_ID_CURR', 'NAME_CONTRACT_STATUS']].groupby('SK_ID_CURR').nunique()\n",
    "nunique_status2 = credit_card[['SK_ID_CURR', 'NAME_CONTRACT_STATUS']].groupby('SK_ID_CURR').max()\n",
    "credit_card['NUNIQUE_STATUS'] = nunique_status['NAME_CONTRACT_STATUS']\n",
    "credit_card['NUNIQUE_STATUS2'] = nunique_status2['NAME_CONTRACT_STATUS']\n",
    "credit_card.drop(['SK_ID_PREV', 'NAME_CONTRACT_STATUS'], axis=1, inplace=True)"
   ]
  },
  {
   "cell_type": "code",
   "execution_count": 52,
   "metadata": {},
   "outputs": [
    {
     "name": "stdout",
     "output_type": "stream",
     "text": [
      "Pre-processing payments...\n"
     ]
    }
   ],
   "source": [
    "#Pre-processing payments\n",
    "print('Pre-processing payments...')\n",
    "avg_payments = payments.groupby('SK_ID_CURR').mean()\n",
    "avg_payments2 = payments.groupby('SK_ID_CURR').max()\n",
    "avg_payments3 = payments.groupby('SK_ID_CURR').min()\n",
    "del avg_payments['SK_ID_PREV']"
   ]
  },
  {
   "cell_type": "code",
   "execution_count": 53,
   "metadata": {},
   "outputs": [
    {
     "name": "stdout",
     "output_type": "stream",
     "text": [
      "Joining databases...\n"
     ]
    }
   ],
   "source": [
    "#Join data bases\n",
    "print('Joining databases...')\n",
    "data = data.merge(right=avg_prev.reset_index(), how='left', on='SK_ID_CURR')\n",
    "test = test.merge(right=avg_prev.reset_index(), how='left', on='SK_ID_CURR')\n",
    "\n",
    "data = data.merge(right=max_buro.reset_index(), how='left', on='SK_ID_CURR')\n",
    "test = test.merge(right=max_buro.reset_index(), how='left', on='SK_ID_CURR')\n",
    "\n",
    "data = data.merge(right=avg_buro.reset_index(), how='left', on='SK_ID_CURR')\n",
    "test = test.merge(right=avg_buro.reset_index(), how='left', on='SK_ID_CURR')\n",
    "\n",
    "data = data.merge(right=min_buro.reset_index(), how='left', on='SK_ID_CURR')\n",
    "test = test.merge(right=min_buro.reset_index(), how='left', on='SK_ID_CURR')\n",
    "\n",
    "data = data.merge(right=buro_active_unstacked.reset_index(), how='left', on='SK_ID_CURR')\n",
    "test = test.merge(right=buro_active_unstacked.reset_index(), how='left', on='SK_ID_CURR')\n",
    "\n",
    "data = data.merge(right=buro_credittype_unstacked.reset_index(), how='left', on='SK_ID_CURR')\n",
    "test = test.merge(right=buro_credittype_unstacked.reset_index(), how='left', on='SK_ID_CURR')\n",
    "\n",
    "data = data.merge(POS_CASH.groupby('SK_ID_CURR').mean().reset_index(), how='left', on='SK_ID_CURR')\n",
    "test = test.merge(POS_CASH.groupby('SK_ID_CURR').mean().reset_index(), how='left', on='SK_ID_CURR')\n",
    "\n",
    "data = data.merge(credit_card.groupby('SK_ID_CURR').mean().reset_index(), how='left', on='SK_ID_CURR')\n",
    "test = test.merge(credit_card.groupby('SK_ID_CURR').mean().reset_index(), how='left', on='SK_ID_CURR')\n",
    "\n",
    "data = data.merge(right=avg_payments.reset_index(), how='left', on='SK_ID_CURR')\n",
    "test = test.merge(right=avg_payments.reset_index(), how='left', on='SK_ID_CURR')\n",
    "\n",
    "data = data.merge(right=avg_payments2.reset_index(), how='left', on='SK_ID_CURR')\n",
    "test = test.merge(right=avg_payments2.reset_index(), how='left', on='SK_ID_CURR')\n",
    "\n",
    "data = data.merge(right=avg_payments3.reset_index(), how='left', on='SK_ID_CURR')\n",
    "test = test.merge(right=avg_payments3.reset_index(), how='left', on='SK_ID_CURR')"
   ]
  },
  {
   "cell_type": "code",
   "execution_count": 54,
   "metadata": {},
   "outputs": [
    {
     "data": {
      "text/plain": [
       "Index(['SK_ID_CURR', 'CNT_CHILDREN', 'AMT_INCOME_TOTAL', 'AMT_CREDIT_x',\n",
       "       'AMT_ANNUITY_x', 'AMT_GOODS_PRICE_x', 'REGION_POPULATION_RELATIVE',\n",
       "       'DAYS_BIRTH', 'DAYS_EMPLOYED', 'DAYS_REGISTRATION',\n",
       "       ...\n",
       "       'DAYS_ENTRY_PAYMENT_y', 'AMT_INSTALMENT_y', 'AMT_PAYMENT_y',\n",
       "       'SK_ID_PREV_y', 'NUM_INSTALMENT_VERSION', 'NUM_INSTALMENT_NUMBER',\n",
       "       'DAYS_INSTALMENT', 'DAYS_ENTRY_PAYMENT', 'AMT_INSTALMENT',\n",
       "       'AMT_PAYMENT'],\n",
       "      dtype='object', length=561)"
      ]
     },
     "execution_count": 54,
     "metadata": {},
     "output_type": "execute_result"
    }
   ],
   "source": [
    "data.columns"
   ]
  },
  {
   "cell_type": "code",
   "execution_count": 55,
   "metadata": {},
   "outputs": [],
   "source": [
    "data['X1'] = data['AMT_CREDIT_x']/data['AMT_INCOME_TOTAL']\n",
    "data['X2'] = data['AMT_CREDIT_y']/data['AMT_INCOME_TOTAL']\n",
    "data['X3'] = data['AMT_ANNUITY']/data['AMT_INCOME_TOTAL']\n",
    "data['X4'] = data['AMT_ANNUITY_x']/data['AMT_INCOME_TOTAL']\n",
    "data['X5'] = data['AMT_ANNUITY_y']/data['AMT_INCOME_TOTAL']\n",
    "data['X6'] = data['AMT_CREDIT_x']/data['AMT_ANNUITY_x']\n",
    "data['X7'] = data['AMT_CREDIT_y']/data['AMT_ANNUITY_x']\n",
    "data['X8'] = data['AMT_CREDIT_x']/data['AMT_ANNUITY_y']\n",
    "data['X9'] = data['AMT_CREDIT_y']/data['AMT_ANNUITY_y']\n",
    "data['X10'] = data['AMT_CREDIT_SUM']/data['AMT_CREDIT_x']\n",
    "data['x11'] = data['AMT_CREDIT_SUM']/data['AMT_CREDIT_y']\n",
    "data['X12'] = data['AMT_CREDIT_SUM_DEBT']/data['AMT_CREDIT_x']\n",
    "data['X13'] = data['AMT_CREDIT_SUM_DEBT']/data['AMT_CREDIT_y']\n",
    "data['X14'] = data['AMT_CREDIT_SUM_DEBT']/data['AMT_INCOME_TOTAL']\n",
    "data['X15'] = data['AMT_ANNUITY_x']/data['AMT_CREDIT_y']\n",
    "data['X16'] = data['AMT_ANNUITY_y']/data['AMT_CREDIT_x']\n",
    "data['X17'] = data['AMT_ANNUITY_x']/data['AMT_CREDIT_x']\n",
    "data['X18'] = data['AMT_ANNUITY_y']/data['AMT_CREDIT_y']\n",
    "\n",
    "\n",
    "test['X1'] = test['AMT_CREDIT_x']/test['AMT_INCOME_TOTAL']\n",
    "test['X2'] = test['AMT_CREDIT_y']/test['AMT_INCOME_TOTAL']\n",
    "test['X3'] = test['AMT_ANNUITY']/test['AMT_INCOME_TOTAL']\n",
    "test['X4'] = test['AMT_ANNUITY_x']/test['AMT_INCOME_TOTAL']\n",
    "test['X5'] = test['AMT_ANNUITY_y']/test['AMT_INCOME_TOTAL']\n",
    "test['X6'] = test['AMT_CREDIT_x']/test['AMT_ANNUITY_x']\n",
    "test['X7'] = test['AMT_CREDIT_y']/test['AMT_ANNUITY_x']\n",
    "test['X8'] = test['AMT_CREDIT_x']/test['AMT_ANNUITY_y']\n",
    "test['X9'] = test['AMT_CREDIT_y']/test['AMT_ANNUITY_y']\n",
    "test['X10'] = test['AMT_CREDIT_SUM']/test['AMT_CREDIT_x']\n",
    "test['x11'] = test['AMT_CREDIT_SUM']/test['AMT_CREDIT_y']\n",
    "test['X12'] = test['AMT_CREDIT_SUM_DEBT']/test['AMT_CREDIT_x']\n",
    "test['X13'] = test['AMT_CREDIT_SUM_DEBT']/test['AMT_CREDIT_y']\n",
    "test['X14'] = test['AMT_CREDIT_SUM_DEBT']/test['AMT_INCOME_TOTAL']\n",
    "test['X15'] = test['AMT_ANNUITY_x']/test['AMT_CREDIT_y']\n",
    "test['X16'] = test['AMT_ANNUITY_y']/test['AMT_CREDIT_x']\n",
    "test['X17'] = test['AMT_ANNUITY_x']/test['AMT_CREDIT_x']\n",
    "test['X18'] = test['AMT_ANNUITY_y']/test['AMT_CREDIT_y']"
   ]
  },
  {
   "cell_type": "code",
   "execution_count": 56,
   "metadata": {},
   "outputs": [
    {
     "name": "stdout",
     "output_type": "stream",
     "text": [
      "Removing features with more than 80% missing...\n"
     ]
    }
   ],
   "source": [
    "#Remove features with many missing values\n",
    "print('Removing features with more than 80% missing...')\n",
    "test = test[test.columns[data.isnull().mean() < 0.8]]\n",
    "data = data[data.columns[data.isnull().mean() < 0.8]]"
   ]
  },
  {
   "cell_type": "code",
   "execution_count": 57,
   "metadata": {},
   "outputs": [],
   "source": [
    "#Delete customer Id\n",
    "del data['SK_ID_CURR']\n",
    "del test['SK_ID_CURR']"
   ]
  },
  {
   "cell_type": "code",
   "execution_count": 58,
   "metadata": {},
   "outputs": [],
   "source": [
    "#Create train and validation set\n",
    "train_x, valid_x, train_y, valid_y = train_test_split(data, y, test_size=0.2, shuffle=True)"
   ]
  },
  {
   "cell_type": "code",
   "execution_count": 59,
   "metadata": {},
   "outputs": [],
   "source": [
    "#------------------------Build LightGBM Model-----------------------\n",
    "train_data=lgb.Dataset(train_x,label=train_y)\n",
    "valid_data=lgb.Dataset(valid_x,label=valid_y)\n",
    "\n",
    "#Select Hyper-Parameters\n",
    "params = {'boosting_type': 'gbdt',\n",
    "          'max_depth' : 10,\n",
    "          'objective': 'binary',\n",
    "          'nthread': 5,\n",
    "          'num_leaves': 64,\n",
    "          'learning_rate': 0.05,\n",
    "          'max_bin': 512,\n",
    "          'subsample_for_bin': 200,\n",
    "          'subsample': 1,\n",
    "          'subsample_freq': 1,\n",
    "          'colsample_bytree': 0.8,\n",
    "          'reg_alpha': 5,\n",
    "          'reg_lambda': 10,\n",
    "          'min_split_gain': 0.5,\n",
    "          'min_child_weight': 1,\n",
    "          'min_child_samples': 5,\n",
    "          'scale_pos_weight': 1,\n",
    "          'num_class' : 1,\n",
    "          'metric' : 'auc'\n",
    "          }\n"
   ]
  },
  {
   "cell_type": "code",
   "execution_count": 60,
   "metadata": {},
   "outputs": [
    {
     "name": "stdout",
     "output_type": "stream",
     "text": [
      "Training until validation scores don't improve for 40 rounds.\n",
      "[10]\tvalid_0's auc: 0.730463\n",
      "[20]\tvalid_0's auc: 0.735149\n",
      "[30]\tvalid_0's auc: 0.7414\n",
      "[40]\tvalid_0's auc: 0.748614\n",
      "[50]\tvalid_0's auc: 0.754389\n",
      "[60]\tvalid_0's auc: 0.759389\n",
      "[70]\tvalid_0's auc: 0.763705\n",
      "[80]\tvalid_0's auc: 0.768276\n",
      "[90]\tvalid_0's auc: 0.772053\n",
      "[100]\tvalid_0's auc: 0.775268\n",
      "[110]\tvalid_0's auc: 0.777926\n",
      "[120]\tvalid_0's auc: 0.780059\n",
      "[130]\tvalid_0's auc: 0.781689\n",
      "[140]\tvalid_0's auc: 0.783138\n",
      "[150]\tvalid_0's auc: 0.784253\n",
      "[160]\tvalid_0's auc: 0.785439\n",
      "[170]\tvalid_0's auc: 0.786198\n",
      "[180]\tvalid_0's auc: 0.787021\n",
      "[190]\tvalid_0's auc: 0.787569\n",
      "[200]\tvalid_0's auc: 0.788117\n",
      "[210]\tvalid_0's auc: 0.788543\n",
      "[220]\tvalid_0's auc: 0.789079\n",
      "[230]\tvalid_0's auc: 0.789491\n",
      "[240]\tvalid_0's auc: 0.789883\n",
      "[250]\tvalid_0's auc: 0.790239\n",
      "[260]\tvalid_0's auc: 0.790634\n",
      "[270]\tvalid_0's auc: 0.790771\n",
      "[280]\tvalid_0's auc: 0.790979\n",
      "[290]\tvalid_0's auc: 0.791124\n",
      "[300]\tvalid_0's auc: 0.791426\n",
      "[310]\tvalid_0's auc: 0.791449\n",
      "[320]\tvalid_0's auc: 0.791529\n",
      "[330]\tvalid_0's auc: 0.79165\n",
      "[340]\tvalid_0's auc: 0.791645\n",
      "[350]\tvalid_0's auc: 0.791787\n",
      "[360]\tvalid_0's auc: 0.791904\n",
      "[370]\tvalid_0's auc: 0.792084\n",
      "[380]\tvalid_0's auc: 0.792204\n",
      "[390]\tvalid_0's auc: 0.792177\n",
      "[400]\tvalid_0's auc: 0.792078\n",
      "[410]\tvalid_0's auc: 0.792172\n",
      "Early stopping, best iteration is:\n",
      "[375]\tvalid_0's auc: 0.792327\n"
     ]
    }
   ],
   "source": [
    "#Train model on selected parameters and number of iterations\n",
    "lgbm = lgb.train(params,\n",
    "                 train_data,\n",
    "                 2500,\n",
    "                 valid_sets=valid_data,\n",
    "                 early_stopping_rounds= 40,\n",
    "                 verbose_eval= 10\n",
    "                 )"
   ]
  },
  {
   "cell_type": "code",
   "execution_count": 61,
   "metadata": {},
   "outputs": [],
   "source": [
    "#Predict on test set and write to submit\n",
    "predictions_lgbm_prob = lgbm.predict(test)\n",
    "\n",
    "lgbm_submission.TARGET = predictions_lgbm_prob\n",
    "\n",
    "lgbm_submission.to_csv('lgbm_submission.csv', index=False)"
   ]
  },
  {
   "cell_type": "code",
   "execution_count": 62,
   "metadata": {},
   "outputs": [
    {
     "data": {
      "text/plain": [
       "<matplotlib.axes._subplots.AxesSubplot at 0x10d198ba8>"
      ]
     },
     "execution_count": 62,
     "metadata": {},
     "output_type": "execute_result"
    },
    {
     "data": {
      "image/png": "[encoded data removed]",
      "text/plain": [
       "<Figure size 432x288 with 1 Axes>"
      ]
     },
     "metadata": {},
     "output_type": "display_data"
    }
   ],
   "source": [
    "#Plot Variable Importances\n",
    "lgb.plot_importance(lgbm, max_num_features=21, importance_type='split')"
   ]
  },
  {
   "cell_type": "code",
   "execution_count": null,
   "metadata": {},
   "outputs": [],
   "source": []
  }
 ],
 "metadata": {
  "kernelspec": {
   "display_name": "Python 3",
   "language": "python",
   "name": "python3"
  },
  "language_info": {
   "codemirror_mode": {
    "name": "ipython",
    "version": 3
   },
   "file_extension": ".py",
   "mimetype": "text/x-python",
   "name": "python",
   "nbconvert_exporter": "python",
   "pygments_lexer": "ipython3",
   "version": "3.5.5"
  }
 },
 "nbformat": 4,
 "nbformat_minor": 2
}
