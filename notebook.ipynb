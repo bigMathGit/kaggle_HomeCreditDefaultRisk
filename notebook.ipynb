{
 "cells": [
  {
   "cell_type": "markdown",
   "metadata": {
    "_cell_guid": "2c165ea5-9c16-4765-8f70-4643940c927c",
    "_uuid": "81e16db53fe23d7f531511f996eb6624984d980f"
   },
   "source": [
    "# Home Credit Default Risk - Exploration + Baseline Model\n",
    "\n",
    "Many people struggle to get loans due to insufficient or non-existent credit histories. And, unfortunately, this population is often taken advantage of by untrustworthy lenders. Home Credit strives to broaden financial inclusion for the unbanked population by providing a positive and safe borrowing experience. In order to make sure this underserved population has a positive loan experience, Home Credit makes use of a variety of alternative data--including telco and transactional information--to predict their clients' repayment abilities. \n",
    "\n",
    "While Home Credit is currently using various statistical and machine learning methods to make these predictions, they're challenging Kagglers to help them unlock the full potential of their data. Doing so will ensure that clients capable of repayment are not rejected and that loans are given with a principal, maturity, and repayment calendar that will empower their clients to be successful.\n",
    "\n",
    "This is a simple notebook on exploration and baseline model of home credit default risk data \n",
    "\n",
    "**Contents**   \n",
    "1. Dataset Preparation    \n",
    "2. Exploration - Applications Train  \n",
    "&nbsp;&nbsp;&nbsp;&nbsp; 2.1 Snapshot - Application Train    \n",
    "&nbsp;&nbsp;&nbsp;&nbsp; 2.2 Distribution of Target Variable    \n",
    "&nbsp;&nbsp;&nbsp;&nbsp; 2.3 Gender and Contract Type Distribution and Target Variable    \n",
    "&nbsp;&nbsp;&nbsp;&nbsp; 2.4 Own Realty and Own Car  - Distribution with Target Variable  \n",
    "&nbsp;&nbsp;&nbsp;&nbsp; 2.5 Suit Type and Income Type    \n",
    "&nbsp;&nbsp;&nbsp;&nbsp; 2.6 Family Statue and Housing Type   \n",
    "&nbsp;&nbsp;&nbsp;&nbsp; 2.7 Education Type and Income Type   \n",
    "&nbsp;&nbsp;&nbsp;&nbsp; 2.8.1 Organization Type and Occupation Type   \n",
    "&nbsp;&nbsp;&nbsp;&nbsp; 2.8.2 Walls Material, Foundation and House Type   \n",
    "&nbsp;&nbsp;&nbsp;&nbsp; 2.9 Amount Credit Distribution    \n",
    "&nbsp;&nbsp;&nbsp;&nbsp; 2.10 Amount Annuity Distribution  \n",
    "&nbsp;&nbsp;&nbsp;&nbsp; 2.11 Amount Goods Price   \n",
    "&nbsp;&nbsp;&nbsp;&nbsp; 2.12 Amount Region Population Relative    \n",
    "&nbsp;&nbsp;&nbsp;&nbsp; 2.13 Days Birth   \n",
    "&nbsp;&nbsp;&nbsp;&nbsp; 2.14 Days Employed    \n",
    "&nbsp;&nbsp;&nbsp;&nbsp; 2.15 Num Days Registration  \n",
    "&nbsp;&nbsp;&nbsp;&nbsp; 2.15 Count of Family Members  \n",
    "3. Exploration - Bureau Data  \n",
    "&nbsp;&nbsp;&nbsp;&nbsp; 3.1 Snapshot - Bureau Data    \n",
    "4. Exploration - Bureau Balance Data  \n",
    "&nbsp;&nbsp;&nbsp;&nbsp; 4.1 Snapshot - Bureau Balance Data     \n",
    "5. Exploration - Credit Card Balance Data   \n",
    "&nbsp;&nbsp;&nbsp;&nbsp; 5.1 Snapshot - Credit Card Balance Data   \n",
    "6. Exploration - POS Cash Balance Data   \n",
    "&nbsp;&nbsp;&nbsp;&nbsp; 6.1 Snapshot - POS Cash Balance Data   \n",
    "7. Exploration - Previous Application Data   \n",
    "&nbsp;&nbsp;&nbsp;&nbsp; 7.1 Snapshot - Previous Application Data  \n",
    "&nbsp;&nbsp;&nbsp;&nbsp; 7.2 Contract Status Distribution - Previous Applications  \n",
    "&nbsp;&nbsp;&nbsp;&nbsp; 7.3 Suite Type Distribution - Previous Application    \n",
    "&nbsp;&nbsp;&nbsp;&nbsp; 7.4 Client Type Distribution  - Previous Application    \n",
    "&nbsp;&nbsp;&nbsp;&nbsp; 7.5 Channel Type Distribution - Previous Applications  \n",
    "7. Exploration - Installation Payments  \n",
    "&nbsp;&nbsp;&nbsp;&nbsp; 8.1 Snapshot of Installation Payments  \n",
    "9. Baseline Model  \n",
    "&nbsp;&nbsp;&nbsp;&nbsp; 9.1 Dataset Preparation  \n",
    "&nbsp;&nbsp;&nbsp;&nbsp; 9.2 Label Encoding     \n",
    "&nbsp;&nbsp;&nbsp;&nbsp; 9.3 Validation Sets Preparation    \n",
    "&nbsp;&nbsp;&nbsp;&nbsp; 9.4 Model Fitting    \n",
    "&nbsp;&nbsp;&nbsp;&nbsp; 9.5 Feature Importance    \n",
    "&nbsp;&nbsp;&nbsp;&nbsp; 9.6 Prediction \n",
    "\n",
    "\n",
    "\n",
    "## 1. Dataset Preparation "
   ]
  },
  {
   "cell_type": "code",
   "execution_count": 1,
   "metadata": {
    "_cell_guid": "38416409-89e8-431a-a206-0f78136ac8f2",
    "_kg_hide-input": true,
    "_uuid": "51ee747ada40a7cdfb800dfb02046bc353e5ec66"
   },
   "outputs": [
    {
     "data": {
      "text/html": [
       "<script>requirejs.config({paths: { 'plotly': ['https://cdn.plot.ly/plotly-latest.min']},});if(!window.Plotly) {{require(['plotly'],function(plotly) {window.Plotly=plotly;});}}</script>"
      ],
      "text/vnd.plotly.v1+html": [
       "<script>requirejs.config({paths: { 'plotly': ['https://cdn.plot.ly/plotly-latest.min']},});if(!window.Plotly) {{require(['plotly'],function(plotly) {window.Plotly=plotly;});}}</script>"
      ]
     },
     "metadata": {},
     "output_type": "display_data"
    }
   ],
   "source": [
    "from plotly.offline import init_notebook_mode, iplot\n",
    "from wordcloud import WordCloud\n",
    "import plotly.graph_objs as go\n",
    "import matplotlib.pyplot as plt\n",
    "import plotly.plotly as py\n",
    "from plotly import tools\n",
    "from datetime import date\n",
    "import pandas as pd\n",
    "import numpy as np \n",
    "import seaborn as sns\n",
    "import random \n",
    "import warnings\n",
    "warnings.filterwarnings(\"ignore\")\n",
    "init_notebook_mode(connected=True)\n",
    "\n",
    "path = \"Data/\"\n",
    "\n",
    "def bar_hor(df, col, title, color, w=None, h=None, lm=0, limit=100, return_trace=False, rev=False, xlb = False):\n",
    "    cnt_srs = df[col].value_counts()\n",
    "    yy = cnt_srs.head(limit).index[::-1] \n",
    "    xx = cnt_srs.head(limit).values[::-1] \n",
    "    if rev:\n",
    "        yy = cnt_srs.tail(limit).index[::-1] \n",
    "        xx = cnt_srs.tail(limit).values[::-1] \n",
    "    if xlb:\n",
    "        trace = go.Bar(y=xlb, x=xx, orientation = 'h', marker=dict(color=color))\n",
    "    else:\n",
    "        trace = go.Bar(y=yy, x=xx, orientation = 'h', marker=dict(color=color))\n",
    "    if return_trace:\n",
    "        return trace \n",
    "    layout = dict(title=title, margin=dict(l=lm), width=w, height=h)\n",
    "    data = [trace]\n",
    "    fig = go.Figure(data=data, layout=layout)\n",
    "    iplot(fig)\n",
    "\n",
    "def bar_hor_noagg(x, y, title, color, w=None, h=None, lm=0, limit=100, rt=False):\n",
    "    trace = go.Bar(y=x, x=y, orientation = 'h', marker=dict(color=color))\n",
    "    if rt:\n",
    "        return trace\n",
    "    layout = dict(title=title, margin=dict(l=lm), width=w, height=h)\n",
    "    data = [trace]\n",
    "    fig = go.Figure(data=data, layout=layout)\n",
    "    iplot(fig)\n",
    "\n",
    "\n",
    "def bar_ver_noagg(x, y, title, color, w=None, h=None, lm=0, rt = False):\n",
    "    trace = go.Bar(y=y, x=x, marker=dict(color=color))\n",
    "    if rt:\n",
    "        return trace\n",
    "    layout = dict(title=title, margin=dict(l=lm), width=w, height=h)\n",
    "    data = [trace]\n",
    "    fig = go.Figure(data=data, layout=layout)\n",
    "    iplot(fig)\n",
    "    \n",
    "def gp(col, title):\n",
    "    df1 = app_train[app_train[\"TARGET\"] == 1]\n",
    "    df0 = app_train[app_train[\"TARGET\"] == 0]\n",
    "    a1 = df1[col].value_counts()\n",
    "    b1 = df0[col].value_counts()\n",
    "\n",
    "    trace1 = go.Bar(x=a1.index, y=a1.values, name='Target : 1', marker=dict(color=\"#44ff54\"))\n",
    "    trace2 = go.Bar(x=b1.index, y=b1.values, name='Target : 0', marker=dict(color=\"#ff4444\"))\n",
    "\n",
    "    data = [trace1, trace2]\n",
    "    layout = go.Layout(barmode='group', height=300, title = title)\n",
    "\n",
    "    fig = go.Figure(data=data, layout=layout)\n",
    "    iplot(fig, filename='grouped-bar')"
   ]
  },
  {
   "cell_type": "markdown",
   "metadata": {
    "_cell_guid": "c156fe19-e526-404c-b1e2-3d04f103ae87",
    "_uuid": "156bb2d13eb08c1d800307265994060bfc35cde1"
   },
   "source": [
    "## 2. Exploration of - Application \n",
    "\n",
    "## 2.1 Snapshot of Application Train\n",
    "\n",
    "Application data consists of static data for all applications and every row represents one loan."
   ]
  },
  {
   "cell_type": "code",
   "execution_count": 2,
   "metadata": {
    "_cell_guid": "eb163c92-0997-412e-a351-c954e6c20338",
    "_kg_hide-input": true,
    "_uuid": "c95dcf079aa5b11cec71fdf6f443d01b51218fb4"
   },
   "outputs": [
    {
     "data": {
      "text/html": [
       "<div>\n",
       "<style scoped>\n",
       "    .dataframe tbody tr th:only-of-type {\n",
       "        vertical-align: middle;\n",
       "    }\n",
       "\n",
       "    .dataframe tbody tr th {\n",
       "        vertical-align: top;\n",
       "    }\n",
       "\n",
       "    .dataframe thead th {\n",
       "        text-align: right;\n",
       "    }\n",
       "</style>\n",
       "<table border=\"1\" class=\"dataframe\">\n",
       "  <thead>\n",
       "    <tr style=\"text-align: right;\">\n",
       "      <th></th>\n",
       "      <th>SK_ID_CURR</th>\n",
       "      <th>TARGET</th>\n",
       "      <th>NAME_CONTRACT_TYPE</th>\n",
       "      <th>CODE_GENDER</th>\n",
       "      <th>FLAG_OWN_CAR</th>\n",
       "      <th>FLAG_OWN_REALTY</th>\n",
       "      <th>CNT_CHILDREN</th>\n",
       "      <th>AMT_INCOME_TOTAL</th>\n",
       "      <th>AMT_CREDIT</th>\n",
       "      <th>AMT_ANNUITY</th>\n",
       "      <th>...</th>\n",
       "      <th>FLAG_DOCUMENT_18</th>\n",
       "      <th>FLAG_DOCUMENT_19</th>\n",
       "      <th>FLAG_DOCUMENT_20</th>\n",
       "      <th>FLAG_DOCUMENT_21</th>\n",
       "      <th>AMT_REQ_CREDIT_BUREAU_HOUR</th>\n",
       "      <th>AMT_REQ_CREDIT_BUREAU_DAY</th>\n",
       "      <th>AMT_REQ_CREDIT_BUREAU_WEEK</th>\n",
       "      <th>AMT_REQ_CREDIT_BUREAU_MON</th>\n",
       "      <th>AMT_REQ_CREDIT_BUREAU_QRT</th>\n",
       "      <th>AMT_REQ_CREDIT_BUREAU_YEAR</th>\n",
       "    </tr>\n",
       "  </thead>\n",
       "  <tbody>\n",
       "    <tr>\n",
       "      <th>0</th>\n",
       "      <td>100002</td>\n",
       "      <td>1</td>\n",
       "      <td>Cash loans</td>\n",
       "      <td>M</td>\n",
       "      <td>N</td>\n",
       "      <td>Y</td>\n",
       "      <td>0</td>\n",
       "      <td>202500.0</td>\n",
       "      <td>406597.5</td>\n",
       "      <td>24700.5</td>\n",
       "      <td>...</td>\n",
       "      <td>0</td>\n",
       "      <td>0</td>\n",
       "      <td>0</td>\n",
       "      <td>0</td>\n",
       "      <td>0.0</td>\n",
       "      <td>0.0</td>\n",
       "      <td>0.0</td>\n",
       "      <td>0.0</td>\n",
       "      <td>0.0</td>\n",
       "      <td>1.0</td>\n",
       "    </tr>\n",
       "    <tr>\n",
       "      <th>1</th>\n",
       "      <td>100003</td>\n",
       "      <td>0</td>\n",
       "      <td>Cash loans</td>\n",
       "      <td>F</td>\n",
       "      <td>N</td>\n",
       "      <td>N</td>\n",
       "      <td>0</td>\n",
       "      <td>270000.0</td>\n",
       "      <td>1293502.5</td>\n",
       "      <td>35698.5</td>\n",
       "      <td>...</td>\n",
       "      <td>0</td>\n",
       "      <td>0</td>\n",
       "      <td>0</td>\n",
       "      <td>0</td>\n",
       "      <td>0.0</td>\n",
       "      <td>0.0</td>\n",
       "      <td>0.0</td>\n",
       "      <td>0.0</td>\n",
       "      <td>0.0</td>\n",
       "      <td>0.0</td>\n",
       "    </tr>\n",
       "    <tr>\n",
       "      <th>2</th>\n",
       "      <td>100004</td>\n",
       "      <td>0</td>\n",
       "      <td>Revolving loans</td>\n",
       "      <td>M</td>\n",
       "      <td>Y</td>\n",
       "      <td>Y</td>\n",
       "      <td>0</td>\n",
       "      <td>67500.0</td>\n",
       "      <td>135000.0</td>\n",
       "      <td>6750.0</td>\n",
       "      <td>...</td>\n",
       "      <td>0</td>\n",
       "      <td>0</td>\n",
       "      <td>0</td>\n",
       "      <td>0</td>\n",
       "      <td>0.0</td>\n",
       "      <td>0.0</td>\n",
       "      <td>0.0</td>\n",
       "      <td>0.0</td>\n",
       "      <td>0.0</td>\n",
       "      <td>0.0</td>\n",
       "    </tr>\n",
       "    <tr>\n",
       "      <th>3</th>\n",
       "      <td>100006</td>\n",
       "      <td>0</td>\n",
       "      <td>Cash loans</td>\n",
       "      <td>F</td>\n",
       "      <td>N</td>\n",
       "      <td>Y</td>\n",
       "      <td>0</td>\n",
       "      <td>135000.0</td>\n",
       "      <td>312682.5</td>\n",
       "      <td>29686.5</td>\n",
       "      <td>...</td>\n",
       "      <td>0</td>\n",
       "      <td>0</td>\n",
       "      <td>0</td>\n",
       "      <td>0</td>\n",
       "      <td>NaN</td>\n",
       "      <td>NaN</td>\n",
       "      <td>NaN</td>\n",
       "      <td>NaN</td>\n",
       "      <td>NaN</td>\n",
       "      <td>NaN</td>\n",
       "    </tr>\n",
       "    <tr>\n",
       "      <th>4</th>\n",
       "      <td>100007</td>\n",
       "      <td>0</td>\n",
       "      <td>Cash loans</td>\n",
       "      <td>M</td>\n",
       "      <td>N</td>\n",
       "      <td>Y</td>\n",
       "      <td>0</td>\n",
       "      <td>121500.0</td>\n",
       "      <td>513000.0</td>\n",
       "      <td>21865.5</td>\n",
       "      <td>...</td>\n",
       "      <td>0</td>\n",
       "      <td>0</td>\n",
       "      <td>0</td>\n",
       "      <td>0</td>\n",
       "      <td>0.0</td>\n",
       "      <td>0.0</td>\n",
       "      <td>0.0</td>\n",
       "      <td>0.0</td>\n",
       "      <td>0.0</td>\n",
       "      <td>0.0</td>\n",
       "    </tr>\n",
       "  </tbody>\n",
       "</table>\n",
       "<p>5 rows × 122 columns</p>\n",
       "</div>"
      ],
      "text/plain": [
       "   SK_ID_CURR  TARGET NAME_CONTRACT_TYPE CODE_GENDER FLAG_OWN_CAR  \\\n",
       "0      100002       1         Cash loans           M            N   \n",
       "1      100003       0         Cash loans           F            N   \n",
       "2      100004       0    Revolving loans           M            Y   \n",
       "3      100006       0         Cash loans           F            N   \n",
       "4      100007       0         Cash loans           M            N   \n",
       "\n",
       "  FLAG_OWN_REALTY  CNT_CHILDREN  AMT_INCOME_TOTAL  AMT_CREDIT  AMT_ANNUITY  \\\n",
       "0               Y             0          202500.0    406597.5      24700.5   \n",
       "1               N             0          270000.0   1293502.5      35698.5   \n",
       "2               Y             0           67500.0    135000.0       6750.0   \n",
       "3               Y             0          135000.0    312682.5      29686.5   \n",
       "4               Y             0          121500.0    513000.0      21865.5   \n",
       "\n",
       "              ...              FLAG_DOCUMENT_18 FLAG_DOCUMENT_19  \\\n",
       "0             ...                             0                0   \n",
       "1             ...                             0                0   \n",
       "2             ...                             0                0   \n",
       "3             ...                             0                0   \n",
       "4             ...                             0                0   \n",
       "\n",
       "  FLAG_DOCUMENT_20 FLAG_DOCUMENT_21 AMT_REQ_CREDIT_BUREAU_HOUR  \\\n",
       "0                0                0                        0.0   \n",
       "1                0                0                        0.0   \n",
       "2                0                0                        0.0   \n",
       "3                0                0                        NaN   \n",
       "4                0                0                        0.0   \n",
       "\n",
       "  AMT_REQ_CREDIT_BUREAU_DAY  AMT_REQ_CREDIT_BUREAU_WEEK  \\\n",
       "0                       0.0                         0.0   \n",
       "1                       0.0                         0.0   \n",
       "2                       0.0                         0.0   \n",
       "3                       NaN                         NaN   \n",
       "4                       0.0                         0.0   \n",
       "\n",
       "   AMT_REQ_CREDIT_BUREAU_MON  AMT_REQ_CREDIT_BUREAU_QRT  \\\n",
       "0                        0.0                        0.0   \n",
       "1                        0.0                        0.0   \n",
       "2                        0.0                        0.0   \n",
       "3                        NaN                        NaN   \n",
       "4                        0.0                        0.0   \n",
       "\n",
       "   AMT_REQ_CREDIT_BUREAU_YEAR  \n",
       "0                         1.0  \n",
       "1                         0.0  \n",
       "2                         0.0  \n",
       "3                         NaN  \n",
       "4                         0.0  \n",
       "\n",
       "[5 rows x 122 columns]"
      ]
     },
     "execution_count": 2,
     "metadata": {},
     "output_type": "execute_result"
    }
   ],
   "source": [
    "app_train = pd.read_csv(path + \"application_train.csv\")\n",
    "app_train.head()"
   ]
  },
  {
   "cell_type": "markdown",
   "metadata": {
    "_cell_guid": "9bf8c10b-badd-4189-bcfb-a110774ac101",
    "_uuid": "5e5162264f6388b141ece6c9045f893e49ee17d6"
   },
   "source": [
    "> There is the information about a total of 307,511 loans and a total of 122 columns. \n",
    "\n",
    "## 2.2 Distribution of Target Variable "
   ]
  },
  {
   "cell_type": "code",
   "execution_count": 3,
   "metadata": {
    "_cell_guid": "5d0d7438-35db-4da1-937f-fcd7cfcc0d2e",
    "_kg_hide-input": true,
    "_uuid": "aa165b85c9d4d5d990ce4510df8e78d378b545a1"
   },
   "outputs": [
    {
     "data": {
      "application/vnd.plotly.v1+json": {
       "data": [
        {
         "marker": {
          "color": [
           "#44ff54",
           "#ff4444"
          ]
         },
         "orientation": "h",
         "type": "bar",
         "x": [
          24825,
          282686
         ],
         "y": [
          "Target : 1",
          "Target : 0"
         ]
        }
       ],
       "layout": {
        "height": 400,
        "margin": {
         "l": 100
        },
        "title": "Distribution of Target Variable",
        "width": 800
       }
      },
      "text/html": [
       "<div id=\"400b04ff-66fc-4a49-830b-8280d853bf2f\" style=\"height: 400px; width: 800px;\" class=\"plotly-graph-div\"></div><script type=\"text/javascript\">require([\"plotly\"], function(Plotly) { window.PLOTLYENV=window.PLOTLYENV || {};window.PLOTLYENV.BASE_URL=\"https://plot.ly\";Plotly.newPlot(\"400b04ff-66fc-4a49-830b-8280d853bf2f\", [{\"type\": \"bar\", \"y\": [\"Target : 1\", \"Target : 0\"], \"orientation\": \"h\", \"marker\": {\"color\": [\"#44ff54\", \"#ff4444\"]}, \"x\": [24825, 282686]}], {\"width\": 800, \"margin\": {\"l\": 100}, \"height\": 400, \"title\": \"Distribution of Target Variable\"}, {\"showLink\": true, \"linkText\": \"Export to plot.ly\"})});</script>"
      ],
      "text/vnd.plotly.v1+html": [
       "<div id=\"400b04ff-66fc-4a49-830b-8280d853bf2f\" style=\"height: 400px; width: 800px;\" class=\"plotly-graph-div\"></div><script type=\"text/javascript\">require([\"plotly\"], function(Plotly) { window.PLOTLYENV=window.PLOTLYENV || {};window.PLOTLYENV.BASE_URL=\"https://plot.ly\";Plotly.newPlot(\"400b04ff-66fc-4a49-830b-8280d853bf2f\", [{\"type\": \"bar\", \"y\": [\"Target : 1\", \"Target : 0\"], \"orientation\": \"h\", \"marker\": {\"color\": [\"#44ff54\", \"#ff4444\"]}, \"x\": [24825, 282686]}], {\"width\": 800, \"margin\": {\"l\": 100}, \"height\": 400, \"title\": \"Distribution of Target Variable\"}, {\"showLink\": true, \"linkText\": \"Export to plot.ly\"})});</script>"
      ]
     },
     "metadata": {},
     "output_type": "display_data"
    }
   ],
   "source": [
    "# Target Variable Distribution \n",
    "bar_hor(app_train, \"TARGET\", \"Distribution of Target Variable\" , [\"#44ff54\", '#ff4444'], h=400, w=800, lm=100, xlb = ['Target : 1','Target : 0'])"
   ]
  },
  {
   "cell_type": "markdown",
   "metadata": {
    "_cell_guid": "44d9c548-9c20-4bcd-8405-75acf0d3551d",
    "_uuid": "9c1628bd75bee880b7ef2feb61907ff25059cc53"
   },
   "source": [
    "> - The target variable consists of about 282K (85%) loans having target variable = 0 while only 24K rows are there having target = 1. \n",
    "\n",
    "## 2.3 Which Gender and Contract Type applies for loan\n",
    "\n",
    "### 2.3.1 Distirbution of Gender and Contract"
   ]
  },
  {
   "cell_type": "code",
   "execution_count": 4,
   "metadata": {
    "_cell_guid": "442df618-0d36-4575-8802-9e6db878abe9",
    "_kg_hide-input": true,
    "_uuid": "c5e85db5cdb92d5c662e2e43f88954acef42eb4a"
   },
   "outputs": [
    {
     "data": {
      "application/vnd.plotly.v1+json": {
       "data": [
        {
         "marker": {
          "color": "#639af2"
         },
         "orientation": "h",
         "type": "bar",
         "x": [
          4,
          105059,
          202448
         ],
         "xaxis": "x1",
         "y": [
          "XNA",
          "M",
          "F"
         ],
         "yaxis": "y1"
        },
        {
         "marker": {
          "color": "#a4c5f9"
         },
         "orientation": "h",
         "type": "bar",
         "x": [
          29279,
          278232
         ],
         "xaxis": "x2",
         "y": [
          "Revolving loans",
          "Cash loans"
         ],
         "yaxis": "y2"
        }
       ],
       "layout": {
        "annotations": [
         {
          "font": {
           "size": 16
          },
          "showarrow": false,
          "text": "Gender",
          "x": 0.225,
          "xanchor": "center",
          "xref": "paper",
          "y": 1,
          "yanchor": "bottom",
          "yref": "paper"
         },
         {
          "font": {
           "size": 16
          },
          "showarrow": false,
          "text": "Contract Type",
          "x": 0.775,
          "xanchor": "center",
          "xref": "paper",
          "y": 1,
          "yanchor": "bottom",
          "yref": "paper"
         }
        ],
        "height": 400,
        "margin": {
         "b": 100
        },
        "showlegend": false,
        "xaxis1": {
         "anchor": "y1",
         "domain": [
          0,
          0.45
         ]
        },
        "xaxis2": {
         "anchor": "y2",
         "domain": [
          0.55,
          1
         ]
        },
        "yaxis1": {
         "anchor": "x1",
         "domain": [
          0,
          1
         ]
        },
        "yaxis2": {
         "anchor": "x2",
         "domain": [
          0,
          1
         ]
        }
       }
      },
      "text/html": [
       "<div id=\"05479565-51db-412a-b538-a862e4df7ed0\" style=\"height: 400px; width: 100%;\" class=\"plotly-graph-div\"></div><script type=\"text/javascript\">require([\"plotly\"], function(Plotly) { window.PLOTLYENV=window.PLOTLYENV || {};window.PLOTLYENV.BASE_URL=\"https://plot.ly\";Plotly.newPlot(\"05479565-51db-412a-b538-a862e4df7ed0\", [{\"y\": [\"XNA\", \"M\", \"F\"], \"marker\": {\"color\": \"#639af2\"}, \"yaxis\": \"y1\", \"type\": \"bar\", \"orientation\": \"h\", \"xaxis\": \"x1\", \"x\": [4, 105059, 202448]}, {\"y\": [\"Revolving loans\", \"Cash loans\"], \"x\": [29279, 278232], \"yaxis\": \"y2\", \"type\": \"bar\", \"marker\": {\"color\": \"#a4c5f9\"}, \"xaxis\": \"x2\", \"orientation\": \"h\"}], {\"xaxis2\": {\"domain\": [0.55, 1.0], \"anchor\": \"y2\"}, \"yaxis1\": {\"domain\": [0.0, 1.0], \"anchor\": \"x1\"}, \"yaxis2\": {\"domain\": [0.0, 1.0], \"anchor\": \"x2\"}, \"showlegend\": false, \"xaxis1\": {\"domain\": [0.0, 0.45], \"anchor\": \"y1\"}, \"margin\": {\"b\": 100}, \"annotations\": [{\"y\": 1.0, \"font\": {\"size\": 16}, \"xref\": \"paper\", \"showarrow\": false, \"yref\": \"paper\", \"text\": \"Gender\", \"x\": 0.225, \"xanchor\": \"center\", \"yanchor\": \"bottom\"}, {\"y\": 1.0, \"font\": {\"size\": 16}, \"xref\": \"paper\", \"showarrow\": false, \"yref\": \"paper\", \"text\": \"Contract Type\", \"x\": 0.775, \"xanchor\": \"center\", \"yanchor\": \"bottom\"}], \"height\": 400}, {\"showLink\": true, \"linkText\": \"Export to plot.ly\"})});</script>"
      ],
      "text/vnd.plotly.v1+html": [
       "<div id=\"05479565-51db-412a-b538-a862e4df7ed0\" style=\"height: 400px; width: 100%;\" class=\"plotly-graph-div\"></div><script type=\"text/javascript\">require([\"plotly\"], function(Plotly) { window.PLOTLYENV=window.PLOTLYENV || {};window.PLOTLYENV.BASE_URL=\"https://plot.ly\";Plotly.newPlot(\"05479565-51db-412a-b538-a862e4df7ed0\", [{\"y\": [\"XNA\", \"M\", \"F\"], \"marker\": {\"color\": \"#639af2\"}, \"yaxis\": \"y1\", \"type\": \"bar\", \"orientation\": \"h\", \"xaxis\": \"x1\", \"x\": [4, 105059, 202448]}, {\"y\": [\"Revolving loans\", \"Cash loans\"], \"x\": [29279, 278232], \"yaxis\": \"y2\", \"type\": \"bar\", \"marker\": {\"color\": \"#a4c5f9\"}, \"xaxis\": \"x2\", \"orientation\": \"h\"}], {\"xaxis2\": {\"domain\": [0.55, 1.0], \"anchor\": \"y2\"}, \"yaxis1\": {\"domain\": [0.0, 1.0], \"anchor\": \"x1\"}, \"yaxis2\": {\"domain\": [0.0, 1.0], \"anchor\": \"x2\"}, \"showlegend\": false, \"xaxis1\": {\"domain\": [0.0, 0.45], \"anchor\": \"y1\"}, \"margin\": {\"b\": 100}, \"annotations\": [{\"y\": 1.0, \"font\": {\"size\": 16}, \"xref\": \"paper\", \"showarrow\": false, \"yref\": \"paper\", \"text\": \"Gender\", \"x\": 0.225, \"xanchor\": \"center\", \"yanchor\": \"bottom\"}, {\"y\": 1.0, \"font\": {\"size\": 16}, \"xref\": \"paper\", \"showarrow\": false, \"yref\": \"paper\", \"text\": \"Contract Type\", \"x\": 0.775, \"xanchor\": \"center\", \"yanchor\": \"bottom\"}], \"height\": 400}, {\"showLink\": true, \"linkText\": \"Export to plot.ly\"})});</script>"
      ]
     },
     "metadata": {},
     "output_type": "display_data"
    }
   ],
   "source": [
    "tr1 = bar_hor(app_train, \"CODE_GENDER\", \"Distribution of CODE_GENDER Variable\" ,\"#639af2\", w=700, lm=100, return_trace= True)\n",
    "tr2 = bar_hor(app_train, \"NAME_CONTRACT_TYPE\", \"Distribution of NAME_CONTRACT_TYPE Variable\" ,\"#a4c5f9\", w=700, lm=100, return_trace = True)\n",
    "\n",
    "fig = tools.make_subplots(rows=1, cols=2, print_grid=False, subplot_titles = ['Gender' , 'Contract Type'])\n",
    "fig.append_trace(tr1, 1, 1);\n",
    "fig.append_trace(tr2, 1, 2);\n",
    "fig['layout'].update(height=400, showlegend=False, margin=dict(b=100));\n",
    "iplot(fig);"
   ]
  },
  {
   "cell_type": "markdown",
   "metadata": {
    "_cell_guid": "96ae684a-03b3-4c72-8d2b-f03749262478",
    "_uuid": "10eb60b32bea62df50a09b8dd17151c8974bfa28"
   },
   "source": [
    "> Gender wise, Females has applied for a larger number of lonas (202448) as compared to males (105059). Cash loans with about 278K loans contributes to a majorty of total lonas in this dataset. Revolving loans has significantly lesser number equal to about 29K as compared to Cash loans. \n",
    "\n",
    "### 2.3.2 How does Target with Gender and Contract Type "
   ]
  },
  {
   "cell_type": "code",
   "execution_count": 5,
   "metadata": {
    "_cell_guid": "252d33aa-3b8c-4ec8-8632-224aa55cee66",
    "_kg_hide-input": true,
    "_uuid": "4c51257cf3a0004b4a9e771a256d1d923ec6a5ce"
   },
   "outputs": [
    {
     "data": {
      "application/vnd.plotly.v1+json": {
       "data": [
        {
         "marker": {
          "color": "#44ff54"
         },
         "name": "Target : 1",
         "type": "bar",
         "x": [
          "F",
          "M"
         ],
         "y": [
          14170,
          10655
         ]
        },
        {
         "marker": {
          "color": "#ff4444"
         },
         "name": "Target : 0",
         "type": "bar",
         "x": [
          "F",
          "M",
          "XNA"
         ],
         "y": [
          188278,
          94404,
          4
         ]
        }
       ],
       "layout": {
        "barmode": "group",
        "height": 300,
        "title": "Distribution of Target with Gender"
       }
      },
      "text/html": [
       "<div id=\"e81aa561-50ec-42a5-85bc-6e2293f7a47b\" style=\"height: 300px; width: 100%;\" class=\"plotly-graph-div\"></div><script type=\"text/javascript\">require([\"plotly\"], function(Plotly) { window.PLOTLYENV=window.PLOTLYENV || {};window.PLOTLYENV.BASE_URL=\"https://plot.ly\";Plotly.newPlot(\"e81aa561-50ec-42a5-85bc-6e2293f7a47b\", [{\"type\": \"bar\", \"y\": [14170, 10655], \"name\": \"Target : 1\", \"marker\": {\"color\": \"#44ff54\"}, \"x\": [\"F\", \"M\"]}, {\"type\": \"bar\", \"y\": [188278, 94404, 4], \"name\": \"Target : 0\", \"marker\": {\"color\": \"#ff4444\"}, \"x\": [\"F\", \"M\", \"XNA\"]}], {\"barmode\": \"group\", \"height\": 300, \"title\": \"Distribution of Target with Gender\"}, {\"showLink\": true, \"linkText\": \"Export to plot.ly\"})});</script>"
      ],
      "text/vnd.plotly.v1+html": [
       "<div id=\"e81aa561-50ec-42a5-85bc-6e2293f7a47b\" style=\"height: 300px; width: 100%;\" class=\"plotly-graph-div\"></div><script type=\"text/javascript\">require([\"plotly\"], function(Plotly) { window.PLOTLYENV=window.PLOTLYENV || {};window.PLOTLYENV.BASE_URL=\"https://plot.ly\";Plotly.newPlot(\"e81aa561-50ec-42a5-85bc-6e2293f7a47b\", [{\"type\": \"bar\", \"y\": [14170, 10655], \"name\": \"Target : 1\", \"marker\": {\"color\": \"#44ff54\"}, \"x\": [\"F\", \"M\"]}, {\"type\": \"bar\", \"y\": [188278, 94404, 4], \"name\": \"Target : 0\", \"marker\": {\"color\": \"#ff4444\"}, \"x\": [\"F\", \"M\", \"XNA\"]}], {\"barmode\": \"group\", \"height\": 300, \"title\": \"Distribution of Target with Gender\"}, {\"showLink\": true, \"linkText\": \"Export to plot.ly\"})});</script>"
      ]
     },
     "metadata": {},
     "output_type": "display_data"
    },
    {
     "data": {
      "application/vnd.plotly.v1+json": {
       "data": [
        {
         "marker": {
          "color": "#44ff54"
         },
         "name": "Target : 1",
         "type": "bar",
         "x": [
          "Cash loans",
          "Revolving loans"
         ],
         "y": [
          23221,
          1604
         ]
        },
        {
         "marker": {
          "color": "#ff4444"
         },
         "name": "Target : 0",
         "type": "bar",
         "x": [
          "Cash loans",
          "Revolving loans"
         ],
         "y": [
          255011,
          27675
         ]
        }
       ],
       "layout": {
        "barmode": "group",
        "height": 300,
        "title": "Distribution of Target with Contract Type"
       }
      },
      "text/html": [
       "<div id=\"f5135d75-cf34-4b5a-a683-ea5bdfb23690\" style=\"height: 300px; width: 100%;\" class=\"plotly-graph-div\"></div><script type=\"text/javascript\">require([\"plotly\"], function(Plotly) { window.PLOTLYENV=window.PLOTLYENV || {};window.PLOTLYENV.BASE_URL=\"https://plot.ly\";Plotly.newPlot(\"f5135d75-cf34-4b5a-a683-ea5bdfb23690\", [{\"type\": \"bar\", \"y\": [23221, 1604], \"name\": \"Target : 1\", \"marker\": {\"color\": \"#44ff54\"}, \"x\": [\"Cash loans\", \"Revolving loans\"]}, {\"type\": \"bar\", \"y\": [255011, 27675], \"name\": \"Target : 0\", \"marker\": {\"color\": \"#ff4444\"}, \"x\": [\"Cash loans\", \"Revolving loans\"]}], {\"barmode\": \"group\", \"height\": 300, \"title\": \"Distribution of Target with Contract Type\"}, {\"showLink\": true, \"linkText\": \"Export to plot.ly\"})});</script>"
      ],
      "text/vnd.plotly.v1+html": [
       "<div id=\"f5135d75-cf34-4b5a-a683-ea5bdfb23690\" style=\"height: 300px; width: 100%;\" class=\"plotly-graph-div\"></div><script type=\"text/javascript\">require([\"plotly\"], function(Plotly) { window.PLOTLYENV=window.PLOTLYENV || {};window.PLOTLYENV.BASE_URL=\"https://plot.ly\";Plotly.newPlot(\"f5135d75-cf34-4b5a-a683-ea5bdfb23690\", [{\"type\": \"bar\", \"y\": [23221, 1604], \"name\": \"Target : 1\", \"marker\": {\"color\": \"#44ff54\"}, \"x\": [\"Cash loans\", \"Revolving loans\"]}, {\"type\": \"bar\", \"y\": [255011, 27675], \"name\": \"Target : 0\", \"marker\": {\"color\": \"#ff4444\"}, \"x\": [\"Cash loans\", \"Revolving loans\"]}], {\"barmode\": \"group\", \"height\": 300, \"title\": \"Distribution of Target with Contract Type\"}, {\"showLink\": true, \"linkText\": \"Export to plot.ly\"})});</script>"
      ]
     },
     "metadata": {},
     "output_type": "display_data"
    }
   ],
   "source": [
    "gp('CODE_GENDER', 'Distribution of Target with Gender')\n",
    "gp('NAME_CONTRACT_TYPE', 'Distribution of Target with Contract Type')"
   ]
  },
  {
   "cell_type": "markdown",
   "metadata": {
    "_cell_guid": "b1b9da54-1677-4d4b-9077-5643e66da284",
    "_uuid": "e29313e46e0914fd8d183a01a95f4c325f597714"
   },
   "source": [
    "## 2.4. Own Realty and Own Car"
   ]
  },
  {
   "cell_type": "code",
   "execution_count": 6,
   "metadata": {
    "_cell_guid": "13575cba-492d-4888-864e-c2faeb88cd17",
    "_kg_hide-input": true,
    "_uuid": "e4346a77344f67b931f1f697fd6bc5225ecb19cc"
   },
   "outputs": [
    {
     "data": {
      "application/vnd.plotly.v1+json": {
       "data": [
        {
         "marker": {
          "color": "#639af2"
         },
         "orientation": "h",
         "type": "bar",
         "x": [
          94199,
          213312
         ],
         "xaxis": "x1",
         "y": [
          "N",
          "Y"
         ],
         "yaxis": "y1"
        },
        {
         "marker": {
          "color": "#639af2"
         },
         "orientation": "h",
         "type": "bar",
         "x": [
          104587,
          202924
         ],
         "xaxis": "x2",
         "y": [
          "Y",
          "N"
         ],
         "yaxis": "y2"
        }
       ],
       "layout": {
        "annotations": [
         {
          "font": {
           "size": 16
          },
          "showarrow": false,
          "text": "Own Realty",
          "x": 0.225,
          "xanchor": "center",
          "xref": "paper",
          "y": 1,
          "yanchor": "bottom",
          "yref": "paper"
         },
         {
          "font": {
           "size": 16
          },
          "showarrow": false,
          "text": "Own CAR",
          "x": 0.775,
          "xanchor": "center",
          "xref": "paper",
          "y": 1,
          "yanchor": "bottom",
          "yref": "paper"
         }
        ],
        "height": 400,
        "margin": {
         "b": 100
        },
        "showlegend": false,
        "xaxis1": {
         "anchor": "y1",
         "domain": [
          0,
          0.45
         ]
        },
        "xaxis2": {
         "anchor": "y2",
         "domain": [
          0.55,
          1
         ]
        },
        "yaxis1": {
         "anchor": "x1",
         "domain": [
          0,
          1
         ]
        },
        "yaxis2": {
         "anchor": "x2",
         "domain": [
          0,
          1
         ]
        }
       }
      },
      "text/html": [
       "<div id=\"4758f09f-c759-41e2-b62a-ae9d8824f2a0\" style=\"height: 400px; width: 100%;\" class=\"plotly-graph-div\"></div><script type=\"text/javascript\">require([\"plotly\"], function(Plotly) { window.PLOTLYENV=window.PLOTLYENV || {};window.PLOTLYENV.BASE_URL=\"https://plot.ly\";Plotly.newPlot(\"4758f09f-c759-41e2-b62a-ae9d8824f2a0\", [{\"y\": [\"N\", \"Y\"], \"marker\": {\"color\": \"#639af2\"}, \"yaxis\": \"y1\", \"type\": \"bar\", \"orientation\": \"h\", \"xaxis\": \"x1\", \"x\": [94199, 213312]}, {\"y\": [\"Y\", \"N\"], \"x\": [104587, 202924], \"yaxis\": \"y2\", \"type\": \"bar\", \"marker\": {\"color\": \"#639af2\"}, \"xaxis\": \"x2\", \"orientation\": \"h\"}], {\"xaxis2\": {\"domain\": [0.55, 1.0], \"anchor\": \"y2\"}, \"yaxis1\": {\"domain\": [0.0, 1.0], \"anchor\": \"x1\"}, \"yaxis2\": {\"domain\": [0.0, 1.0], \"anchor\": \"x2\"}, \"showlegend\": false, \"xaxis1\": {\"domain\": [0.0, 0.45], \"anchor\": \"y1\"}, \"margin\": {\"b\": 100}, \"annotations\": [{\"y\": 1.0, \"font\": {\"size\": 16}, \"xref\": \"paper\", \"showarrow\": false, \"yref\": \"paper\", \"text\": \"Own Realty\", \"x\": 0.225, \"xanchor\": \"center\", \"yanchor\": \"bottom\"}, {\"y\": 1.0, \"font\": {\"size\": 16}, \"xref\": \"paper\", \"showarrow\": false, \"yref\": \"paper\", \"text\": \"Own CAR\", \"x\": 0.775, \"xanchor\": \"center\", \"yanchor\": \"bottom\"}], \"height\": 400}, {\"showLink\": true, \"linkText\": \"Export to plot.ly\"})});</script>"
      ],
      "text/vnd.plotly.v1+html": [
       "<div id=\"4758f09f-c759-41e2-b62a-ae9d8824f2a0\" style=\"height: 400px; width: 100%;\" class=\"plotly-graph-div\"></div><script type=\"text/javascript\">require([\"plotly\"], function(Plotly) { window.PLOTLYENV=window.PLOTLYENV || {};window.PLOTLYENV.BASE_URL=\"https://plot.ly\";Plotly.newPlot(\"4758f09f-c759-41e2-b62a-ae9d8824f2a0\", [{\"y\": [\"N\", \"Y\"], \"marker\": {\"color\": \"#639af2\"}, \"yaxis\": \"y1\", \"type\": \"bar\", \"orientation\": \"h\", \"xaxis\": \"x1\", \"x\": [94199, 213312]}, {\"y\": [\"Y\", \"N\"], \"x\": [104587, 202924], \"yaxis\": \"y2\", \"type\": \"bar\", \"marker\": {\"color\": \"#639af2\"}, \"xaxis\": \"x2\", \"orientation\": \"h\"}], {\"xaxis2\": {\"domain\": [0.55, 1.0], \"anchor\": \"y2\"}, \"yaxis1\": {\"domain\": [0.0, 1.0], \"anchor\": \"x1\"}, \"yaxis2\": {\"domain\": [0.0, 1.0], \"anchor\": \"x2\"}, \"showlegend\": false, \"xaxis1\": {\"domain\": [0.0, 0.45], \"anchor\": \"y1\"}, \"margin\": {\"b\": 100}, \"annotations\": [{\"y\": 1.0, \"font\": {\"size\": 16}, \"xref\": \"paper\", \"showarrow\": false, \"yref\": \"paper\", \"text\": \"Own Realty\", \"x\": 0.225, \"xanchor\": \"center\", \"yanchor\": \"bottom\"}, {\"y\": 1.0, \"font\": {\"size\": 16}, \"xref\": \"paper\", \"showarrow\": false, \"yref\": \"paper\", \"text\": \"Own CAR\", \"x\": 0.775, \"xanchor\": \"center\", \"yanchor\": \"bottom\"}], \"height\": 400}, {\"showLink\": true, \"linkText\": \"Export to plot.ly\"})});</script>"
      ]
     },
     "metadata": {},
     "output_type": "display_data"
    }
   ],
   "source": [
    "#tr1 = bar_hor(app_train, \"FLAG_OWN_REALTY\", \"Distribution of FLAG_OWN_REALTY\" ,\"#639af2\", w=700, lm=100, return_trace= True)\n",
    "#tr2 = bar_hor(app_train, \"FLAG_OWN_CAR\", \"Distribution of FLAG_OWN_CAR\" ,\"#639af2\", w=700, lm=100, return_trace = True)\n",
    "#gp('FLAG_OWN_REALTY', 'Distribution of Target with Gender')\n",
    "#gp('FLAG_OWN_CAR', 'Distribution of Target with Contract Type')\n",
    "#fig = tools.make_subplots(rows=1, cols=2, print_grid=False, subplot_titles = ['Own Realty' , 'Own CAR'])\n",
    "#fig.append_trace(tr1, 1, 1);\n",
    "#fig.append_trace(tr2, 1, 2);\n",
    "#fig['layout'].update(height=400, showlegend=False, margin=dict(b=100));\n",
    "#iplot(fig);\n",
    "\n",
    "\n",
    "tr1 = bar_hor(app_train, \"FLAG_OWN_REALTY\", \"Distribution of FLAG_OWN_REALTY\" ,\"#639af2\", w=700, lm=100, return_trace= True)\n",
    "tr2 = bar_hor(app_train, \"FLAG_OWN_CAR\", \"Distribution of FLAG_OWN_CAR\" ,\"#639af2\", w=700, lm=100, return_trace = True)\n",
    "\n",
    "fig = tools.make_subplots(rows=1, cols=2, print_grid=False, subplot_titles = ['Own Realty' , 'Own CAR'])\n",
    "fig.append_trace(tr1, 1, 1);\n",
    "fig.append_trace(tr2, 1, 2);\n",
    "fig['layout'].update(height=400, showlegend=False, margin=dict(b=100));\n",
    "iplot(fig);"
   ]
  },
  {
   "cell_type": "markdown",
   "metadata": {
    "_cell_guid": "0a1daaef-b843-4f3f-8656-42b9e3036329",
    "_uuid": "0981a3c786e21b7026f2ddd823450d24ff97f8ab"
   },
   "source": [
    "## 2.5 Suite Type and Income Type of Applicants \n",
    "\n",
    "### 2.5.1 What are the Suite Type and Income Types "
   ]
  },
  {
   "cell_type": "code",
   "execution_count": 7,
   "metadata": {
    "_cell_guid": "d6ee79a4-de90-4c89-a1ce-61ad3e4fd87e",
    "_kg_hide-input": true,
    "_uuid": "5420e580caf623e6782339566b483b077a57ebca"
   },
   "outputs": [
    {
     "data": {
      "application/vnd.plotly.v1+json": {
       "data": [
        {
         "marker": {
          "color": "#639af2"
         },
         "orientation": "h",
         "type": "bar",
         "x": [
          271,
          866,
          1770,
          3267,
          11370,
          40149,
          248526
         ],
         "xaxis": "x1",
         "y": [
          "Group of people",
          "Other_A",
          "Other_B",
          "Children",
          "Spouse, partner",
          "Family",
          "Unaccompanied"
         ],
         "yaxis": "y1"
        },
        {
         "marker": {
          "color": "#a4c5f9"
         },
         "orientation": "h",
         "type": "bar",
         "x": [
          5,
          10,
          18,
          22,
          21703,
          55362,
          71617,
          158774
         ],
         "xaxis": "x2",
         "y": [
          "Maternity leave",
          "Businessman",
          "Student",
          "Unemployed",
          "State servant",
          "Pensioner",
          "Commercial associate",
          "Working"
         ],
         "yaxis": "y2"
        }
       ],
       "layout": {
        "annotations": [
         {
          "font": {
           "size": 16
          },
          "showarrow": false,
          "text": "Applicants Suite Type",
          "x": 0.225,
          "xanchor": "center",
          "xref": "paper",
          "y": 1,
          "yanchor": "bottom",
          "yref": "paper"
         },
         {
          "font": {
           "size": 16
          },
          "showarrow": false,
          "text": "Applicants Income Type",
          "x": 0.775,
          "xanchor": "center",
          "xref": "paper",
          "y": 1,
          "yanchor": "bottom",
          "yref": "paper"
         }
        ],
        "height": 400,
        "margin": {
         "l": 100
        },
        "showlegend": false,
        "xaxis1": {
         "anchor": "y1",
         "domain": [
          0,
          0.45
         ]
        },
        "xaxis2": {
         "anchor": "y2",
         "domain": [
          0.55,
          1
         ]
        },
        "yaxis1": {
         "anchor": "x1",
         "domain": [
          0,
          1
         ]
        },
        "yaxis2": {
         "anchor": "x2",
         "domain": [
          0,
          1
         ]
        }
       }
      },
      "text/html": [
       "<div id=\"48790a18-5e99-422d-9a67-85eb88d7f793\" style=\"height: 400px; width: 100%;\" class=\"plotly-graph-div\"></div><script type=\"text/javascript\">require([\"plotly\"], function(Plotly) { window.PLOTLYENV=window.PLOTLYENV || {};window.PLOTLYENV.BASE_URL=\"https://plot.ly\";Plotly.newPlot(\"48790a18-5e99-422d-9a67-85eb88d7f793\", [{\"y\": [\"Group of people\", \"Other_A\", \"Other_B\", \"Children\", \"Spouse, partner\", \"Family\", \"Unaccompanied\"], \"marker\": {\"color\": \"#639af2\"}, \"yaxis\": \"y1\", \"type\": \"bar\", \"orientation\": \"h\", \"xaxis\": \"x1\", \"x\": [271, 866, 1770, 3267, 11370, 40149, 248526]}, {\"y\": [\"Maternity leave\", \"Businessman\", \"Student\", \"Unemployed\", \"State servant\", \"Pensioner\", \"Commercial associate\", \"Working\"], \"x\": [5, 10, 18, 22, 21703, 55362, 71617, 158774], \"yaxis\": \"y2\", \"type\": \"bar\", \"marker\": {\"color\": \"#a4c5f9\"}, \"xaxis\": \"x2\", \"orientation\": \"h\"}], {\"xaxis2\": {\"domain\": [0.55, 1.0], \"anchor\": \"y2\"}, \"yaxis1\": {\"domain\": [0.0, 1.0], \"anchor\": \"x1\"}, \"yaxis2\": {\"domain\": [0.0, 1.0], \"anchor\": \"x2\"}, \"showlegend\": false, \"xaxis1\": {\"domain\": [0.0, 0.45], \"anchor\": \"y1\"}, \"margin\": {\"l\": 100}, \"annotations\": [{\"y\": 1.0, \"font\": {\"size\": 16}, \"xref\": \"paper\", \"showarrow\": false, \"yref\": \"paper\", \"text\": \"Applicants Suite Type\", \"x\": 0.225, \"xanchor\": \"center\", \"yanchor\": \"bottom\"}, {\"y\": 1.0, \"font\": {\"size\": 16}, \"xref\": \"paper\", \"showarrow\": false, \"yref\": \"paper\", \"text\": \"Applicants Income Type\", \"x\": 0.775, \"xanchor\": \"center\", \"yanchor\": \"bottom\"}], \"height\": 400}, {\"showLink\": true, \"linkText\": \"Export to plot.ly\"})});</script>"
      ],
      "text/vnd.plotly.v1+html": [
       "<div id=\"48790a18-5e99-422d-9a67-85eb88d7f793\" style=\"height: 400px; width: 100%;\" class=\"plotly-graph-div\"></div><script type=\"text/javascript\">require([\"plotly\"], function(Plotly) { window.PLOTLYENV=window.PLOTLYENV || {};window.PLOTLYENV.BASE_URL=\"https://plot.ly\";Plotly.newPlot(\"48790a18-5e99-422d-9a67-85eb88d7f793\", [{\"y\": [\"Group of people\", \"Other_A\", \"Other_B\", \"Children\", \"Spouse, partner\", \"Family\", \"Unaccompanied\"], \"marker\": {\"color\": \"#639af2\"}, \"yaxis\": \"y1\", \"type\": \"bar\", \"orientation\": \"h\", \"xaxis\": \"x1\", \"x\": [271, 866, 1770, 3267, 11370, 40149, 248526]}, {\"y\": [\"Maternity leave\", \"Businessman\", \"Student\", \"Unemployed\", \"State servant\", \"Pensioner\", \"Commercial associate\", \"Working\"], \"x\": [5, 10, 18, 22, 21703, 55362, 71617, 158774], \"yaxis\": \"y2\", \"type\": \"bar\", \"marker\": {\"color\": \"#a4c5f9\"}, \"xaxis\": \"x2\", \"orientation\": \"h\"}], {\"xaxis2\": {\"domain\": [0.55, 1.0], \"anchor\": \"y2\"}, \"yaxis1\": {\"domain\": [0.0, 1.0], \"anchor\": \"x1\"}, \"yaxis2\": {\"domain\": [0.0, 1.0], \"anchor\": \"x2\"}, \"showlegend\": false, \"xaxis1\": {\"domain\": [0.0, 0.45], \"anchor\": \"y1\"}, \"margin\": {\"l\": 100}, \"annotations\": [{\"y\": 1.0, \"font\": {\"size\": 16}, \"xref\": \"paper\", \"showarrow\": false, \"yref\": \"paper\", \"text\": \"Applicants Suite Type\", \"x\": 0.225, \"xanchor\": \"center\", \"yanchor\": \"bottom\"}, {\"y\": 1.0, \"font\": {\"size\": 16}, \"xref\": \"paper\", \"showarrow\": false, \"yref\": \"paper\", \"text\": \"Applicants Income Type\", \"x\": 0.775, \"xanchor\": \"center\", \"yanchor\": \"bottom\"}], \"height\": 400}, {\"showLink\": true, \"linkText\": \"Export to plot.ly\"})});</script>"
      ]
     },
     "metadata": {},
     "output_type": "display_data"
    }
   ],
   "source": [
    "tr1 = bar_hor(app_train, \"NAME_TYPE_SUITE\", \"Distribution of NAME_TYPE_SUITE\" ,\"#639af2\", w=700, lm=100, return_trace= True)\n",
    "tr2 = bar_hor(app_train, \"NAME_INCOME_TYPE\", \"Distribution of NAME_INCOME_TYPE\" ,\"#a4c5f9\", w=700, lm=100, return_trace = True)\n",
    "\n",
    "fig = tools.make_subplots(rows=1, cols=2, print_grid=False, subplot_titles = ['Applicants Suite Type' , 'Applicants Income Type'])\n",
    "fig.append_trace(tr1, 1, 1);\n",
    "fig.append_trace(tr2, 1, 2);\n",
    "fig['layout'].update(height=400, showlegend=False, margin=dict(l=100));\n",
    "iplot(fig);"
   ]
  },
  {
   "cell_type": "markdown",
   "metadata": {
    "_cell_guid": "cd90a9aa-f9bf-4bf5-a538-ba53f67fb765",
    "_uuid": "6c2ae07141da1dde8f99f8143c2b4dab5bf2be61"
   },
   "source": [
    "> Top 3 Type Suites which applies for loan are the houses which are unaccompanined with close to 250K applications, followed by Family and Spouse related families  \n",
    "> The income type of people who applies for loan include about 8 categroes, top ones are : \n",
    "    - Working Class (158K)\n",
    "    - Commercial Associate (71K)\n",
    "    - Pensiner (55K)\n",
    "\n",
    "### 2.5.2 How does Target Varies with Suite and Income Type of Applicants "
   ]
  },
  {
   "cell_type": "code",
   "execution_count": 8,
   "metadata": {
    "_cell_guid": "2c1c0b71-d841-4774-9f69-20e0c941c9a7",
    "_kg_hide-input": true,
    "_uuid": "62255e896cd313e4d725ed9e64b77fe57591538f"
   },
   "outputs": [
    {
     "data": {
      "application/vnd.plotly.v1+json": {
       "data": [
        {
         "marker": {
          "color": "#44ff54"
         },
         "name": "Target : 1",
         "type": "bar",
         "x": [
          "Unaccompanied",
          "Family",
          "Spouse, partner",
          "Children",
          "Other_B",
          "Other_A",
          "Group of people"
         ],
         "y": [
          20337,
          3009,
          895,
          241,
          174,
          76,
          23
         ]
        },
        {
         "marker": {
          "color": "#ff4444"
         },
         "name": "Target : 0",
         "type": "bar",
         "x": [
          "Unaccompanied",
          "Family",
          "Spouse, partner",
          "Children",
          "Other_B",
          "Other_A",
          "Group of people"
         ],
         "y": [
          228189,
          37140,
          10475,
          3026,
          1596,
          790,
          248
         ]
        }
       ],
       "layout": {
        "barmode": "group",
        "height": 300,
        "title": "Target with respect to Suite Type of Applicants"
       }
      },
      "text/html": [
       "<div id=\"bf59211c-936a-41a6-8ec1-0a7595b8b013\" style=\"height: 300px; width: 100%;\" class=\"plotly-graph-div\"></div><script type=\"text/javascript\">require([\"plotly\"], function(Plotly) { window.PLOTLYENV=window.PLOTLYENV || {};window.PLOTLYENV.BASE_URL=\"https://plot.ly\";Plotly.newPlot(\"bf59211c-936a-41a6-8ec1-0a7595b8b013\", [{\"type\": \"bar\", \"y\": [20337, 3009, 895, 241, 174, 76, 23], \"name\": \"Target : 1\", \"marker\": {\"color\": \"#44ff54\"}, \"x\": [\"Unaccompanied\", \"Family\", \"Spouse, partner\", \"Children\", \"Other_B\", \"Other_A\", \"Group of people\"]}, {\"type\": \"bar\", \"y\": [228189, 37140, 10475, 3026, 1596, 790, 248], \"name\": \"Target : 0\", \"marker\": {\"color\": \"#ff4444\"}, \"x\": [\"Unaccompanied\", \"Family\", \"Spouse, partner\", \"Children\", \"Other_B\", \"Other_A\", \"Group of people\"]}], {\"barmode\": \"group\", \"height\": 300, \"title\": \"Target with respect to Suite Type of Applicants\"}, {\"showLink\": true, \"linkText\": \"Export to plot.ly\"})});</script>"
      ],
      "text/vnd.plotly.v1+html": [
       "<div id=\"bf59211c-936a-41a6-8ec1-0a7595b8b013\" style=\"height: 300px; width: 100%;\" class=\"plotly-graph-div\"></div><script type=\"text/javascript\">require([\"plotly\"], function(Plotly) { window.PLOTLYENV=window.PLOTLYENV || {};window.PLOTLYENV.BASE_URL=\"https://plot.ly\";Plotly.newPlot(\"bf59211c-936a-41a6-8ec1-0a7595b8b013\", [{\"type\": \"bar\", \"y\": [20337, 3009, 895, 241, 174, 76, 23], \"name\": \"Target : 1\", \"marker\": {\"color\": \"#44ff54\"}, \"x\": [\"Unaccompanied\", \"Family\", \"Spouse, partner\", \"Children\", \"Other_B\", \"Other_A\", \"Group of people\"]}, {\"type\": \"bar\", \"y\": [228189, 37140, 10475, 3026, 1596, 790, 248], \"name\": \"Target : 0\", \"marker\": {\"color\": \"#ff4444\"}, \"x\": [\"Unaccompanied\", \"Family\", \"Spouse, partner\", \"Children\", \"Other_B\", \"Other_A\", \"Group of people\"]}], {\"barmode\": \"group\", \"height\": 300, \"title\": \"Target with respect to Suite Type of Applicants\"}, {\"showLink\": true, \"linkText\": \"Export to plot.ly\"})});</script>"
      ]
     },
     "metadata": {},
     "output_type": "display_data"
    },
    {
     "data": {
      "application/vnd.plotly.v1+json": {
       "data": [
        {
         "marker": {
          "color": "#44ff54"
         },
         "name": "Target : 1",
         "type": "bar",
         "x": [
          "Working",
          "Commercial associate",
          "Pensioner",
          "State servant",
          "Unemployed",
          "Maternity leave"
         ],
         "y": [
          15224,
          5360,
          2982,
          1249,
          8,
          2
         ]
        },
        {
         "marker": {
          "color": "#ff4444"
         },
         "name": "Target : 0",
         "type": "bar",
         "x": [
          "Working",
          "Commercial associate",
          "Pensioner",
          "State servant",
          "Student",
          "Unemployed",
          "Businessman",
          "Maternity leave"
         ],
         "y": [
          143550,
          66257,
          52380,
          20454,
          18,
          14,
          10,
          3
         ]
        }
       ],
       "layout": {
        "barmode": "group",
        "height": 300,
        "title": "Target with respect to Income Type of Applicants"
       }
      },
      "text/html": [
       "<div id=\"7ddd6870-d30b-4312-97ba-2d62e4c6a135\" style=\"height: 300px; width: 100%;\" class=\"plotly-graph-div\"></div><script type=\"text/javascript\">require([\"plotly\"], function(Plotly) { window.PLOTLYENV=window.PLOTLYENV || {};window.PLOTLYENV.BASE_URL=\"https://plot.ly\";Plotly.newPlot(\"7ddd6870-d30b-4312-97ba-2d62e4c6a135\", [{\"type\": \"bar\", \"y\": [15224, 5360, 2982, 1249, 8, 2], \"name\": \"Target : 1\", \"marker\": {\"color\": \"#44ff54\"}, \"x\": [\"Working\", \"Commercial associate\", \"Pensioner\", \"State servant\", \"Unemployed\", \"Maternity leave\"]}, {\"type\": \"bar\", \"y\": [143550, 66257, 52380, 20454, 18, 14, 10, 3], \"name\": \"Target : 0\", \"marker\": {\"color\": \"#ff4444\"}, \"x\": [\"Working\", \"Commercial associate\", \"Pensioner\", \"State servant\", \"Student\", \"Unemployed\", \"Businessman\", \"Maternity leave\"]}], {\"barmode\": \"group\", \"height\": 300, \"title\": \"Target with respect to Income Type of Applicants\"}, {\"showLink\": true, \"linkText\": \"Export to plot.ly\"})});</script>"
      ],
      "text/vnd.plotly.v1+html": [
       "<div id=\"7ddd6870-d30b-4312-97ba-2d62e4c6a135\" style=\"height: 300px; width: 100%;\" class=\"plotly-graph-div\"></div><script type=\"text/javascript\">require([\"plotly\"], function(Plotly) { window.PLOTLYENV=window.PLOTLYENV || {};window.PLOTLYENV.BASE_URL=\"https://plot.ly\";Plotly.newPlot(\"7ddd6870-d30b-4312-97ba-2d62e4c6a135\", [{\"type\": \"bar\", \"y\": [15224, 5360, 2982, 1249, 8, 2], \"name\": \"Target : 1\", \"marker\": {\"color\": \"#44ff54\"}, \"x\": [\"Working\", \"Commercial associate\", \"Pensioner\", \"State servant\", \"Unemployed\", \"Maternity leave\"]}, {\"type\": \"bar\", \"y\": [143550, 66257, 52380, 20454, 18, 14, 10, 3], \"name\": \"Target : 0\", \"marker\": {\"color\": \"#ff4444\"}, \"x\": [\"Working\", \"Commercial associate\", \"Pensioner\", \"State servant\", \"Student\", \"Unemployed\", \"Businessman\", \"Maternity leave\"]}], {\"barmode\": \"group\", \"height\": 300, \"title\": \"Target with respect to Income Type of Applicants\"}, {\"showLink\": true, \"linkText\": \"Export to plot.ly\"})});</script>"
      ]
     },
     "metadata": {},
     "output_type": "display_data"
    }
   ],
   "source": [
    "gp('NAME_TYPE_SUITE', 'Target with respect to Suite Type of Applicants')\n",
    "gp('NAME_INCOME_TYPE', 'Target with respect to Income Type of Applicants')"
   ]
  },
  {
   "cell_type": "markdown",
   "metadata": {
    "_cell_guid": "b0ca2663-4f35-4294-ab4f-7ef6015cde82",
    "_uuid": "ba88ba077e94ed387d1df8e13665a94beda77fbc"
   },
   "source": [
    "## 2.6. Family Status and Housing Types\n",
    "\n",
    "### 2.6.1 What are the values of Family Status and Housing Types of Applicants "
   ]
  },
  {
   "cell_type": "code",
   "execution_count": 9,
   "metadata": {
    "_cell_guid": "5b00d571-1a5a-47d9-b0aa-d45dcecf5cb0",
    "_kg_hide-input": true,
    "_uuid": "d48290edfae2f4beb09fd98d605fc43fb1218f6c"
   },
   "outputs": [
    {
     "data": {
      "application/vnd.plotly.v1+json": {
       "data": [
        {
         "marker": {
          "color": "#639af2"
         },
         "orientation": "h",
         "type": "bar",
         "x": [
          2,
          16088,
          19770,
          29775,
          45444,
          196432
         ],
         "xaxis": "x1",
         "y": [
          "Unknown",
          "Widow",
          "Separated",
          "Civil marriage",
          "Single / not married",
          "Married"
         ],
         "yaxis": "y1"
        },
        {
         "marker": {
          "color": "#a4c5f9"
         },
         "orientation": "h",
         "type": "bar",
         "x": [
          1122,
          2617,
          4881,
          11183,
          14840,
          272868
         ],
         "xaxis": "x2",
         "y": [
          "Co-op apartment",
          "Office apartment",
          "Rented apartment",
          "Municipal apartment",
          "With parents",
          "House / apartment"
         ],
         "yaxis": "y2"
        }
       ],
       "layout": {
        "annotations": [
         {
          "font": {
           "size": 16
          },
          "showarrow": false,
          "text": "NAME_FAMILY_STATUS",
          "x": 0.225,
          "xanchor": "center",
          "xref": "paper",
          "y": 1,
          "yanchor": "bottom",
          "yref": "paper"
         },
         {
          "font": {
           "size": 16
          },
          "showarrow": false,
          "text": "NAME_HOUSING_TYPE",
          "x": 0.775,
          "xanchor": "center",
          "xref": "paper",
          "y": 1,
          "yanchor": "bottom",
          "yref": "paper"
         }
        ],
        "height": 400,
        "margin": {
         "l": 100
        },
        "showlegend": false,
        "xaxis1": {
         "anchor": "y1",
         "domain": [
          0,
          0.45
         ]
        },
        "xaxis2": {
         "anchor": "y2",
         "domain": [
          0.55,
          1
         ]
        },
        "yaxis1": {
         "anchor": "x1",
         "domain": [
          0,
          1
         ]
        },
        "yaxis2": {
         "anchor": "x2",
         "domain": [
          0,
          1
         ]
        }
       }
      },
      "text/html": [
       "<div id=\"66b72ef1-83a3-4080-96c4-4caea6b51051\" style=\"height: 400px; width: 100%;\" class=\"plotly-graph-div\"></div><script type=\"text/javascript\">require([\"plotly\"], function(Plotly) { window.PLOTLYENV=window.PLOTLYENV || {};window.PLOTLYENV.BASE_URL=\"https://plot.ly\";Plotly.newPlot(\"66b72ef1-83a3-4080-96c4-4caea6b51051\", [{\"y\": [\"Unknown\", \"Widow\", \"Separated\", \"Civil marriage\", \"Single / not married\", \"Married\"], \"marker\": {\"color\": \"#639af2\"}, \"yaxis\": \"y1\", \"type\": \"bar\", \"orientation\": \"h\", \"xaxis\": \"x1\", \"x\": [2, 16088, 19770, 29775, 45444, 196432]}, {\"y\": [\"Co-op apartment\", \"Office apartment\", \"Rented apartment\", \"Municipal apartment\", \"With parents\", \"House / apartment\"], \"x\": [1122, 2617, 4881, 11183, 14840, 272868], \"yaxis\": \"y2\", \"type\": \"bar\", \"marker\": {\"color\": \"#a4c5f9\"}, \"xaxis\": \"x2\", \"orientation\": \"h\"}], {\"xaxis2\": {\"domain\": [0.55, 1.0], \"anchor\": \"y2\"}, \"yaxis1\": {\"domain\": [0.0, 1.0], \"anchor\": \"x1\"}, \"yaxis2\": {\"domain\": [0.0, 1.0], \"anchor\": \"x2\"}, \"showlegend\": false, \"xaxis1\": {\"domain\": [0.0, 0.45], \"anchor\": \"y1\"}, \"margin\": {\"l\": 100}, \"annotations\": [{\"y\": 1.0, \"font\": {\"size\": 16}, \"xref\": \"paper\", \"showarrow\": false, \"yref\": \"paper\", \"text\": \"NAME_FAMILY_STATUS\", \"x\": 0.225, \"xanchor\": \"center\", \"yanchor\": \"bottom\"}, {\"y\": 1.0, \"font\": {\"size\": 16}, \"xref\": \"paper\", \"showarrow\": false, \"yref\": \"paper\", \"text\": \"NAME_HOUSING_TYPE\", \"x\": 0.775, \"xanchor\": \"center\", \"yanchor\": \"bottom\"}], \"height\": 400}, {\"showLink\": true, \"linkText\": \"Export to plot.ly\"})});</script>"
      ],
      "text/vnd.plotly.v1+html": [
       "<div id=\"66b72ef1-83a3-4080-96c4-4caea6b51051\" style=\"height: 400px; width: 100%;\" class=\"plotly-graph-div\"></div><script type=\"text/javascript\">require([\"plotly\"], function(Plotly) { window.PLOTLYENV=window.PLOTLYENV || {};window.PLOTLYENV.BASE_URL=\"https://plot.ly\";Plotly.newPlot(\"66b72ef1-83a3-4080-96c4-4caea6b51051\", [{\"y\": [\"Unknown\", \"Widow\", \"Separated\", \"Civil marriage\", \"Single / not married\", \"Married\"], \"marker\": {\"color\": \"#639af2\"}, \"yaxis\": \"y1\", \"type\": \"bar\", \"orientation\": \"h\", \"xaxis\": \"x1\", \"x\": [2, 16088, 19770, 29775, 45444, 196432]}, {\"y\": [\"Co-op apartment\", \"Office apartment\", \"Rented apartment\", \"Municipal apartment\", \"With parents\", \"House / apartment\"], \"x\": [1122, 2617, 4881, 11183, 14840, 272868], \"yaxis\": \"y2\", \"type\": \"bar\", \"marker\": {\"color\": \"#a4c5f9\"}, \"xaxis\": \"x2\", \"orientation\": \"h\"}], {\"xaxis2\": {\"domain\": [0.55, 1.0], \"anchor\": \"y2\"}, \"yaxis1\": {\"domain\": [0.0, 1.0], \"anchor\": \"x1\"}, \"yaxis2\": {\"domain\": [0.0, 1.0], \"anchor\": \"x2\"}, \"showlegend\": false, \"xaxis1\": {\"domain\": [0.0, 0.45], \"anchor\": \"y1\"}, \"margin\": {\"l\": 100}, \"annotations\": [{\"y\": 1.0, \"font\": {\"size\": 16}, \"xref\": \"paper\", \"showarrow\": false, \"yref\": \"paper\", \"text\": \"NAME_FAMILY_STATUS\", \"x\": 0.225, \"xanchor\": \"center\", \"yanchor\": \"bottom\"}, {\"y\": 1.0, \"font\": {\"size\": 16}, \"xref\": \"paper\", \"showarrow\": false, \"yref\": \"paper\", \"text\": \"NAME_HOUSING_TYPE\", \"x\": 0.775, \"xanchor\": \"center\", \"yanchor\": \"bottom\"}], \"height\": 400}, {\"showLink\": true, \"linkText\": \"Export to plot.ly\"})});</script>"
      ]
     },
     "metadata": {},
     "output_type": "display_data"
    }
   ],
   "source": [
    "tr1 = bar_hor(app_train, \"NAME_FAMILY_STATUS\", \"Distribution of NAME_FAMILY_STATUS\" ,\"#639af2\", w=700, lm=100, return_trace= True)\n",
    "tr2 = bar_hor(app_train, \"NAME_HOUSING_TYPE\", \"Distribution of NAME_HOUSING_TYPE\" ,\"#a4c5f9\", w=700, lm=100, return_trace = True)\n",
    "\n",
    "fig = tools.make_subplots(rows=1, cols=2, print_grid=False, subplot_titles = ['NAME_FAMILY_STATUS' , 'NAME_HOUSING_TYPE'])\n",
    "fig.append_trace(tr1, 1, 1);\n",
    "fig.append_trace(tr2, 1, 2);\n",
    "fig['layout'].update(height=400, showlegend=False, margin=dict(l=100));\n",
    "iplot(fig);"
   ]
  },
  {
   "cell_type": "markdown",
   "metadata": {
    "_cell_guid": "10c3308c-ee99-4462-b481-cf7bd33b4396",
    "_uuid": "15842ca1961dfb785669c5b23f4a21bc67a0dc0c"
   },
   "source": [
    "> - It is observed that married people have applied for maximum number of applications equal to 196K followed by Singles. Key Housign Types include : House / Apartment which contributes to almost 85% of all the applications, people living with parents and municipal apartments. \n",
    "\n",
    "### 2.6.2 How does Target Varies with Family Status and Housing Type"
   ]
  },
  {
   "cell_type": "code",
   "execution_count": 10,
   "metadata": {
    "_cell_guid": "52767b60-417c-4306-99f4-37158861e18a",
    "_kg_hide-input": true,
    "_uuid": "6962639a7013be92fd724aa2024cd129df7b6528"
   },
   "outputs": [
    {
     "data": {
      "application/vnd.plotly.v1+json": {
       "data": [
        {
         "marker": {
          "color": "#44ff54"
         },
         "name": "Target : 1",
         "type": "bar",
         "x": [
          "Married",
          "Single / not married",
          "Civil marriage",
          "Separated",
          "Widow"
         ],
         "y": [
          14850,
          4457,
          2961,
          1620,
          937
         ]
        },
        {
         "marker": {
          "color": "#ff4444"
         },
         "name": "Target : 0",
         "type": "bar",
         "x": [
          "Married",
          "Single / not married",
          "Civil marriage",
          "Separated",
          "Widow",
          "Unknown"
         ],
         "y": [
          181582,
          40987,
          26814,
          18150,
          15151,
          2
         ]
        }
       ],
       "layout": {
        "barmode": "group",
        "height": 300,
        "title": "Target and Family Status"
       }
      },
      "text/html": [
       "<div id=\"bf43e384-5953-4616-97b5-21f03af9a005\" style=\"height: 300px; width: 100%;\" class=\"plotly-graph-div\"></div><script type=\"text/javascript\">require([\"plotly\"], function(Plotly) { window.PLOTLYENV=window.PLOTLYENV || {};window.PLOTLYENV.BASE_URL=\"https://plot.ly\";Plotly.newPlot(\"bf43e384-5953-4616-97b5-21f03af9a005\", [{\"type\": \"bar\", \"y\": [14850, 4457, 2961, 1620, 937], \"name\": \"Target : 1\", \"marker\": {\"color\": \"#44ff54\"}, \"x\": [\"Married\", \"Single / not married\", \"Civil marriage\", \"Separated\", \"Widow\"]}, {\"type\": \"bar\", \"y\": [181582, 40987, 26814, 18150, 15151, 2], \"name\": \"Target : 0\", \"marker\": {\"color\": \"#ff4444\"}, \"x\": [\"Married\", \"Single / not married\", \"Civil marriage\", \"Separated\", \"Widow\", \"Unknown\"]}], {\"barmode\": \"group\", \"height\": 300, \"title\": \"Target and Family Status\"}, {\"showLink\": true, \"linkText\": \"Export to plot.ly\"})});</script>"
      ],
      "text/vnd.plotly.v1+html": [
       "<div id=\"bf43e384-5953-4616-97b5-21f03af9a005\" style=\"height: 300px; width: 100%;\" class=\"plotly-graph-div\"></div><script type=\"text/javascript\">require([\"plotly\"], function(Plotly) { window.PLOTLYENV=window.PLOTLYENV || {};window.PLOTLYENV.BASE_URL=\"https://plot.ly\";Plotly.newPlot(\"bf43e384-5953-4616-97b5-21f03af9a005\", [{\"type\": \"bar\", \"y\": [14850, 4457, 2961, 1620, 937], \"name\": \"Target : 1\", \"marker\": {\"color\": \"#44ff54\"}, \"x\": [\"Married\", \"Single / not married\", \"Civil marriage\", \"Separated\", \"Widow\"]}, {\"type\": \"bar\", \"y\": [181582, 40987, 26814, 18150, 15151, 2], \"name\": \"Target : 0\", \"marker\": {\"color\": \"#ff4444\"}, \"x\": [\"Married\", \"Single / not married\", \"Civil marriage\", \"Separated\", \"Widow\", \"Unknown\"]}], {\"barmode\": \"group\", \"height\": 300, \"title\": \"Target and Family Status\"}, {\"showLink\": true, \"linkText\": \"Export to plot.ly\"})});</script>"
      ]
     },
     "metadata": {},
     "output_type": "display_data"
    },
    {
     "data": {
      "application/vnd.plotly.v1+json": {
       "data": [
        {
         "marker": {
          "color": "#44ff54"
         },
         "name": "Target : 1",
         "type": "bar",
         "x": [
          "House / apartment",
          "With parents",
          "Municipal apartment",
          "Rented apartment",
          "Office apartment",
          "Co-op apartment"
         ],
         "y": [
          21272,
          1736,
          955,
          601,
          172,
          89
         ]
        },
        {
         "marker": {
          "color": "#ff4444"
         },
         "name": "Target : 0",
         "type": "bar",
         "x": [
          "House / apartment",
          "With parents",
          "Municipal apartment",
          "Rented apartment",
          "Office apartment",
          "Co-op apartment"
         ],
         "y": [
          251596,
          13104,
          10228,
          4280,
          2445,
          1033
         ]
        }
       ],
       "layout": {
        "barmode": "group",
        "height": 300,
        "title": "Target and Housing Type"
       }
      },
      "text/html": [
       "<div id=\"a437958b-12bc-402b-9466-32be21990dfe\" style=\"height: 300px; width: 100%;\" class=\"plotly-graph-div\"></div><script type=\"text/javascript\">require([\"plotly\"], function(Plotly) { window.PLOTLYENV=window.PLOTLYENV || {};window.PLOTLYENV.BASE_URL=\"https://plot.ly\";Plotly.newPlot(\"a437958b-12bc-402b-9466-32be21990dfe\", [{\"type\": \"bar\", \"y\": [21272, 1736, 955, 601, 172, 89], \"name\": \"Target : 1\", \"marker\": {\"color\": \"#44ff54\"}, \"x\": [\"House / apartment\", \"With parents\", \"Municipal apartment\", \"Rented apartment\", \"Office apartment\", \"Co-op apartment\"]}, {\"type\": \"bar\", \"y\": [251596, 13104, 10228, 4280, 2445, 1033], \"name\": \"Target : 0\", \"marker\": {\"color\": \"#ff4444\"}, \"x\": [\"House / apartment\", \"With parents\", \"Municipal apartment\", \"Rented apartment\", \"Office apartment\", \"Co-op apartment\"]}], {\"barmode\": \"group\", \"height\": 300, \"title\": \"Target and Housing Type\"}, {\"showLink\": true, \"linkText\": \"Export to plot.ly\"})});</script>"
      ],
      "text/vnd.plotly.v1+html": [
       "<div id=\"a437958b-12bc-402b-9466-32be21990dfe\" style=\"height: 300px; width: 100%;\" class=\"plotly-graph-div\"></div><script type=\"text/javascript\">require([\"plotly\"], function(Plotly) { window.PLOTLYENV=window.PLOTLYENV || {};window.PLOTLYENV.BASE_URL=\"https://plot.ly\";Plotly.newPlot(\"a437958b-12bc-402b-9466-32be21990dfe\", [{\"type\": \"bar\", \"y\": [21272, 1736, 955, 601, 172, 89], \"name\": \"Target : 1\", \"marker\": {\"color\": \"#44ff54\"}, \"x\": [\"House / apartment\", \"With parents\", \"Municipal apartment\", \"Rented apartment\", \"Office apartment\", \"Co-op apartment\"]}, {\"type\": \"bar\", \"y\": [251596, 13104, 10228, 4280, 2445, 1033], \"name\": \"Target : 0\", \"marker\": {\"color\": \"#ff4444\"}, \"x\": [\"House / apartment\", \"With parents\", \"Municipal apartment\", \"Rented apartment\", \"Office apartment\", \"Co-op apartment\"]}], {\"barmode\": \"group\", \"height\": 300, \"title\": \"Target and Housing Type\"}, {\"showLink\": true, \"linkText\": \"Export to plot.ly\"})});</script>"
      ]
     },
     "metadata": {},
     "output_type": "display_data"
    }
   ],
   "source": [
    "gp('NAME_FAMILY_STATUS', 'Target and Family Status')\n",
    "gp('NAME_HOUSING_TYPE', 'Target and Housing Type')"
   ]
  },
  {
   "cell_type": "markdown",
   "metadata": {
    "_cell_guid": "84738f83-421d-419d-92bc-db3a0d59271f",
    "_uuid": "ffee1d0dbcf3a88c6af8504346e8948cab301cc6"
   },
   "source": [
    "## 2.7. Education Type and Income Type \n",
    "\n",
    "### 2.7.1 The distribution of Education Type and Income Type in the dataset "
   ]
  },
  {
   "cell_type": "code",
   "execution_count": 11,
   "metadata": {
    "_cell_guid": "b24015be-5bb1-43e7-ab67-ca6134e5ee04",
    "_kg_hide-input": true,
    "_uuid": "b7902786f27f2d39870aa3bf1a87004608e27d5c"
   },
   "outputs": [
    {
     "data": {
      "application/vnd.plotly.v1+json": {
       "data": [
        {
         "marker": {
          "color": "#639af2"
         },
         "orientation": "h",
         "type": "bar",
         "x": [
          164,
          3816,
          10277,
          74863,
          218391
         ],
         "xaxis": "x1",
         "y": [
          "Academic degree",
          "Lower secondary",
          "Incomplete higher",
          "Higher education",
          "Secondary / secondary special"
         ],
         "yaxis": "y1"
        }
       ],
       "layout": {
        "annotations": [
         {
          "font": {
           "size": 16
          },
          "showarrow": false,
          "text": "NAME_EDUCATION_TYPE",
          "x": 0.5,
          "xanchor": "center",
          "xref": "paper",
          "y": 1,
          "yanchor": "bottom",
          "yref": "paper"
         }
        ],
        "height": 400,
        "margin": {
         "l": 100
        },
        "showlegend": false,
        "xaxis1": {
         "anchor": "y1",
         "domain": [
          0,
          1
         ]
        },
        "yaxis1": {
         "anchor": "x1",
         "domain": [
          0,
          1
         ]
        }
       }
      },
      "text/html": [
       "<div id=\"ea3c80c5-5047-4991-b6e2-42bf325a1d52\" style=\"height: 400px; width: 100%;\" class=\"plotly-graph-div\"></div><script type=\"text/javascript\">require([\"plotly\"], function(Plotly) { window.PLOTLYENV=window.PLOTLYENV || {};window.PLOTLYENV.BASE_URL=\"https://plot.ly\";Plotly.newPlot(\"ea3c80c5-5047-4991-b6e2-42bf325a1d52\", [{\"y\": [\"Academic degree\", \"Lower secondary\", \"Incomplete higher\", \"Higher education\", \"Secondary / secondary special\"], \"x\": [164, 3816, 10277, 74863, 218391], \"yaxis\": \"y1\", \"type\": \"bar\", \"marker\": {\"color\": \"#639af2\"}, \"xaxis\": \"x1\", \"orientation\": \"h\"}], {\"yaxis1\": {\"domain\": [0.0, 1.0], \"anchor\": \"x1\"}, \"showlegend\": false, \"xaxis1\": {\"domain\": [0.0, 1.0], \"anchor\": \"y1\"}, \"margin\": {\"l\": 100}, \"annotations\": [{\"y\": 1.0, \"font\": {\"size\": 16}, \"xref\": \"paper\", \"showarrow\": false, \"yref\": \"paper\", \"text\": \"NAME_EDUCATION_TYPE\", \"x\": 0.5, \"xanchor\": \"center\", \"yanchor\": \"bottom\"}], \"height\": 400}, {\"showLink\": true, \"linkText\": \"Export to plot.ly\"})});</script>"
      ],
      "text/vnd.plotly.v1+html": [
       "<div id=\"ea3c80c5-5047-4991-b6e2-42bf325a1d52\" style=\"height: 400px; width: 100%;\" class=\"plotly-graph-div\"></div><script type=\"text/javascript\">require([\"plotly\"], function(Plotly) { window.PLOTLYENV=window.PLOTLYENV || {};window.PLOTLYENV.BASE_URL=\"https://plot.ly\";Plotly.newPlot(\"ea3c80c5-5047-4991-b6e2-42bf325a1d52\", [{\"y\": [\"Academic degree\", \"Lower secondary\", \"Incomplete higher\", \"Higher education\", \"Secondary / secondary special\"], \"x\": [164, 3816, 10277, 74863, 218391], \"yaxis\": \"y1\", \"type\": \"bar\", \"marker\": {\"color\": \"#639af2\"}, \"xaxis\": \"x1\", \"orientation\": \"h\"}], {\"yaxis1\": {\"domain\": [0.0, 1.0], \"anchor\": \"x1\"}, \"showlegend\": false, \"xaxis1\": {\"domain\": [0.0, 1.0], \"anchor\": \"y1\"}, \"margin\": {\"l\": 100}, \"annotations\": [{\"y\": 1.0, \"font\": {\"size\": 16}, \"xref\": \"paper\", \"showarrow\": false, \"yref\": \"paper\", \"text\": \"NAME_EDUCATION_TYPE\", \"x\": 0.5, \"xanchor\": \"center\", \"yanchor\": \"bottom\"}], \"height\": 400}, {\"showLink\": true, \"linkText\": \"Export to plot.ly\"})});</script>"
      ]
     },
     "metadata": {},
     "output_type": "display_data"
    }
   ],
   "source": [
    "tr1 = bar_hor(app_train, \"NAME_EDUCATION_TYPE\", \"Distribution of NAME_EDUCATION_TYPE\" ,\"#639af2\", w=700, lm=100, return_trace= True)\n",
    "# tr2 = bar_hor(app_train, \"NAME_INCOME_TYPE\", \"Distribution of NAME_FAMILY_STATUS\" ,\"#a4c5f9\", w=700, lm=100, return_trace = True)\n",
    "\n",
    "fig = tools.make_subplots(rows=1, cols=1, print_grid=False, subplot_titles = ['NAME_EDUCATION_TYPE' ])\n",
    "fig.append_trace(tr1, 1, 1);\n",
    "# fig.append_trace(tr2, 1, 2);\n",
    "fig['layout'].update(height=400, showlegend=False, margin=dict(l=100));\n",
    "iplot(fig);"
   ]
  },
  {
   "cell_type": "markdown",
   "metadata": {
    "_cell_guid": "1424ad43-b276-476d-94d8-56778cdb11c4",
    "_uuid": "6f00b6ce39f587f08e1fec290e4e077ea1f37247"
   },
   "source": [
    "> A large number of applications (218K) are filed by people having secondaty education followed by people with Higher Education with 75K applications.  \n",
    "\n",
    "### 2.7.2 The distribution of Target Variable with Education Type and Income Type in the dataset "
   ]
  },
  {
   "cell_type": "code",
   "execution_count": 12,
   "metadata": {
    "_cell_guid": "b6ea7ac6-9a23-4bae-a356-1ca0ce158ece",
    "_kg_hide-input": true,
    "_uuid": "2bc13f25ce2fd90a17a863a51cb57a9b1cb198b8"
   },
   "outputs": [
    {
     "data": {
      "application/vnd.plotly.v1+json": {
       "data": [
        {
         "marker": {
          "color": "#44ff54"
         },
         "name": "Target : 1",
         "type": "bar",
         "x": [
          "Secondary / secondary special",
          "Higher education",
          "Incomplete higher",
          "Lower secondary",
          "Academic degree"
         ],
         "y": [
          19524,
          4009,
          872,
          417,
          3
         ]
        },
        {
         "marker": {
          "color": "#ff4444"
         },
         "name": "Target : 0",
         "type": "bar",
         "x": [
          "Secondary / secondary special",
          "Higher education",
          "Incomplete higher",
          "Lower secondary",
          "Academic degree"
         ],
         "y": [
          198867,
          70854,
          9405,
          3399,
          161
         ]
        }
       ],
       "layout": {
        "barmode": "group",
        "height": 300,
        "title": "Education Type and Target"
       }
      },
      "text/html": [
       "<div id=\"82384c90-52c8-4366-aa84-a2903cc59f04\" style=\"height: 300px; width: 100%;\" class=\"plotly-graph-div\"></div><script type=\"text/javascript\">require([\"plotly\"], function(Plotly) { window.PLOTLYENV=window.PLOTLYENV || {};window.PLOTLYENV.BASE_URL=\"https://plot.ly\";Plotly.newPlot(\"82384c90-52c8-4366-aa84-a2903cc59f04\", [{\"type\": \"bar\", \"y\": [19524, 4009, 872, 417, 3], \"name\": \"Target : 1\", \"marker\": {\"color\": \"#44ff54\"}, \"x\": [\"Secondary / secondary special\", \"Higher education\", \"Incomplete higher\", \"Lower secondary\", \"Academic degree\"]}, {\"type\": \"bar\", \"y\": [198867, 70854, 9405, 3399, 161], \"name\": \"Target : 0\", \"marker\": {\"color\": \"#ff4444\"}, \"x\": [\"Secondary / secondary special\", \"Higher education\", \"Incomplete higher\", \"Lower secondary\", \"Academic degree\"]}], {\"barmode\": \"group\", \"height\": 300, \"title\": \"Education Type and Target\"}, {\"showLink\": true, \"linkText\": \"Export to plot.ly\"})});</script>"
      ],
      "text/vnd.plotly.v1+html": [
       "<div id=\"82384c90-52c8-4366-aa84-a2903cc59f04\" style=\"height: 300px; width: 100%;\" class=\"plotly-graph-div\"></div><script type=\"text/javascript\">require([\"plotly\"], function(Plotly) { window.PLOTLYENV=window.PLOTLYENV || {};window.PLOTLYENV.BASE_URL=\"https://plot.ly\";Plotly.newPlot(\"82384c90-52c8-4366-aa84-a2903cc59f04\", [{\"type\": \"bar\", \"y\": [19524, 4009, 872, 417, 3], \"name\": \"Target : 1\", \"marker\": {\"color\": \"#44ff54\"}, \"x\": [\"Secondary / secondary special\", \"Higher education\", \"Incomplete higher\", \"Lower secondary\", \"Academic degree\"]}, {\"type\": \"bar\", \"y\": [198867, 70854, 9405, 3399, 161], \"name\": \"Target : 0\", \"marker\": {\"color\": \"#ff4444\"}, \"x\": [\"Secondary / secondary special\", \"Higher education\", \"Incomplete higher\", \"Lower secondary\", \"Academic degree\"]}], {\"barmode\": \"group\", \"height\": 300, \"title\": \"Education Type and Target\"}, {\"showLink\": true, \"linkText\": \"Export to plot.ly\"})});</script>"
      ]
     },
     "metadata": {},
     "output_type": "display_data"
    }
   ],
   "source": [
    "gp('NAME_EDUCATION_TYPE', 'Education Type and Target')"
   ]
  },
  {
   "cell_type": "markdown",
   "metadata": {
    "_cell_guid": "a21046cc-aaec-412e-a48d-3f703719c103",
    "_uuid": "15253e3157f009bf3024ab49119201a688431913"
   },
   "source": [
    "## 2.8. Which ORGANIZATION_TYPE and OCCUPATION_TYPE applies for the loan\n",
    "\n",
    "### 2.8.1 The distribution of Organization and Occupation Type in the dataset "
   ]
  },
  {
   "cell_type": "code",
   "execution_count": 13,
   "metadata": {
    "_cell_guid": "d801838f-659a-4a7a-8487-61dcbc9c7b32",
    "_kg_hide-input": true,
    "_uuid": "4da4b17a348dc1077f3e0a1c503dd455b40b3482"
   },
   "outputs": [
    {
     "data": {
      "application/vnd.plotly.v1+json": {
       "data": [
        {
         "marker": {
          "color": "#639af2"
         },
         "orientation": "h",
         "type": "bar",
         "x": [
          24,
          49,
          64,
          67,
          85,
          109,
          112,
          201,
          260,
          305,
          317,
          348,
          369,
          379,
          396,
          429,
          458,
          560,
          577,
          597,
          599,
          631,
          877,
          950,
          966,
          1039,
          1187,
          1307,
          1327,
          1575,
          1811,
          1900,
          1974,
          2157,
          2204,
          2341,
          2454,
          2507,
          2634,
          2704,
          2958,
          3247,
          3278,
          3368,
          3492,
          5398,
          5984,
          6721,
          6880,
          7831,
          8893,
          10404,
          10553,
          11193,
          16683,
          38412,
          55374,
          67992
         ],
         "xaxis": "x1",
         "y": [
          "Industry: type 8",
          "Trade: type 5",
          "Trade: type 4",
          "Industry: type 13",
          "Religion",
          "Industry: type 10",
          "Industry: type 6",
          "Transport: type 1",
          "Cleaning",
          "Legal Services",
          "Mobile",
          "Trade: type 1",
          "Industry: type 12",
          "Culture",
          "Realtor",
          "Advertising",
          "Industry: type 2",
          "Emergency",
          "Telecom",
          "Insurance",
          "Industry: type 5",
          "Trade: type 6",
          "Industry: type 4",
          "Electricity",
          "Hotel",
          "Industry: type 1",
          "Transport: type 3",
          "Industry: type 7",
          "University",
          "Services",
          "Restaurant",
          "Trade: type 2",
          "Security Ministries",
          "Postal",
          "Transport: type 2",
          "Police",
          "Agriculture",
          "Bank",
          "Military",
          "Industry: type 11",
          "Housing",
          "Security",
          "Industry: type 3",
          "Industry: type 9",
          "Trade: type 3",
          "Transport: type 4",
          "Business Entity Type 1",
          "Construction",
          "Kindergarten",
          "Trade: type 7",
          "School",
          "Government",
          "Business Entity Type 2",
          "Medicine",
          "Other",
          "Self-employed",
          "XNA",
          "Business Entity Type 3"
         ],
         "yaxis": "y1"
        },
        {
         "marker": {
          "color": "#a4c5f9"
         },
         "orientation": "h",
         "type": "bar",
         "x": [
          526,
          563,
          751,
          1305,
          1348,
          2093,
          2652,
          4653,
          5946,
          6721,
          8537,
          9813,
          11380,
          18603,
          21371,
          27570,
          32102,
          55186
         ],
         "xaxis": "x2",
         "y": [
          "IT staff",
          "HR staff",
          "Realty agents",
          "Secretaries",
          "Waiters/barmen staff",
          "Low-skill Laborers",
          "Private service staff",
          "Cleaning staff",
          "Cooking staff",
          "Security staff",
          "Medicine staff",
          "Accountants",
          "High skill tech staff",
          "Drivers",
          "Managers",
          "Core staff",
          "Sales staff",
          "Laborers"
         ],
         "yaxis": "y2"
        }
       ],
       "layout": {
        "annotations": [
         {
          "font": {
           "size": 16
          },
          "showarrow": false,
          "text": "ORGANIZATION_TYPE",
          "x": 0.225,
          "xanchor": "center",
          "xref": "paper",
          "y": 1,
          "yanchor": "bottom",
          "yref": "paper"
         },
         {
          "font": {
           "size": 16
          },
          "showarrow": false,
          "text": "OCCUPATION_TYPE",
          "x": 0.775,
          "xanchor": "center",
          "xref": "paper",
          "y": 1,
          "yanchor": "bottom",
          "yref": "paper"
         }
        ],
        "height": 600,
        "margin": {
         "l": 200
        },
        "showlegend": false,
        "xaxis1": {
         "anchor": "y1",
         "domain": [
          0,
          0.45
         ]
        },
        "xaxis2": {
         "anchor": "y2",
         "domain": [
          0.55,
          1
         ]
        },
        "yaxis1": {
         "anchor": "x1",
         "domain": [
          0,
          1
         ]
        },
        "yaxis2": {
         "anchor": "x2",
         "domain": [
          0,
          1
         ]
        }
       }
      },
      "text/html": [
       "<div id=\"58ba1b84-50d6-46bf-bd5d-840ddd639b8a\" style=\"height: 600px; width: 100%;\" class=\"plotly-graph-div\"></div><script type=\"text/javascript\">require([\"plotly\"], function(Plotly) { window.PLOTLYENV=window.PLOTLYENV || {};window.PLOTLYENV.BASE_URL=\"https://plot.ly\";Plotly.newPlot(\"58ba1b84-50d6-46bf-bd5d-840ddd639b8a\", [{\"y\": [\"Industry: type 8\", \"Trade: type 5\", \"Trade: type 4\", \"Industry: type 13\", \"Religion\", \"Industry: type 10\", \"Industry: type 6\", \"Transport: type 1\", \"Cleaning\", \"Legal Services\", \"Mobile\", \"Trade: type 1\", \"Industry: type 12\", \"Culture\", \"Realtor\", \"Advertising\", \"Industry: type 2\", \"Emergency\", \"Telecom\", \"Insurance\", \"Industry: type 5\", \"Trade: type 6\", \"Industry: type 4\", \"Electricity\", \"Hotel\", \"Industry: type 1\", \"Transport: type 3\", \"Industry: type 7\", \"University\", \"Services\", \"Restaurant\", \"Trade: type 2\", \"Security Ministries\", \"Postal\", \"Transport: type 2\", \"Police\", \"Agriculture\", \"Bank\", \"Military\", \"Industry: type 11\", \"Housing\", \"Security\", \"Industry: type 3\", \"Industry: type 9\", \"Trade: type 3\", \"Transport: type 4\", \"Business Entity Type 1\", \"Construction\", \"Kindergarten\", \"Trade: type 7\", \"School\", \"Government\", \"Business Entity Type 2\", \"Medicine\", \"Other\", \"Self-employed\", \"XNA\", \"Business Entity Type 3\"], \"marker\": {\"color\": \"#639af2\"}, \"yaxis\": \"y1\", \"type\": \"bar\", \"orientation\": \"h\", \"xaxis\": \"x1\", \"x\": [24, 49, 64, 67, 85, 109, 112, 201, 260, 305, 317, 348, 369, 379, 396, 429, 458, 560, 577, 597, 599, 631, 877, 950, 966, 1039, 1187, 1307, 1327, 1575, 1811, 1900, 1974, 2157, 2204, 2341, 2454, 2507, 2634, 2704, 2958, 3247, 3278, 3368, 3492, 5398, 5984, 6721, 6880, 7831, 8893, 10404, 10553, 11193, 16683, 38412, 55374, 67992]}, {\"y\": [\"IT staff\", \"HR staff\", \"Realty agents\", \"Secretaries\", \"Waiters/barmen staff\", \"Low-skill Laborers\", \"Private service staff\", \"Cleaning staff\", \"Cooking staff\", \"Security staff\", \"Medicine staff\", \"Accountants\", \"High skill tech staff\", \"Drivers\", \"Managers\", \"Core staff\", \"Sales staff\", \"Laborers\"], \"x\": [526, 563, 751, 1305, 1348, 2093, 2652, 4653, 5946, 6721, 8537, 9813, 11380, 18603, 21371, 27570, 32102, 55186], \"yaxis\": \"y2\", \"type\": \"bar\", \"marker\": {\"color\": \"#a4c5f9\"}, \"xaxis\": \"x2\", \"orientation\": \"h\"}], {\"xaxis2\": {\"domain\": [0.55, 1.0], \"anchor\": \"y2\"}, \"yaxis1\": {\"domain\": [0.0, 1.0], \"anchor\": \"x1\"}, \"yaxis2\": {\"domain\": [0.0, 1.0], \"anchor\": \"x2\"}, \"showlegend\": false, \"xaxis1\": {\"domain\": [0.0, 0.45], \"anchor\": \"y1\"}, \"margin\": {\"l\": 200}, \"annotations\": [{\"y\": 1.0, \"font\": {\"size\": 16}, \"xref\": \"paper\", \"showarrow\": false, \"yref\": \"paper\", \"text\": \"ORGANIZATION_TYPE\", \"x\": 0.225, \"xanchor\": \"center\", \"yanchor\": \"bottom\"}, {\"y\": 1.0, \"font\": {\"size\": 16}, \"xref\": \"paper\", \"showarrow\": false, \"yref\": \"paper\", \"text\": \"OCCUPATION_TYPE\", \"x\": 0.775, \"xanchor\": \"center\", \"yanchor\": \"bottom\"}], \"height\": 600}, {\"showLink\": true, \"linkText\": \"Export to plot.ly\"})});</script>"
      ],
      "text/vnd.plotly.v1+html": [
       "<div id=\"58ba1b84-50d6-46bf-bd5d-840ddd639b8a\" style=\"height: 600px; width: 100%;\" class=\"plotly-graph-div\"></div><script type=\"text/javascript\">require([\"plotly\"], function(Plotly) { window.PLOTLYENV=window.PLOTLYENV || {};window.PLOTLYENV.BASE_URL=\"https://plot.ly\";Plotly.newPlot(\"58ba1b84-50d6-46bf-bd5d-840ddd639b8a\", [{\"y\": [\"Industry: type 8\", \"Trade: type 5\", \"Trade: type 4\", \"Industry: type 13\", \"Religion\", \"Industry: type 10\", \"Industry: type 6\", \"Transport: type 1\", \"Cleaning\", \"Legal Services\", \"Mobile\", \"Trade: type 1\", \"Industry: type 12\", \"Culture\", \"Realtor\", \"Advertising\", \"Industry: type 2\", \"Emergency\", \"Telecom\", \"Insurance\", \"Industry: type 5\", \"Trade: type 6\", \"Industry: type 4\", \"Electricity\", \"Hotel\", \"Industry: type 1\", \"Transport: type 3\", \"Industry: type 7\", \"University\", \"Services\", \"Restaurant\", \"Trade: type 2\", \"Security Ministries\", \"Postal\", \"Transport: type 2\", \"Police\", \"Agriculture\", \"Bank\", \"Military\", \"Industry: type 11\", \"Housing\", \"Security\", \"Industry: type 3\", \"Industry: type 9\", \"Trade: type 3\", \"Transport: type 4\", \"Business Entity Type 1\", \"Construction\", \"Kindergarten\", \"Trade: type 7\", \"School\", \"Government\", \"Business Entity Type 2\", \"Medicine\", \"Other\", \"Self-employed\", \"XNA\", \"Business Entity Type 3\"], \"marker\": {\"color\": \"#639af2\"}, \"yaxis\": \"y1\", \"type\": \"bar\", \"orientation\": \"h\", \"xaxis\": \"x1\", \"x\": [24, 49, 64, 67, 85, 109, 112, 201, 260, 305, 317, 348, 369, 379, 396, 429, 458, 560, 577, 597, 599, 631, 877, 950, 966, 1039, 1187, 1307, 1327, 1575, 1811, 1900, 1974, 2157, 2204, 2341, 2454, 2507, 2634, 2704, 2958, 3247, 3278, 3368, 3492, 5398, 5984, 6721, 6880, 7831, 8893, 10404, 10553, 11193, 16683, 38412, 55374, 67992]}, {\"y\": [\"IT staff\", \"HR staff\", \"Realty agents\", \"Secretaries\", \"Waiters/barmen staff\", \"Low-skill Laborers\", \"Private service staff\", \"Cleaning staff\", \"Cooking staff\", \"Security staff\", \"Medicine staff\", \"Accountants\", \"High skill tech staff\", \"Drivers\", \"Managers\", \"Core staff\", \"Sales staff\", \"Laborers\"], \"x\": [526, 563, 751, 1305, 1348, 2093, 2652, 4653, 5946, 6721, 8537, 9813, 11380, 18603, 21371, 27570, 32102, 55186], \"yaxis\": \"y2\", \"type\": \"bar\", \"marker\": {\"color\": \"#a4c5f9\"}, \"xaxis\": \"x2\", \"orientation\": \"h\"}], {\"xaxis2\": {\"domain\": [0.55, 1.0], \"anchor\": \"y2\"}, \"yaxis1\": {\"domain\": [0.0, 1.0], \"anchor\": \"x1\"}, \"yaxis2\": {\"domain\": [0.0, 1.0], \"anchor\": \"x2\"}, \"showlegend\": false, \"xaxis1\": {\"domain\": [0.0, 0.45], \"anchor\": \"y1\"}, \"margin\": {\"l\": 200}, \"annotations\": [{\"y\": 1.0, \"font\": {\"size\": 16}, \"xref\": \"paper\", \"showarrow\": false, \"yref\": \"paper\", \"text\": \"ORGANIZATION_TYPE\", \"x\": 0.225, \"xanchor\": \"center\", \"yanchor\": \"bottom\"}, {\"y\": 1.0, \"font\": {\"size\": 16}, \"xref\": \"paper\", \"showarrow\": false, \"yref\": \"paper\", \"text\": \"OCCUPATION_TYPE\", \"x\": 0.775, \"xanchor\": \"center\", \"yanchor\": \"bottom\"}], \"height\": 600}, {\"showLink\": true, \"linkText\": \"Export to plot.ly\"})});</script>"
      ]
     },
     "metadata": {},
     "output_type": "display_data"
    }
   ],
   "source": [
    "tr1 = bar_hor(app_train, \"ORGANIZATION_TYPE\", \"Distribution of ORGANIZATION_TYPE\" ,\"#639af2\", w=700, lm=100, return_trace= True)\n",
    "tr2 = bar_hor(app_train, \"OCCUPATION_TYPE\", \"Distribution of OCCUPATION_TYPE\" ,\"#a4c5f9\", w=700, lm=100, return_trace = True)\n",
    "\n",
    "fig = tools.make_subplots(rows=1, cols=2, print_grid=False, subplot_titles = ['ORGANIZATION_TYPE' , 'OCCUPATION_TYPE'])\n",
    "fig.append_trace(tr1, 1, 1);\n",
    "fig.append_trace(tr2, 1, 2);\n",
    "fig['layout'].update(height=600, showlegend=False, margin=dict(l=200));\n",
    "iplot(fig);"
   ]
  },
  {
   "cell_type": "markdown",
   "metadata": {
    "_cell_guid": "ef6b95af-4ba5-49fc-908c-f779abbf1bf7",
    "_uuid": "a788d09a4297c0ca34f2dfa9f0d4248923c9eb34"
   },
   "source": [
    "> Top Applicant's who applied for loan : Laborers - Approx 55 K, Sales Staff - Approx 32 K, Core staff - Approx 28 K. Entity Type 3 type organizations have filed maximum number of loans equal to approx 67K\n",
    "\n",
    "### 2.8.2 Target Variable with respect to Organization and Occupation Type "
   ]
  },
  {
   "cell_type": "code",
   "execution_count": 14,
   "metadata": {
    "_cell_guid": "3bccf6a4-022e-421a-a01d-873889ba7ef4",
    "_kg_hide-input": true,
    "_uuid": "649f9cdfaacc606bd22cce037de014e59cb8c6eb"
   },
   "outputs": [
    {
     "data": {
      "application/vnd.plotly.v1+json": {
       "data": [
        {
         "marker": {
          "color": "#44ff54"
         },
         "name": "Target : 1",
         "type": "bar",
         "x": [
          "Business Entity Type 3",
          "Self-employed",
          "XNA",
          "Other",
          "Business Entity Type 2",
          "Construction",
          "Trade: type 7",
          "Medicine",
          "Government",
          "School",
          "Transport: type 4",
          "Business Entity Type 1",
          "Kindergarten",
          "Trade: type 3",
          "Industry: type 3",
          "Security",
          "Agriculture",
          "Housing",
          "Industry: type 11",
          "Industry: type 9",
          "Restaurant",
          "Transport: type 3",
          "Postal",
          "Transport: type 2",
          "Military",
          "Trade: type 2",
          "Bank",
          "Police",
          "Industry: type 1",
          "Industry: type 7",
          "Services",
          "Security Ministries",
          "Industry: type 4",
          "University",
          "Electricity",
          "Hotel",
          "Telecom",
          "Realtor",
          "Industry: type 5",
          "Emergency",
          "Advertising",
          "Insurance",
          "Industry: type 2",
          "Trade: type 1",
          "Cleaning",
          "Mobile",
          "Trade: type 6",
          "Legal Services",
          "Culture",
          "Industry: type 12",
          "Transport: type 1",
          "Industry: type 13",
          "Industry: type 6",
          "Industry: type 10",
          "Religion",
          "Trade: type 5",
          "Industry: type 8",
          "Trade: type 4"
         ],
         "y": [
          6323,
          3908,
          2990,
          1275,
          900,
          785,
          740,
          737,
          726,
          526,
          501,
          487,
          484,
          361,
          348,
          324,
          257,
          235,
          234,
          225,
          212,
          187,
          182,
          172,
          135,
          133,
          130,
          117,
          115,
          105,
          104,
          96,
          89,
          65,
          63,
          62,
          44,
          42,
          41,
          40,
          35,
          34,
          33,
          31,
          29,
          29,
          29,
          24,
          21,
          14,
          9,
          9,
          8,
          7,
          5,
          3,
          3,
          2
         ]
        },
        {
         "marker": {
          "color": "#ff4444"
         },
         "name": "Target : 0",
         "type": "bar",
         "x": [
          "Business Entity Type 3",
          "XNA",
          "Self-employed",
          "Other",
          "Medicine",
          "Government",
          "Business Entity Type 2",
          "School",
          "Trade: type 7",
          "Kindergarten",
          "Construction",
          "Business Entity Type 1",
          "Transport: type 4",
          "Industry: type 9",
          "Trade: type 3",
          "Industry: type 3",
          "Security",
          "Housing",
          "Military",
          "Industry: type 11",
          "Bank",
          "Police",
          "Agriculture",
          "Transport: type 2",
          "Postal",
          "Security Ministries",
          "Trade: type 2",
          "Restaurant",
          "Services",
          "University",
          "Industry: type 7",
          "Transport: type 3",
          "Industry: type 1",
          "Hotel",
          "Electricity",
          "Industry: type 4",
          "Trade: type 6",
          "Insurance",
          "Industry: type 5",
          "Telecom",
          "Emergency",
          "Industry: type 2",
          "Advertising",
          "Culture",
          "Industry: type 12",
          "Realtor",
          "Trade: type 1",
          "Mobile",
          "Legal Services",
          "Cleaning",
          "Transport: type 1",
          "Industry: type 6",
          "Industry: type 10",
          "Religion",
          "Trade: type 4",
          "Industry: type 13",
          "Trade: type 5",
          "Industry: type 8"
         ],
         "y": [
          61669,
          52384,
          34504,
          15408,
          10456,
          9678,
          9653,
          8367,
          7091,
          6396,
          5936,
          5497,
          4897,
          3143,
          3131,
          2930,
          2923,
          2723,
          2499,
          2470,
          2377,
          2224,
          2197,
          2032,
          1975,
          1878,
          1767,
          1599,
          1471,
          1262,
          1202,
          1000,
          924,
          904,
          887,
          788,
          602,
          563,
          558,
          533,
          520,
          425,
          394,
          358,
          355,
          354,
          317,
          288,
          281,
          231,
          192,
          104,
          102,
          80,
          62,
          58,
          46,
          21
         ]
        }
       ],
       "layout": {
        "barmode": "group",
        "height": 300,
        "title": "Organization Type and Target"
       }
      },
      "text/html": [
       "<div id=\"98f896e2-f584-4964-8e7d-6155c5f5a752\" style=\"height: 300px; width: 100%;\" class=\"plotly-graph-div\"></div><script type=\"text/javascript\">require([\"plotly\"], function(Plotly) { window.PLOTLYENV=window.PLOTLYENV || {};window.PLOTLYENV.BASE_URL=\"https://plot.ly\";Plotly.newPlot(\"98f896e2-f584-4964-8e7d-6155c5f5a752\", [{\"type\": \"bar\", \"y\": [6323, 3908, 2990, 1275, 900, 785, 740, 737, 726, 526, 501, 487, 484, 361, 348, 324, 257, 235, 234, 225, 212, 187, 182, 172, 135, 133, 130, 117, 115, 105, 104, 96, 89, 65, 63, 62, 44, 42, 41, 40, 35, 34, 33, 31, 29, 29, 29, 24, 21, 14, 9, 9, 8, 7, 5, 3, 3, 2], \"name\": \"Target : 1\", \"marker\": {\"color\": \"#44ff54\"}, \"x\": [\"Business Entity Type 3\", \"Self-employed\", \"XNA\", \"Other\", \"Business Entity Type 2\", \"Construction\", \"Trade: type 7\", \"Medicine\", \"Government\", \"School\", \"Transport: type 4\", \"Business Entity Type 1\", \"Kindergarten\", \"Trade: type 3\", \"Industry: type 3\", \"Security\", \"Agriculture\", \"Housing\", \"Industry: type 11\", \"Industry: type 9\", \"Restaurant\", \"Transport: type 3\", \"Postal\", \"Transport: type 2\", \"Military\", \"Trade: type 2\", \"Bank\", \"Police\", \"Industry: type 1\", \"Industry: type 7\", \"Services\", \"Security Ministries\", \"Industry: type 4\", \"University\", \"Electricity\", \"Hotel\", \"Telecom\", \"Realtor\", \"Industry: type 5\", \"Emergency\", \"Advertising\", \"Insurance\", \"Industry: type 2\", \"Trade: type 1\", \"Cleaning\", \"Mobile\", \"Trade: type 6\", \"Legal Services\", \"Culture\", \"Industry: type 12\", \"Transport: type 1\", \"Industry: type 13\", \"Industry: type 6\", \"Industry: type 10\", \"Religion\", \"Trade: type 5\", \"Industry: type 8\", \"Trade: type 4\"]}, {\"type\": \"bar\", \"y\": [61669, 52384, 34504, 15408, 10456, 9678, 9653, 8367, 7091, 6396, 5936, 5497, 4897, 3143, 3131, 2930, 2923, 2723, 2499, 2470, 2377, 2224, 2197, 2032, 1975, 1878, 1767, 1599, 1471, 1262, 1202, 1000, 924, 904, 887, 788, 602, 563, 558, 533, 520, 425, 394, 358, 355, 354, 317, 288, 281, 231, 192, 104, 102, 80, 62, 58, 46, 21], \"name\": \"Target : 0\", \"marker\": {\"color\": \"#ff4444\"}, \"x\": [\"Business Entity Type 3\", \"XNA\", \"Self-employed\", \"Other\", \"Medicine\", \"Government\", \"Business Entity Type 2\", \"School\", \"Trade: type 7\", \"Kindergarten\", \"Construction\", \"Business Entity Type 1\", \"Transport: type 4\", \"Industry: type 9\", \"Trade: type 3\", \"Industry: type 3\", \"Security\", \"Housing\", \"Military\", \"Industry: type 11\", \"Bank\", \"Police\", \"Agriculture\", \"Transport: type 2\", \"Postal\", \"Security Ministries\", \"Trade: type 2\", \"Restaurant\", \"Services\", \"University\", \"Industry: type 7\", \"Transport: type 3\", \"Industry: type 1\", \"Hotel\", \"Electricity\", \"Industry: type 4\", \"Trade: type 6\", \"Insurance\", \"Industry: type 5\", \"Telecom\", \"Emergency\", \"Industry: type 2\", \"Advertising\", \"Culture\", \"Industry: type 12\", \"Realtor\", \"Trade: type 1\", \"Mobile\", \"Legal Services\", \"Cleaning\", \"Transport: type 1\", \"Industry: type 6\", \"Industry: type 10\", \"Religion\", \"Trade: type 4\", \"Industry: type 13\", \"Trade: type 5\", \"Industry: type 8\"]}], {\"barmode\": \"group\", \"height\": 300, \"title\": \"Organization Type and Target\"}, {\"showLink\": true, \"linkText\": \"Export to plot.ly\"})});</script>"
      ],
      "text/vnd.plotly.v1+html": [
       "<div id=\"98f896e2-f584-4964-8e7d-6155c5f5a752\" style=\"height: 300px; width: 100%;\" class=\"plotly-graph-div\"></div><script type=\"text/javascript\">require([\"plotly\"], function(Plotly) { window.PLOTLYENV=window.PLOTLYENV || {};window.PLOTLYENV.BASE_URL=\"https://plot.ly\";Plotly.newPlot(\"98f896e2-f584-4964-8e7d-6155c5f5a752\", [{\"type\": \"bar\", \"y\": [6323, 3908, 2990, 1275, 900, 785, 740, 737, 726, 526, 501, 487, 484, 361, 348, 324, 257, 235, 234, 225, 212, 187, 182, 172, 135, 133, 130, 117, 115, 105, 104, 96, 89, 65, 63, 62, 44, 42, 41, 40, 35, 34, 33, 31, 29, 29, 29, 24, 21, 14, 9, 9, 8, 7, 5, 3, 3, 2], \"name\": \"Target : 1\", \"marker\": {\"color\": \"#44ff54\"}, \"x\": [\"Business Entity Type 3\", \"Self-employed\", \"XNA\", \"Other\", \"Business Entity Type 2\", \"Construction\", \"Trade: type 7\", \"Medicine\", \"Government\", \"School\", \"Transport: type 4\", \"Business Entity Type 1\", \"Kindergarten\", \"Trade: type 3\", \"Industry: type 3\", \"Security\", \"Agriculture\", \"Housing\", \"Industry: type 11\", \"Industry: type 9\", \"Restaurant\", \"Transport: type 3\", \"Postal\", \"Transport: type 2\", \"Military\", \"Trade: type 2\", \"Bank\", \"Police\", \"Industry: type 1\", \"Industry: type 7\", \"Services\", \"Security Ministries\", \"Industry: type 4\", \"University\", \"Electricity\", \"Hotel\", \"Telecom\", \"Realtor\", \"Industry: type 5\", \"Emergency\", \"Advertising\", \"Insurance\", \"Industry: type 2\", \"Trade: type 1\", \"Cleaning\", \"Mobile\", \"Trade: type 6\", \"Legal Services\", \"Culture\", \"Industry: type 12\", \"Transport: type 1\", \"Industry: type 13\", \"Industry: type 6\", \"Industry: type 10\", \"Religion\", \"Trade: type 5\", \"Industry: type 8\", \"Trade: type 4\"]}, {\"type\": \"bar\", \"y\": [61669, 52384, 34504, 15408, 10456, 9678, 9653, 8367, 7091, 6396, 5936, 5497, 4897, 3143, 3131, 2930, 2923, 2723, 2499, 2470, 2377, 2224, 2197, 2032, 1975, 1878, 1767, 1599, 1471, 1262, 1202, 1000, 924, 904, 887, 788, 602, 563, 558, 533, 520, 425, 394, 358, 355, 354, 317, 288, 281, 231, 192, 104, 102, 80, 62, 58, 46, 21], \"name\": \"Target : 0\", \"marker\": {\"color\": \"#ff4444\"}, \"x\": [\"Business Entity Type 3\", \"XNA\", \"Self-employed\", \"Other\", \"Medicine\", \"Government\", \"Business Entity Type 2\", \"School\", \"Trade: type 7\", \"Kindergarten\", \"Construction\", \"Business Entity Type 1\", \"Transport: type 4\", \"Industry: type 9\", \"Trade: type 3\", \"Industry: type 3\", \"Security\", \"Housing\", \"Military\", \"Industry: type 11\", \"Bank\", \"Police\", \"Agriculture\", \"Transport: type 2\", \"Postal\", \"Security Ministries\", \"Trade: type 2\", \"Restaurant\", \"Services\", \"University\", \"Industry: type 7\", \"Transport: type 3\", \"Industry: type 1\", \"Hotel\", \"Electricity\", \"Industry: type 4\", \"Trade: type 6\", \"Insurance\", \"Industry: type 5\", \"Telecom\", \"Emergency\", \"Industry: type 2\", \"Advertising\", \"Culture\", \"Industry: type 12\", \"Realtor\", \"Trade: type 1\", \"Mobile\", \"Legal Services\", \"Cleaning\", \"Transport: type 1\", \"Industry: type 6\", \"Industry: type 10\", \"Religion\", \"Trade: type 4\", \"Industry: type 13\", \"Trade: type 5\", \"Industry: type 8\"]}], {\"barmode\": \"group\", \"height\": 300, \"title\": \"Organization Type and Target\"}, {\"showLink\": true, \"linkText\": \"Export to plot.ly\"})});</script>"
      ]
     },
     "metadata": {},
     "output_type": "display_data"
    },
    {
     "data": {
      "application/vnd.plotly.v1+json": {
       "data": [
        {
         "marker": {
          "color": "#44ff54"
         },
         "name": "Target : 1",
         "type": "bar",
         "x": [
          "Laborers",
          "Sales staff",
          "Drivers",
          "Core staff",
          "Managers",
          "Security staff",
          "High skill tech staff",
          "Cooking staff",
          "Medicine staff",
          "Accountants",
          "Cleaning staff",
          "Low-skill Laborers",
          "Private service staff",
          "Waiters/barmen staff",
          "Secretaries",
          "Realty agents",
          "HR staff",
          "IT staff"
         ],
         "y": [
          5838,
          3092,
          2107,
          1738,
          1328,
          722,
          701,
          621,
          572,
          474,
          447,
          359,
          175,
          152,
          92,
          59,
          36,
          34
         ]
        },
        {
         "marker": {
          "color": "#ff4444"
         },
         "name": "Target : 0",
         "type": "bar",
         "x": [
          "Laborers",
          "Sales staff",
          "Core staff",
          "Managers",
          "Drivers",
          "High skill tech staff",
          "Accountants",
          "Medicine staff",
          "Security staff",
          "Cooking staff",
          "Cleaning staff",
          "Private service staff",
          "Low-skill Laborers",
          "Secretaries",
          "Waiters/barmen staff",
          "Realty agents",
          "HR staff",
          "IT staff"
         ],
         "y": [
          49348,
          29010,
          25832,
          20043,
          16496,
          10679,
          9339,
          7965,
          5999,
          5325,
          4206,
          2477,
          1734,
          1213,
          1196,
          692,
          527,
          492
         ]
        }
       ],
       "layout": {
        "barmode": "group",
        "height": 300,
        "title": "Occupation Type and Target"
       }
      },
      "text/html": [
       "<div id=\"685026e9-12dd-4496-b1fd-ca0dcf60d223\" style=\"height: 300px; width: 100%;\" class=\"plotly-graph-div\"></div><script type=\"text/javascript\">require([\"plotly\"], function(Plotly) { window.PLOTLYENV=window.PLOTLYENV || {};window.PLOTLYENV.BASE_URL=\"https://plot.ly\";Plotly.newPlot(\"685026e9-12dd-4496-b1fd-ca0dcf60d223\", [{\"type\": \"bar\", \"y\": [5838, 3092, 2107, 1738, 1328, 722, 701, 621, 572, 474, 447, 359, 175, 152, 92, 59, 36, 34], \"name\": \"Target : 1\", \"marker\": {\"color\": \"#44ff54\"}, \"x\": [\"Laborers\", \"Sales staff\", \"Drivers\", \"Core staff\", \"Managers\", \"Security staff\", \"High skill tech staff\", \"Cooking staff\", \"Medicine staff\", \"Accountants\", \"Cleaning staff\", \"Low-skill Laborers\", \"Private service staff\", \"Waiters/barmen staff\", \"Secretaries\", \"Realty agents\", \"HR staff\", \"IT staff\"]}, {\"type\": \"bar\", \"y\": [49348, 29010, 25832, 20043, 16496, 10679, 9339, 7965, 5999, 5325, 4206, 2477, 1734, 1213, 1196, 692, 527, 492], \"name\": \"Target : 0\", \"marker\": {\"color\": \"#ff4444\"}, \"x\": [\"Laborers\", \"Sales staff\", \"Core staff\", \"Managers\", \"Drivers\", \"High skill tech staff\", \"Accountants\", \"Medicine staff\", \"Security staff\", \"Cooking staff\", \"Cleaning staff\", \"Private service staff\", \"Low-skill Laborers\", \"Secretaries\", \"Waiters/barmen staff\", \"Realty agents\", \"HR staff\", \"IT staff\"]}], {\"barmode\": \"group\", \"height\": 300, \"title\": \"Occupation Type and Target\"}, {\"showLink\": true, \"linkText\": \"Export to plot.ly\"})});</script>"
      ],
      "text/vnd.plotly.v1+html": [
       "<div id=\"685026e9-12dd-4496-b1fd-ca0dcf60d223\" style=\"height: 300px; width: 100%;\" class=\"plotly-graph-div\"></div><script type=\"text/javascript\">require([\"plotly\"], function(Plotly) { window.PLOTLYENV=window.PLOTLYENV || {};window.PLOTLYENV.BASE_URL=\"https://plot.ly\";Plotly.newPlot(\"685026e9-12dd-4496-b1fd-ca0dcf60d223\", [{\"type\": \"bar\", \"y\": [5838, 3092, 2107, 1738, 1328, 722, 701, 621, 572, 474, 447, 359, 175, 152, 92, 59, 36, 34], \"name\": \"Target : 1\", \"marker\": {\"color\": \"#44ff54\"}, \"x\": [\"Laborers\", \"Sales staff\", \"Drivers\", \"Core staff\", \"Managers\", \"Security staff\", \"High skill tech staff\", \"Cooking staff\", \"Medicine staff\", \"Accountants\", \"Cleaning staff\", \"Low-skill Laborers\", \"Private service staff\", \"Waiters/barmen staff\", \"Secretaries\", \"Realty agents\", \"HR staff\", \"IT staff\"]}, {\"type\": \"bar\", \"y\": [49348, 29010, 25832, 20043, 16496, 10679, 9339, 7965, 5999, 5325, 4206, 2477, 1734, 1213, 1196, 692, 527, 492], \"name\": \"Target : 0\", \"marker\": {\"color\": \"#ff4444\"}, \"x\": [\"Laborers\", \"Sales staff\", \"Core staff\", \"Managers\", \"Drivers\", \"High skill tech staff\", \"Accountants\", \"Medicine staff\", \"Security staff\", \"Cooking staff\", \"Cleaning staff\", \"Private service staff\", \"Low-skill Laborers\", \"Secretaries\", \"Waiters/barmen staff\", \"Realty agents\", \"HR staff\", \"IT staff\"]}], {\"barmode\": \"group\", \"height\": 300, \"title\": \"Occupation Type and Target\"}, {\"showLink\": true, \"linkText\": \"Export to plot.ly\"})});</script>"
      ]
     },
     "metadata": {},
     "output_type": "display_data"
    }
   ],
   "source": [
    "gp('ORGANIZATION_TYPE', 'Organization Type and Target')\n",
    "gp('OCCUPATION_TYPE', 'Occupation Type and Target')"
   ]
  },
  {
   "cell_type": "markdown",
   "metadata": {
    "_cell_guid": "944c588e-66b5-4e58-b168-1bb81988e98a",
    "_uuid": "01b48f6d2e0ea1e282dee78cf0eaf04769bfe692"
   },
   "source": [
    "### 2.8.3. Walls Material, Foundation, and House Type Distribution"
   ]
  },
  {
   "cell_type": "code",
   "execution_count": 15,
   "metadata": {
    "_cell_guid": "d8b29f65-422d-4e08-955b-e530f9fcaa98",
    "_kg_hide-input": true,
    "_uuid": "d4ddc9b411765359a5c5364e9db02517fa80f05d"
   },
   "outputs": [
    {
     "data": {
      "application/vnd.plotly.v1+json": {
       "data": [
        {
         "marker": {
          "color": "#639af2"
         },
         "orientation": "h",
         "type": "bar",
         "x": [
          5619,
          5687,
          12080,
          73830
         ],
         "xaxis": "x1",
         "y": [
          "org spec account",
          "not specified",
          "reg oper spec account",
          "reg oper account"
         ],
         "yaxis": "y1"
        },
        {
         "marker": {
          "color": "#a4c5f9"
         },
         "orientation": "h",
         "type": "bar",
         "x": [
          1625,
          1779,
          2296,
          5362,
          9253,
          64815,
          66040
         ],
         "xaxis": "x2",
         "y": [
          "Others",
          "Monolithic",
          "Mixed",
          "Wooden",
          "Block",
          "Stone, brick",
          "Panel"
         ],
         "yaxis": "y2"
        },
        {
         "marker": {
          "color": "#a4c5f9"
         },
         "orientation": "h",
         "type": "bar",
         "x": [
          1212,
          1499,
          150503
         ],
         "xaxis": "x3",
         "y": [
          "terraced house",
          "specific housing",
          "block of flats"
         ],
         "yaxis": "y3"
        }
       ],
       "layout": {
        "annotations": [
         {
          "font": {
           "size": 16
          },
          "showarrow": false,
          "text": "WALLSMATERIAL_MODE",
          "x": 0.14444444444444446,
          "xanchor": "center",
          "xref": "paper",
          "y": 1,
          "yanchor": "bottom",
          "yref": "paper"
         },
         {
          "font": {
           "size": 16
          },
          "showarrow": false,
          "text": "FONDKAPREMONT_MODE",
          "x": 0.5,
          "xanchor": "center",
          "xref": "paper",
          "y": 1,
          "yanchor": "bottom",
          "yref": "paper"
         },
         {
          "font": {
           "size": 16
          },
          "showarrow": false,
          "text": "HOUSETYPE_MODE",
          "x": 0.8555555555555556,
          "xanchor": "center",
          "xref": "paper",
          "y": 1,
          "yanchor": "bottom",
          "yref": "paper"
         }
        ],
        "height": 400,
        "margin": {
         "l": 100
        },
        "showlegend": false,
        "xaxis1": {
         "anchor": "y1",
         "domain": [
          0,
          0.2888888888888889
         ]
        },
        "xaxis2": {
         "anchor": "y2",
         "domain": [
          0.35555555555555557,
          0.6444444444444445
         ]
        },
        "xaxis3": {
         "anchor": "y3",
         "domain": [
          0.7111111111111111,
          1
         ]
        },
        "yaxis1": {
         "anchor": "x1",
         "domain": [
          0,
          1
         ]
        },
        "yaxis2": {
         "anchor": "x2",
         "domain": [
          0,
          1
         ]
        },
        "yaxis3": {
         "anchor": "x3",
         "domain": [
          0,
          1
         ]
        }
       }
      },
      "text/html": [
       "<div id=\"9f9747a2-267d-47c1-9e2f-c683521fe285\" style=\"height: 400px; width: 100%;\" class=\"plotly-graph-div\"></div><script type=\"text/javascript\">require([\"plotly\"], function(Plotly) { window.PLOTLYENV=window.PLOTLYENV || {};window.PLOTLYENV.BASE_URL=\"https://plot.ly\";Plotly.newPlot(\"9f9747a2-267d-47c1-9e2f-c683521fe285\", [{\"y\": [\"org spec account\", \"not specified\", \"reg oper spec account\", \"reg oper account\"], \"orientation\": \"h\", \"yaxis\": \"y1\", \"type\": \"bar\", \"x\": [5619, 5687, 12080, 73830], \"xaxis\": \"x1\", \"marker\": {\"color\": \"#639af2\"}}, {\"y\": [\"Others\", \"Monolithic\", \"Mixed\", \"Wooden\", \"Block\", \"Stone, brick\", \"Panel\"], \"marker\": {\"color\": \"#a4c5f9\"}, \"yaxis\": \"y2\", \"type\": \"bar\", \"orientation\": \"h\", \"xaxis\": \"x2\", \"x\": [1625, 1779, 2296, 5362, 9253, 64815, 66040]}, {\"y\": [\"terraced house\", \"specific housing\", \"block of flats\"], \"x\": [1212, 1499, 150503], \"yaxis\": \"y3\", \"type\": \"bar\", \"marker\": {\"color\": \"#a4c5f9\"}, \"xaxis\": \"x3\", \"orientation\": \"h\"}], {\"xaxis2\": {\"domain\": [0.35555555555555557, 0.6444444444444445], \"anchor\": \"y2\"}, \"yaxis1\": {\"domain\": [0.0, 1.0], \"anchor\": \"x1\"}, \"yaxis2\": {\"domain\": [0.0, 1.0], \"anchor\": \"x2\"}, \"showlegend\": false, \"xaxis1\": {\"domain\": [0.0, 0.2888888888888889], \"anchor\": \"y1\"}, \"margin\": {\"l\": 100}, \"xaxis3\": {\"domain\": [0.7111111111111111, 1.0], \"anchor\": \"y3\"}, \"yaxis3\": {\"domain\": [0.0, 1.0], \"anchor\": \"x3\"}, \"height\": 400, \"annotations\": [{\"y\": 1.0, \"font\": {\"size\": 16}, \"xref\": \"paper\", \"showarrow\": false, \"yref\": \"paper\", \"text\": \"WALLSMATERIAL_MODE\", \"x\": 0.14444444444444446, \"xanchor\": \"center\", \"yanchor\": \"bottom\"}, {\"y\": 1.0, \"font\": {\"size\": 16}, \"xref\": \"paper\", \"showarrow\": false, \"yref\": \"paper\", \"text\": \"FONDKAPREMONT_MODE\", \"x\": 0.5, \"xanchor\": \"center\", \"yanchor\": \"bottom\"}, {\"y\": 1.0, \"font\": {\"size\": 16}, \"xref\": \"paper\", \"showarrow\": false, \"yref\": \"paper\", \"text\": \"HOUSETYPE_MODE\", \"x\": 0.8555555555555556, \"xanchor\": \"center\", \"yanchor\": \"bottom\"}]}, {\"showLink\": true, \"linkText\": \"Export to plot.ly\"})});</script>"
      ],
      "text/vnd.plotly.v1+html": [
       "<div id=\"9f9747a2-267d-47c1-9e2f-c683521fe285\" style=\"height: 400px; width: 100%;\" class=\"plotly-graph-div\"></div><script type=\"text/javascript\">require([\"plotly\"], function(Plotly) { window.PLOTLYENV=window.PLOTLYENV || {};window.PLOTLYENV.BASE_URL=\"https://plot.ly\";Plotly.newPlot(\"9f9747a2-267d-47c1-9e2f-c683521fe285\", [{\"y\": [\"org spec account\", \"not specified\", \"reg oper spec account\", \"reg oper account\"], \"orientation\": \"h\", \"yaxis\": \"y1\", \"type\": \"bar\", \"x\": [5619, 5687, 12080, 73830], \"xaxis\": \"x1\", \"marker\": {\"color\": \"#639af2\"}}, {\"y\": [\"Others\", \"Monolithic\", \"Mixed\", \"Wooden\", \"Block\", \"Stone, brick\", \"Panel\"], \"marker\": {\"color\": \"#a4c5f9\"}, \"yaxis\": \"y2\", \"type\": \"bar\", \"orientation\": \"h\", \"xaxis\": \"x2\", \"x\": [1625, 1779, 2296, 5362, 9253, 64815, 66040]}, {\"y\": [\"terraced house\", \"specific housing\", \"block of flats\"], \"x\": [1212, 1499, 150503], \"yaxis\": \"y3\", \"type\": \"bar\", \"marker\": {\"color\": \"#a4c5f9\"}, \"xaxis\": \"x3\", \"orientation\": \"h\"}], {\"xaxis2\": {\"domain\": [0.35555555555555557, 0.6444444444444445], \"anchor\": \"y2\"}, \"yaxis1\": {\"domain\": [0.0, 1.0], \"anchor\": \"x1\"}, \"yaxis2\": {\"domain\": [0.0, 1.0], \"anchor\": \"x2\"}, \"showlegend\": false, \"xaxis1\": {\"domain\": [0.0, 0.2888888888888889], \"anchor\": \"y1\"}, \"margin\": {\"l\": 100}, \"xaxis3\": {\"domain\": [0.7111111111111111, 1.0], \"anchor\": \"y3\"}, \"yaxis3\": {\"domain\": [0.0, 1.0], \"anchor\": \"x3\"}, \"height\": 400, \"annotations\": [{\"y\": 1.0, \"font\": {\"size\": 16}, \"xref\": \"paper\", \"showarrow\": false, \"yref\": \"paper\", \"text\": \"WALLSMATERIAL_MODE\", \"x\": 0.14444444444444446, \"xanchor\": \"center\", \"yanchor\": \"bottom\"}, {\"y\": 1.0, \"font\": {\"size\": 16}, \"xref\": \"paper\", \"showarrow\": false, \"yref\": \"paper\", \"text\": \"FONDKAPREMONT_MODE\", \"x\": 0.5, \"xanchor\": \"center\", \"yanchor\": \"bottom\"}, {\"y\": 1.0, \"font\": {\"size\": 16}, \"xref\": \"paper\", \"showarrow\": false, \"yref\": \"paper\", \"text\": \"HOUSETYPE_MODE\", \"x\": 0.8555555555555556, \"xanchor\": \"center\", \"yanchor\": \"bottom\"}]}, {\"showLink\": true, \"linkText\": \"Export to plot.ly\"})});</script>"
      ]
     },
     "metadata": {},
     "output_type": "display_data"
    }
   ],
   "source": [
    "tr2 = bar_hor(app_train, \"WALLSMATERIAL_MODE\", \"Distribution of FLAG_OWN_CAR\" ,\"#a4c5f9\", w=700, lm=100, return_trace = True)\n",
    "tr1 = bar_hor(app_train, \"FONDKAPREMONT_MODE\", \"Distribution of FLAG_OWN_REALTY\" ,\"#639af2\", w=700, lm=100, return_trace= True)\n",
    "tr3 = bar_hor(app_train, \"HOUSETYPE_MODE\", \"Distribution of FLAG_OWN_CAR\" ,\"#a4c5f9\", w=700, lm=100, return_trace = True)\n",
    "\n",
    "fig = tools.make_subplots(rows=1, cols=3, print_grid=False, subplot_titles = ['WALLSMATERIAL_MODE' , 'FONDKAPREMONT_MODE', 'HOUSETYPE_MODE'])\n",
    "fig.append_trace(tr1, 1, 1);\n",
    "fig.append_trace(tr2, 1, 2);\n",
    "fig.append_trace(tr3, 1, 3);\n",
    "\n",
    "fig['layout'].update(height=400, showlegend=False, margin=dict(l=100));\n",
    "iplot(fig);"
   ]
  },
  {
   "cell_type": "markdown",
   "metadata": {
    "_cell_guid": "d3909701-1f14-4305-8e74-e9157fe7375e",
    "_uuid": "7abc636890de91c57b91c6e2ea09d1943b0cfc78"
   },
   "source": [
    "> - \"Blocks and Flats\" related house types have filed the largest number of loan applications equal to about 150K, rest of the other categories : Specific Housing and Terraced house have less than 1500 applications. Similarly houses having Panel and Stone Brick type foundations have filed the largest applciations close to 120K combined. \n",
    "\n",
    "### 2.8.4 Target Variable with respect to Walls Material, Fondkappremont, House Type "
   ]
  },
  {
   "cell_type": "code",
   "execution_count": 16,
   "metadata": {
    "_cell_guid": "f0cc4749-3a87-48fe-8d60-795139602394",
    "_kg_hide-input": true,
    "_uuid": "76b981c188baf704a6ded05143325a600e24ac81"
   },
   "outputs": [
    {
     "data": {
      "application/vnd.plotly.v1+json": {
       "data": [
        {
         "marker": {
          "color": "#44ff54"
         },
         "name": "Target : 1",
         "type": "bar",
         "x": [
          "Stone, brick",
          "Panel",
          "Block",
          "Wooden",
          "Mixed",
          "Others",
          "Monolithic"
         ],
         "y": [
          4800,
          4192,
          650,
          520,
          173,
          135,
          84
         ]
        },
        {
         "marker": {
          "color": "#ff4444"
         },
         "name": "Target : 0",
         "type": "bar",
         "x": [
          "Panel",
          "Stone, brick",
          "Block",
          "Wooden",
          "Mixed",
          "Monolithic",
          "Others"
         ],
         "y": [
          61848,
          60015,
          8603,
          4842,
          2123,
          1695,
          1490
         ]
        }
       ],
       "layout": {
        "barmode": "group",
        "height": 300,
        "title": "Wall Material and Target"
       }
      },
      "text/html": [
       "<div id=\"420453b2-987a-478b-9026-d847ebfa8fee\" style=\"height: 300px; width: 100%;\" class=\"plotly-graph-div\"></div><script type=\"text/javascript\">require([\"plotly\"], function(Plotly) { window.PLOTLYENV=window.PLOTLYENV || {};window.PLOTLYENV.BASE_URL=\"https://plot.ly\";Plotly.newPlot(\"420453b2-987a-478b-9026-d847ebfa8fee\", [{\"type\": \"bar\", \"y\": [4800, 4192, 650, 520, 173, 135, 84], \"name\": \"Target : 1\", \"marker\": {\"color\": \"#44ff54\"}, \"x\": [\"Stone, brick\", \"Panel\", \"Block\", \"Wooden\", \"Mixed\", \"Others\", \"Monolithic\"]}, {\"type\": \"bar\", \"y\": [61848, 60015, 8603, 4842, 2123, 1695, 1490], \"name\": \"Target : 0\", \"marker\": {\"color\": \"#ff4444\"}, \"x\": [\"Panel\", \"Stone, brick\", \"Block\", \"Wooden\", \"Mixed\", \"Monolithic\", \"Others\"]}], {\"barmode\": \"group\", \"height\": 300, \"title\": \"Wall Material and Target\"}, {\"showLink\": true, \"linkText\": \"Export to plot.ly\"})});</script>"
      ],
      "text/vnd.plotly.v1+html": [
       "<div id=\"420453b2-987a-478b-9026-d847ebfa8fee\" style=\"height: 300px; width: 100%;\" class=\"plotly-graph-div\"></div><script type=\"text/javascript\">require([\"plotly\"], function(Plotly) { window.PLOTLYENV=window.PLOTLYENV || {};window.PLOTLYENV.BASE_URL=\"https://plot.ly\";Plotly.newPlot(\"420453b2-987a-478b-9026-d847ebfa8fee\", [{\"type\": \"bar\", \"y\": [4800, 4192, 650, 520, 173, 135, 84], \"name\": \"Target : 1\", \"marker\": {\"color\": \"#44ff54\"}, \"x\": [\"Stone, brick\", \"Panel\", \"Block\", \"Wooden\", \"Mixed\", \"Others\", \"Monolithic\"]}, {\"type\": \"bar\", \"y\": [61848, 60015, 8603, 4842, 2123, 1695, 1490], \"name\": \"Target : 0\", \"marker\": {\"color\": \"#ff4444\"}, \"x\": [\"Panel\", \"Stone, brick\", \"Block\", \"Wooden\", \"Mixed\", \"Monolithic\", \"Others\"]}], {\"barmode\": \"group\", \"height\": 300, \"title\": \"Wall Material and Target\"}, {\"showLink\": true, \"linkText\": \"Export to plot.ly\"})});</script>"
      ]
     },
     "metadata": {},
     "output_type": "display_data"
    },
    {
     "data": {
      "application/vnd.plotly.v1+json": {
       "data": [
        {
         "marker": {
          "color": "#44ff54"
         },
         "name": "Target : 1",
         "type": "bar",
         "x": [
          "reg oper account",
          "reg oper spec account",
          "not specified",
          "org spec account"
         ],
         "y": [
          5152,
          792,
          429,
          327
         ]
        },
        {
         "marker": {
          "color": "#ff4444"
         },
         "name": "Target : 0",
         "type": "bar",
         "x": [
          "reg oper account",
          "reg oper spec account",
          "org spec account",
          "not specified"
         ],
         "y": [
          68678,
          11288,
          5292,
          5258
         ]
        }
       ],
       "layout": {
        "barmode": "group",
        "height": 300,
        "title": "Foundation and Target"
       }
      },
      "text/html": [
       "<div id=\"a8a2f19d-09fb-4b61-9298-2ba7c4d2e077\" style=\"height: 300px; width: 100%;\" class=\"plotly-graph-div\"></div><script type=\"text/javascript\">require([\"plotly\"], function(Plotly) { window.PLOTLYENV=window.PLOTLYENV || {};window.PLOTLYENV.BASE_URL=\"https://plot.ly\";Plotly.newPlot(\"a8a2f19d-09fb-4b61-9298-2ba7c4d2e077\", [{\"type\": \"bar\", \"y\": [5152, 792, 429, 327], \"name\": \"Target : 1\", \"marker\": {\"color\": \"#44ff54\"}, \"x\": [\"reg oper account\", \"reg oper spec account\", \"not specified\", \"org spec account\"]}, {\"type\": \"bar\", \"y\": [68678, 11288, 5292, 5258], \"name\": \"Target : 0\", \"marker\": {\"color\": \"#ff4444\"}, \"x\": [\"reg oper account\", \"reg oper spec account\", \"org spec account\", \"not specified\"]}], {\"barmode\": \"group\", \"height\": 300, \"title\": \"Foundation and Target\"}, {\"showLink\": true, \"linkText\": \"Export to plot.ly\"})});</script>"
      ],
      "text/vnd.plotly.v1+html": [
       "<div id=\"a8a2f19d-09fb-4b61-9298-2ba7c4d2e077\" style=\"height: 300px; width: 100%;\" class=\"plotly-graph-div\"></div><script type=\"text/javascript\">require([\"plotly\"], function(Plotly) { window.PLOTLYENV=window.PLOTLYENV || {};window.PLOTLYENV.BASE_URL=\"https://plot.ly\";Plotly.newPlot(\"a8a2f19d-09fb-4b61-9298-2ba7c4d2e077\", [{\"type\": \"bar\", \"y\": [5152, 792, 429, 327], \"name\": \"Target : 1\", \"marker\": {\"color\": \"#44ff54\"}, \"x\": [\"reg oper account\", \"reg oper spec account\", \"not specified\", \"org spec account\"]}, {\"type\": \"bar\", \"y\": [68678, 11288, 5292, 5258], \"name\": \"Target : 0\", \"marker\": {\"color\": \"#ff4444\"}, \"x\": [\"reg oper account\", \"reg oper spec account\", \"org spec account\", \"not specified\"]}], {\"barmode\": \"group\", \"height\": 300, \"title\": \"Foundation and Target\"}, {\"showLink\": true, \"linkText\": \"Export to plot.ly\"})});</script>"
      ]
     },
     "metadata": {},
     "output_type": "display_data"
    },
    {
     "data": {
      "application/vnd.plotly.v1+json": {
       "data": [
        {
         "marker": {
          "color": "#44ff54"
         },
         "name": "Target : 1",
         "type": "bar",
         "x": [
          "block of flats",
          "specific housing",
          "terraced house"
         ],
         "y": [
          10450,
          152,
          103
         ]
        },
        {
         "marker": {
          "color": "#ff4444"
         },
         "name": "Target : 0",
         "type": "bar",
         "x": [
          "block of flats",
          "specific housing",
          "terraced house"
         ],
         "y": [
          140053,
          1347,
          1109
         ]
        }
       ],
       "layout": {
        "barmode": "group",
        "height": 300,
        "title": "House Type and Target"
       }
      },
      "text/html": [
       "<div id=\"f406c8a9-c3dc-4a9f-ae3c-e082c2cfeee1\" style=\"height: 300px; width: 100%;\" class=\"plotly-graph-div\"></div><script type=\"text/javascript\">require([\"plotly\"], function(Plotly) { window.PLOTLYENV=window.PLOTLYENV || {};window.PLOTLYENV.BASE_URL=\"https://plot.ly\";Plotly.newPlot(\"f406c8a9-c3dc-4a9f-ae3c-e082c2cfeee1\", [{\"type\": \"bar\", \"y\": [10450, 152, 103], \"name\": \"Target : 1\", \"marker\": {\"color\": \"#44ff54\"}, \"x\": [\"block of flats\", \"specific housing\", \"terraced house\"]}, {\"type\": \"bar\", \"y\": [140053, 1347, 1109], \"name\": \"Target : 0\", \"marker\": {\"color\": \"#ff4444\"}, \"x\": [\"block of flats\", \"specific housing\", \"terraced house\"]}], {\"barmode\": \"group\", \"height\": 300, \"title\": \"House Type and Target\"}, {\"showLink\": true, \"linkText\": \"Export to plot.ly\"})});</script>"
      ],
      "text/vnd.plotly.v1+html": [
       "<div id=\"f406c8a9-c3dc-4a9f-ae3c-e082c2cfeee1\" style=\"height: 300px; width: 100%;\" class=\"plotly-graph-div\"></div><script type=\"text/javascript\">require([\"plotly\"], function(Plotly) { window.PLOTLYENV=window.PLOTLYENV || {};window.PLOTLYENV.BASE_URL=\"https://plot.ly\";Plotly.newPlot(\"f406c8a9-c3dc-4a9f-ae3c-e082c2cfeee1\", [{\"type\": \"bar\", \"y\": [10450, 152, 103], \"name\": \"Target : 1\", \"marker\": {\"color\": \"#44ff54\"}, \"x\": [\"block of flats\", \"specific housing\", \"terraced house\"]}, {\"type\": \"bar\", \"y\": [140053, 1347, 1109], \"name\": \"Target : 0\", \"marker\": {\"color\": \"#ff4444\"}, \"x\": [\"block of flats\", \"specific housing\", \"terraced house\"]}], {\"barmode\": \"group\", \"height\": 300, \"title\": \"House Type and Target\"}, {\"showLink\": true, \"linkText\": \"Export to plot.ly\"})});</script>"
      ]
     },
     "metadata": {},
     "output_type": "display_data"
    }
   ],
   "source": [
    "gp('WALLSMATERIAL_MODE', 'Wall Material and Target')\n",
    "gp('FONDKAPREMONT_MODE', 'Foundation and Target')\n",
    "gp('HOUSETYPE_MODE', 'House Type and Target')"
   ]
  },
  {
   "cell_type": "markdown",
   "metadata": {
    "_cell_guid": "1816b955-1d3e-4aef-8c05-f17fb3383b2d",
    "_uuid": "722da453c5c4af02b281477c6492c7bb6e2b0e38"
   },
   "source": [
    "## 2.9. Distribution of Amount Credit "
   ]
  },
  {
   "cell_type": "code",
   "execution_count": 17,
   "metadata": {
    "_cell_guid": "990e5730-12cd-4050-b434-fb89fdb00446",
    "_kg_hide-input": true,
    "_uuid": "b12a764b83e17e73090f54f3c8583a1eb8c9420d"
   },
   "outputs": [
    {
     "data": {
      "image/png": "[encoded data removed]",
      "text/plain": [
       "<Figure size 864x360 with 1 Axes>"
      ]
     },
     "metadata": {},
     "output_type": "display_data"
    }
   ],
   "source": [
    "plt.figure(figsize=(12,5))\n",
    "plt.title(\"Distribution of AMT_CREDIT\")\n",
    "ax = sns.distplot(app_train[\"AMT_CREDIT\"])"
   ]
  },
  {
   "cell_type": "markdown",
   "metadata": {
    "_cell_guid": "28618990-d734-4e60-91f1-b8e9239ba745",
    "_uuid": "7e46488114454dfcfeee443b79c79584e58519be"
   },
   "source": [
    "## 2.10 Distribution of Amount AMT_ANNUITY "
   ]
  },
  {
   "cell_type": "code",
   "execution_count": 18,
   "metadata": {
    "_cell_guid": "0cded2f2-c56c-45f9-8b3a-960359ec5f47",
    "_kg_hide-input": true,
    "_uuid": "de409db59dc4899075a49438f946480768b77816"
   },
   "outputs": [
    {
     "data": {
      "image/png": "[encoded data removed]",
      "text/plain": [
       "<Figure size 864x360 with 1 Axes>"
      ]
     },
     "metadata": {},
     "output_type": "display_data"
    }
   ],
   "source": [
    "plt.figure(figsize=(12,5))\n",
    "plt.title(\"Distribution of AMT_ANNUITY\")\n",
    "ax = sns.distplot(app_train[\"AMT_ANNUITY\"].dropna())"
   ]
  },
  {
   "cell_type": "markdown",
   "metadata": {
    "_cell_guid": "4e3de61e-e138-42c7-955c-12eff8aa2b91",
    "_uuid": "57fbb75649a1eeb1ce5b9f7b2ac423815321f724"
   },
   "source": [
    "## 2.11 Distribution of Amount AMT_GOODS_PRICE "
   ]
  },
  {
   "cell_type": "code",
   "execution_count": 19,
   "metadata": {
    "_cell_guid": "ad976051-52ee-4af9-b132-8b7d25712fd2",
    "_kg_hide-input": true,
    "_uuid": "fa776d88b103a82dce34b3c71a07056c20765eaa"
   },
   "outputs": [
    {
     "data": {
      "image/png": "[encoded data removed]",
      "text/plain": [
       "<Figure size 864x360 with 1 Axes>"
      ]
     },
     "metadata": {},
     "output_type": "display_data"
    }
   ],
   "source": [
    "plt.figure(figsize=(12,5))\n",
    "plt.title(\"Distribution of AMT_GOODS_PRICE\")\n",
    "ax = sns.distplot(app_train[\"AMT_GOODS_PRICE\"].dropna())\n",
    "# ax = sns.distplot(app_train[\"CNT_CHILDREN\"], kde = False)"
   ]
  },
  {
   "cell_type": "markdown",
   "metadata": {
    "_cell_guid": "f2c59771-3d8d-475c-b947-f2e6f1706be3",
    "_uuid": "a39d45f10303bba1e7a0a9dc1d3b022405f33f32"
   },
   "source": [
    "## 2.12 Distribution of Amount REGION_POPULATION_RELATIVE "
   ]
  },
  {
   "cell_type": "code",
   "execution_count": 20,
   "metadata": {
    "_cell_guid": "1bb22b1a-3356-45d0-b33c-7d7eb93e43c1",
    "_kg_hide-input": true,
    "_uuid": "ca9b9e4234d803b99882fff961dab615e813439a"
   },
   "outputs": [
    {
     "data": {
      "image/png": "[encoded data removed]",
      "text/plain": [
       "<Figure size 864x360 with 1 Axes>"
      ]
     },
     "metadata": {},
     "output_type": "display_data"
    }
   ],
   "source": [
    "plt.figure(figsize=(12,5))\n",
    "plt.title(\"Distribution of REGION_POPULATION_RELATIVE\")\n",
    "ax = sns.distplot(app_train[\"REGION_POPULATION_RELATIVE\"])"
   ]
  },
  {
   "cell_type": "markdown",
   "metadata": {
    "_cell_guid": "ce024235-2643-428d-9611-670065124bd9",
    "_uuid": "98c03a26c8ec63b7ba231b08cbabf3580900390a"
   },
   "source": [
    "## 2.13 Distribution of Amount DAYS_BIRTH "
   ]
  },
  {
   "cell_type": "code",
   "execution_count": 21,
   "metadata": {
    "_cell_guid": "0d64bdd8-0d58-4545-895c-e55df77e4898",
    "_kg_hide-input": true,
    "_uuid": "05e227cb7f791d0342fef9706c8c8834873651c1"
   },
   "outputs": [
    {
     "data": {
      "image/png": "[encoded data removed]",
      "text/plain": [
       "<Figure size 864x360 with 1 Axes>"
      ]
     },
     "metadata": {},
     "output_type": "display_data"
    }
   ],
   "source": [
    "plt.figure(figsize=(12,5))\n",
    "plt.title(\"Distribution of DAYS_BIRTH\")\n",
    "ax = sns.distplot(app_train[\"DAYS_BIRTH\"])"
   ]
  },
  {
   "cell_type": "markdown",
   "metadata": {
    "_cell_guid": "5b4de0af-1d9c-4a11-853c-1376f08405f9",
    "_uuid": "33132c54442e0fc616de776e67cf07aa5427e94c"
   },
   "source": [
    "## 2.14 Distribution of Amount DAYS_EMPLOYED "
   ]
  },
  {
   "cell_type": "code",
   "execution_count": 22,
   "metadata": {
    "_cell_guid": "88ab2863-ac1f-49f3-8e20-a1d99c77b806",
    "_kg_hide-input": true,
    "_uuid": "011f46cbf2e15df67b9bc421bce75b26185dd063"
   },
   "outputs": [
    {
     "data": {
      "image/png": "[encoded data removed]",
      "text/plain": [
       "<Figure size 864x360 with 1 Axes>"
      ]
     },
     "metadata": {},
     "output_type": "display_data"
    }
   ],
   "source": [
    "plt.figure(figsize=(12,5))\n",
    "plt.title(\"Distribution of DAYS_EMPLOYED\")\n",
    "ax = sns.distplot(app_train[\"DAYS_EMPLOYED\"])"
   ]
  },
  {
   "cell_type": "markdown",
   "metadata": {
    "_cell_guid": "38f9c744-1cc6-4f73-98eb-e745a92aaa0b",
    "_uuid": "4747eda62b578e2f70fa8041fca9b0bf89189103"
   },
   "source": [
    "## 2.15 Distribution of Number of Days for Registration"
   ]
  },
  {
   "cell_type": "code",
   "execution_count": 23,
   "metadata": {
    "_cell_guid": "e4945b0c-bea0-4cc9-a886-4d6937a6339f",
    "_kg_hide-input": true,
    "_uuid": "966035af648af94461e7be000edd3d277a6ff0aa"
   },
   "outputs": [
    {
     "data": {
      "image/png": "[encoded data removed]",
      "text/plain": [
       "<Figure size 864x360 with 1 Axes>"
      ]
     },
     "metadata": {},
     "output_type": "display_data"
    }
   ],
   "source": [
    "plt.figure(figsize=(12,5))\n",
    "plt.title(\"Distribution of DAYS_REGISTRATION\")\n",
    "ax = sns.distplot(app_train[\"DAYS_REGISTRATION\"])"
   ]
  },
  {
   "cell_type": "markdown",
   "metadata": {
    "_cell_guid": "741612f7-2edd-496c-9e20-597957fca3af",
    "_uuid": "8e1d531274f1ab7caf5aeea3a9457fc8a1af15dd"
   },
   "source": [
    "## 2.16 How many Family Members does the applicants has "
   ]
  },
  {
   "cell_type": "code",
   "execution_count": 24,
   "metadata": {
    "_cell_guid": "3fda7238-94db-47ef-ad51-a37c625741e1",
    "_kg_hide-input": true,
    "_uuid": "aff6eef4a480681aed36e3fbfec8d23234a90523"
   },
   "outputs": [
    {
     "data": {
      "image/png": "[encoded data removed]",
      "text/plain": [
       "<Figure size 864x360 with 1 Axes>"
      ]
     },
     "metadata": {},
     "output_type": "display_data"
    }
   ],
   "source": [
    "plt.figure(figsize=(12,5))\n",
    "plt.title(\"Distribution of CNT_FAM_MEMBERS\")\n",
    "ax = sns.distplot(app_train[\"CNT_FAM_MEMBERS\"].dropna())"
   ]
  },
  {
   "cell_type": "markdown",
   "metadata": {
    "_cell_guid": "916d65fa-363a-446b-a2e8-9b149689caf2",
    "_uuid": "1b128ab27ea0291424856bf4d612aa85d2ba7a5a"
   },
   "source": [
    "## 3. Exploration of Bureau Data\n",
    "\n",
    "All client's previous credits provided by other financial institutions that were reported to Credit Bureau (for clients who have a loan in our sample). For every loan in our sample, there are as many rows as number of credits the client had in Credit Bureau before the application date.\n",
    "\n",
    "## 3.1 Snapshot of Bureau Data"
   ]
  },
  {
   "cell_type": "code",
   "execution_count": 25,
   "metadata": {
    "_cell_guid": "c0de05d8-2a4d-4834-bd1e-daabc8b9610f",
    "_kg_hide-input": true,
    "_uuid": "9529bef2d954adb828c2e35ec2cf89e7ea42c002"
   },
   "outputs": [
    {
     "data": {
      "text/html": [
       "<div>\n",
       "<style scoped>\n",
       "    .dataframe tbody tr th:only-of-type {\n",
       "        vertical-align: middle;\n",
       "    }\n",
       "\n",
       "    .dataframe tbody tr th {\n",
       "        vertical-align: top;\n",
       "    }\n",
       "\n",
       "    .dataframe thead th {\n",
       "        text-align: right;\n",
       "    }\n",
       "</style>\n",
       "<table border=\"1\" class=\"dataframe\">\n",
       "  <thead>\n",
       "    <tr style=\"text-align: right;\">\n",
       "      <th></th>\n",
       "      <th>SK_ID_CURR</th>\n",
       "      <th>SK_ID_BUREAU</th>\n",
       "      <th>CREDIT_ACTIVE</th>\n",
       "      <th>CREDIT_CURRENCY</th>\n",
       "      <th>DAYS_CREDIT</th>\n",
       "      <th>CREDIT_DAY_OVERDUE</th>\n",
       "      <th>DAYS_CREDIT_ENDDATE</th>\n",
       "      <th>DAYS_ENDDATE_FACT</th>\n",
       "      <th>AMT_CREDIT_MAX_OVERDUE</th>\n",
       "      <th>CNT_CREDIT_PROLONG</th>\n",
       "      <th>AMT_CREDIT_SUM</th>\n",
       "      <th>AMT_CREDIT_SUM_DEBT</th>\n",
       "      <th>AMT_CREDIT_SUM_LIMIT</th>\n",
       "      <th>AMT_CREDIT_SUM_OVERDUE</th>\n",
       "      <th>CREDIT_TYPE</th>\n",
       "      <th>DAYS_CREDIT_UPDATE</th>\n",
       "      <th>AMT_ANNUITY</th>\n",
       "    </tr>\n",
       "  </thead>\n",
       "  <tbody>\n",
       "    <tr>\n",
       "      <th>0</th>\n",
       "      <td>215354</td>\n",
       "      <td>5714462</td>\n",
       "      <td>Closed</td>\n",
       "      <td>currency 1</td>\n",
       "      <td>-497</td>\n",
       "      <td>0</td>\n",
       "      <td>-153.0</td>\n",
       "      <td>-153.0</td>\n",
       "      <td>NaN</td>\n",
       "      <td>0</td>\n",
       "      <td>91323.0</td>\n",
       "      <td>0.0</td>\n",
       "      <td>NaN</td>\n",
       "      <td>0.0</td>\n",
       "      <td>Consumer credit</td>\n",
       "      <td>-131</td>\n",
       "      <td>NaN</td>\n",
       "    </tr>\n",
       "    <tr>\n",
       "      <th>1</th>\n",
       "      <td>215354</td>\n",
       "      <td>5714463</td>\n",
       "      <td>Active</td>\n",
       "      <td>currency 1</td>\n",
       "      <td>-208</td>\n",
       "      <td>0</td>\n",
       "      <td>1075.0</td>\n",
       "      <td>NaN</td>\n",
       "      <td>NaN</td>\n",
       "      <td>0</td>\n",
       "      <td>225000.0</td>\n",
       "      <td>171342.0</td>\n",
       "      <td>NaN</td>\n",
       "      <td>0.0</td>\n",
       "      <td>Credit card</td>\n",
       "      <td>-20</td>\n",
       "      <td>NaN</td>\n",
       "    </tr>\n",
       "    <tr>\n",
       "      <th>2</th>\n",
       "      <td>215354</td>\n",
       "      <td>5714464</td>\n",
       "      <td>Active</td>\n",
       "      <td>currency 1</td>\n",
       "      <td>-203</td>\n",
       "      <td>0</td>\n",
       "      <td>528.0</td>\n",
       "      <td>NaN</td>\n",
       "      <td>NaN</td>\n",
       "      <td>0</td>\n",
       "      <td>464323.5</td>\n",
       "      <td>NaN</td>\n",
       "      <td>NaN</td>\n",
       "      <td>0.0</td>\n",
       "      <td>Consumer credit</td>\n",
       "      <td>-16</td>\n",
       "      <td>NaN</td>\n",
       "    </tr>\n",
       "    <tr>\n",
       "      <th>3</th>\n",
       "      <td>215354</td>\n",
       "      <td>5714465</td>\n",
       "      <td>Active</td>\n",
       "      <td>currency 1</td>\n",
       "      <td>-203</td>\n",
       "      <td>0</td>\n",
       "      <td>NaN</td>\n",
       "      <td>NaN</td>\n",
       "      <td>NaN</td>\n",
       "      <td>0</td>\n",
       "      <td>90000.0</td>\n",
       "      <td>NaN</td>\n",
       "      <td>NaN</td>\n",
       "      <td>0.0</td>\n",
       "      <td>Credit card</td>\n",
       "      <td>-16</td>\n",
       "      <td>NaN</td>\n",
       "    </tr>\n",
       "    <tr>\n",
       "      <th>4</th>\n",
       "      <td>215354</td>\n",
       "      <td>5714466</td>\n",
       "      <td>Active</td>\n",
       "      <td>currency 1</td>\n",
       "      <td>-629</td>\n",
       "      <td>0</td>\n",
       "      <td>1197.0</td>\n",
       "      <td>NaN</td>\n",
       "      <td>77674.5</td>\n",
       "      <td>0</td>\n",
       "      <td>2700000.0</td>\n",
       "      <td>NaN</td>\n",
       "      <td>NaN</td>\n",
       "      <td>0.0</td>\n",
       "      <td>Consumer credit</td>\n",
       "      <td>-21</td>\n",
       "      <td>NaN</td>\n",
       "    </tr>\n",
       "  </tbody>\n",
       "</table>\n",
       "</div>"
      ],
      "text/plain": [
       "   SK_ID_CURR  SK_ID_BUREAU CREDIT_ACTIVE CREDIT_CURRENCY  DAYS_CREDIT  \\\n",
       "0      215354       5714462        Closed      currency 1         -497   \n",
       "1      215354       5714463        Active      currency 1         -208   \n",
       "2      215354       5714464        Active      currency 1         -203   \n",
       "3      215354       5714465        Active      currency 1         -203   \n",
       "4      215354       5714466        Active      currency 1         -629   \n",
       "\n",
       "   CREDIT_DAY_OVERDUE  DAYS_CREDIT_ENDDATE  DAYS_ENDDATE_FACT  \\\n",
       "0                   0               -153.0             -153.0   \n",
       "1                   0               1075.0                NaN   \n",
       "2                   0                528.0                NaN   \n",
       "3                   0                  NaN                NaN   \n",
       "4                   0               1197.0                NaN   \n",
       "\n",
       "   AMT_CREDIT_MAX_OVERDUE  CNT_CREDIT_PROLONG  AMT_CREDIT_SUM  \\\n",
       "0                     NaN                   0         91323.0   \n",
       "1                     NaN                   0        225000.0   \n",
       "2                     NaN                   0        464323.5   \n",
       "3                     NaN                   0         90000.0   \n",
       "4                 77674.5                   0       2700000.0   \n",
       "\n",
       "   AMT_CREDIT_SUM_DEBT  AMT_CREDIT_SUM_LIMIT  AMT_CREDIT_SUM_OVERDUE  \\\n",
       "0                  0.0                   NaN                     0.0   \n",
       "1             171342.0                   NaN                     0.0   \n",
       "2                  NaN                   NaN                     0.0   \n",
       "3                  NaN                   NaN                     0.0   \n",
       "4                  NaN                   NaN                     0.0   \n",
       "\n",
       "       CREDIT_TYPE  DAYS_CREDIT_UPDATE  AMT_ANNUITY  \n",
       "0  Consumer credit                -131          NaN  \n",
       "1      Credit card                 -20          NaN  \n",
       "2  Consumer credit                 -16          NaN  \n",
       "3      Credit card                 -16          NaN  \n",
       "4  Consumer credit                 -21          NaN  "
      ]
     },
     "execution_count": 25,
     "metadata": {},
     "output_type": "execute_result"
    }
   ],
   "source": [
    "bureau = pd.read_csv(path + \"bureau.csv\")\n",
    "bureau.head()"
   ]
  },
  {
   "cell_type": "markdown",
   "metadata": {
    "_cell_guid": "abed0e47-f848-4b17-ac4e-d912db58c71d",
    "_uuid": "b50d744e5f0934ebc7965a57f4eecfc5b401e9ce"
   },
   "source": [
    "## 4. Exploration of Bureau Balance Data\n",
    "\n",
    "Monthly balances of previous credits in Credit Bureau. This table has one row for each month of history of every previous credit reported to Credit Bureau – i.e the table has (#loans in sample * # of relative previous credits * # of months where we have some history observable for the previous credits) rows.\n",
    "\n",
    "## 4.1 Snapshot of Bureau Balance Data"
   ]
  },
  {
   "cell_type": "code",
   "execution_count": 26,
   "metadata": {
    "_cell_guid": "c14ec3ef-7db0-4317-b449-0124db8572d8",
    "_kg_hide-input": true,
    "_uuid": "ac67d7d783e9e13f3775ddf803d010e3d664c4f6"
   },
   "outputs": [
    {
     "data": {
      "text/html": [
       "<div>\n",
       "<style scoped>\n",
       "    .dataframe tbody tr th:only-of-type {\n",
       "        vertical-align: middle;\n",
       "    }\n",
       "\n",
       "    .dataframe tbody tr th {\n",
       "        vertical-align: top;\n",
       "    }\n",
       "\n",
       "    .dataframe thead th {\n",
       "        text-align: right;\n",
       "    }\n",
       "</style>\n",
       "<table border=\"1\" class=\"dataframe\">\n",
       "  <thead>\n",
       "    <tr style=\"text-align: right;\">\n",
       "      <th></th>\n",
       "      <th>SK_ID_BUREAU</th>\n",
       "      <th>MONTHS_BALANCE</th>\n",
       "      <th>STATUS</th>\n",
       "    </tr>\n",
       "  </thead>\n",
       "  <tbody>\n",
       "    <tr>\n",
       "      <th>0</th>\n",
       "      <td>5715448</td>\n",
       "      <td>0</td>\n",
       "      <td>C</td>\n",
       "    </tr>\n",
       "    <tr>\n",
       "      <th>1</th>\n",
       "      <td>5715448</td>\n",
       "      <td>-1</td>\n",
       "      <td>C</td>\n",
       "    </tr>\n",
       "    <tr>\n",
       "      <th>2</th>\n",
       "      <td>5715448</td>\n",
       "      <td>-2</td>\n",
       "      <td>C</td>\n",
       "    </tr>\n",
       "    <tr>\n",
       "      <th>3</th>\n",
       "      <td>5715448</td>\n",
       "      <td>-3</td>\n",
       "      <td>C</td>\n",
       "    </tr>\n",
       "    <tr>\n",
       "      <th>4</th>\n",
       "      <td>5715448</td>\n",
       "      <td>-4</td>\n",
       "      <td>C</td>\n",
       "    </tr>\n",
       "  </tbody>\n",
       "</table>\n",
       "</div>"
      ],
      "text/plain": [
       "   SK_ID_BUREAU  MONTHS_BALANCE STATUS\n",
       "0       5715448               0      C\n",
       "1       5715448              -1      C\n",
       "2       5715448              -2      C\n",
       "3       5715448              -3      C\n",
       "4       5715448              -4      C"
      ]
     },
     "execution_count": 26,
     "metadata": {},
     "output_type": "execute_result"
    }
   ],
   "source": [
    "bureau_balance = pd.read_csv(path + \"bureau_balance.csv\")\n",
    "bureau_balance.head()"
   ]
  },
  {
   "cell_type": "markdown",
   "metadata": {
    "_cell_guid": "d552c14d-f574-4392-9706-f4c12db8b549",
    "_uuid": "76f36853e9a9812c5a9ef82fc31d50ef87da1d41"
   },
   "source": [
    "## 5. Exploration of Credit Card Balance\n",
    "\n",
    "Monthly balance snapshots of previous credit cards that the applicant has with Home Credit.This table has one row for each month of history of every previous credit in Home Credit (consumer credit and cash loans) related to loans in our sample – i.e. the table has (#loans in sample * # of relative previous credit cards * # of months where we have some history observable for the previous credit card) rows.\n",
    "\n",
    "## 5.1 Snapshot of Credit Card Balance"
   ]
  },
  {
   "cell_type": "code",
   "execution_count": 27,
   "metadata": {
    "_cell_guid": "0407eeec-c672-4f64-95e4-633893271130",
    "_kg_hide-input": true,
    "_uuid": "89ef3131f2f1a6125b4a0b3df9aef52c1e985039"
   },
   "outputs": [
    {
     "data": {
      "text/html": [
       "<div>\n",
       "<style scoped>\n",
       "    .dataframe tbody tr th:only-of-type {\n",
       "        vertical-align: middle;\n",
       "    }\n",
       "\n",
       "    .dataframe tbody tr th {\n",
       "        vertical-align: top;\n",
       "    }\n",
       "\n",
       "    .dataframe thead th {\n",
       "        text-align: right;\n",
       "    }\n",
       "</style>\n",
       "<table border=\"1\" class=\"dataframe\">\n",
       "  <thead>\n",
       "    <tr style=\"text-align: right;\">\n",
       "      <th></th>\n",
       "      <th>SK_ID_PREV</th>\n",
       "      <th>SK_ID_CURR</th>\n",
       "      <th>MONTHS_BALANCE</th>\n",
       "      <th>AMT_BALANCE</th>\n",
       "      <th>AMT_CREDIT_LIMIT_ACTUAL</th>\n",
       "      <th>AMT_DRAWINGS_ATM_CURRENT</th>\n",
       "      <th>AMT_DRAWINGS_CURRENT</th>\n",
       "      <th>AMT_DRAWINGS_OTHER_CURRENT</th>\n",
       "      <th>AMT_DRAWINGS_POS_CURRENT</th>\n",
       "      <th>AMT_INST_MIN_REGULARITY</th>\n",
       "      <th>...</th>\n",
       "      <th>AMT_RECIVABLE</th>\n",
       "      <th>AMT_TOTAL_RECEIVABLE</th>\n",
       "      <th>CNT_DRAWINGS_ATM_CURRENT</th>\n",
       "      <th>CNT_DRAWINGS_CURRENT</th>\n",
       "      <th>CNT_DRAWINGS_OTHER_CURRENT</th>\n",
       "      <th>CNT_DRAWINGS_POS_CURRENT</th>\n",
       "      <th>CNT_INSTALMENT_MATURE_CUM</th>\n",
       "      <th>NAME_CONTRACT_STATUS</th>\n",
       "      <th>SK_DPD</th>\n",
       "      <th>SK_DPD_DEF</th>\n",
       "    </tr>\n",
       "  </thead>\n",
       "  <tbody>\n",
       "    <tr>\n",
       "      <th>0</th>\n",
       "      <td>2562384</td>\n",
       "      <td>378907</td>\n",
       "      <td>-6</td>\n",
       "      <td>56.970</td>\n",
       "      <td>135000</td>\n",
       "      <td>0.0</td>\n",
       "      <td>877.5</td>\n",
       "      <td>0.0</td>\n",
       "      <td>877.5</td>\n",
       "      <td>1700.325</td>\n",
       "      <td>...</td>\n",
       "      <td>0.000</td>\n",
       "      <td>0.000</td>\n",
       "      <td>0.0</td>\n",
       "      <td>1</td>\n",
       "      <td>0.0</td>\n",
       "      <td>1.0</td>\n",
       "      <td>35.0</td>\n",
       "      <td>Active</td>\n",
       "      <td>0</td>\n",
       "      <td>0</td>\n",
       "    </tr>\n",
       "    <tr>\n",
       "      <th>1</th>\n",
       "      <td>2582071</td>\n",
       "      <td>363914</td>\n",
       "      <td>-1</td>\n",
       "      <td>63975.555</td>\n",
       "      <td>45000</td>\n",
       "      <td>2250.0</td>\n",
       "      <td>2250.0</td>\n",
       "      <td>0.0</td>\n",
       "      <td>0.0</td>\n",
       "      <td>2250.000</td>\n",
       "      <td>...</td>\n",
       "      <td>64875.555</td>\n",
       "      <td>64875.555</td>\n",
       "      <td>1.0</td>\n",
       "      <td>1</td>\n",
       "      <td>0.0</td>\n",
       "      <td>0.0</td>\n",
       "      <td>69.0</td>\n",
       "      <td>Active</td>\n",
       "      <td>0</td>\n",
       "      <td>0</td>\n",
       "    </tr>\n",
       "    <tr>\n",
       "      <th>2</th>\n",
       "      <td>1740877</td>\n",
       "      <td>371185</td>\n",
       "      <td>-7</td>\n",
       "      <td>31815.225</td>\n",
       "      <td>450000</td>\n",
       "      <td>0.0</td>\n",
       "      <td>0.0</td>\n",
       "      <td>0.0</td>\n",
       "      <td>0.0</td>\n",
       "      <td>2250.000</td>\n",
       "      <td>...</td>\n",
       "      <td>31460.085</td>\n",
       "      <td>31460.085</td>\n",
       "      <td>0.0</td>\n",
       "      <td>0</td>\n",
       "      <td>0.0</td>\n",
       "      <td>0.0</td>\n",
       "      <td>30.0</td>\n",
       "      <td>Active</td>\n",
       "      <td>0</td>\n",
       "      <td>0</td>\n",
       "    </tr>\n",
       "    <tr>\n",
       "      <th>3</th>\n",
       "      <td>1389973</td>\n",
       "      <td>337855</td>\n",
       "      <td>-4</td>\n",
       "      <td>236572.110</td>\n",
       "      <td>225000</td>\n",
       "      <td>2250.0</td>\n",
       "      <td>2250.0</td>\n",
       "      <td>0.0</td>\n",
       "      <td>0.0</td>\n",
       "      <td>11795.760</td>\n",
       "      <td>...</td>\n",
       "      <td>233048.970</td>\n",
       "      <td>233048.970</td>\n",
       "      <td>1.0</td>\n",
       "      <td>1</td>\n",
       "      <td>0.0</td>\n",
       "      <td>0.0</td>\n",
       "      <td>10.0</td>\n",
       "      <td>Active</td>\n",
       "      <td>0</td>\n",
       "      <td>0</td>\n",
       "    </tr>\n",
       "    <tr>\n",
       "      <th>4</th>\n",
       "      <td>1891521</td>\n",
       "      <td>126868</td>\n",
       "      <td>-1</td>\n",
       "      <td>453919.455</td>\n",
       "      <td>450000</td>\n",
       "      <td>0.0</td>\n",
       "      <td>11547.0</td>\n",
       "      <td>0.0</td>\n",
       "      <td>11547.0</td>\n",
       "      <td>22924.890</td>\n",
       "      <td>...</td>\n",
       "      <td>453919.455</td>\n",
       "      <td>453919.455</td>\n",
       "      <td>0.0</td>\n",
       "      <td>1</td>\n",
       "      <td>0.0</td>\n",
       "      <td>1.0</td>\n",
       "      <td>101.0</td>\n",
       "      <td>Active</td>\n",
       "      <td>0</td>\n",
       "      <td>0</td>\n",
       "    </tr>\n",
       "  </tbody>\n",
       "</table>\n",
       "<p>5 rows × 23 columns</p>\n",
       "</div>"
      ],
      "text/plain": [
       "   SK_ID_PREV  SK_ID_CURR  MONTHS_BALANCE  AMT_BALANCE  \\\n",
       "0     2562384      378907              -6       56.970   \n",
       "1     2582071      363914              -1    63975.555   \n",
       "2     1740877      371185              -7    31815.225   \n",
       "3     1389973      337855              -4   236572.110   \n",
       "4     1891521      126868              -1   453919.455   \n",
       "\n",
       "   AMT_CREDIT_LIMIT_ACTUAL  AMT_DRAWINGS_ATM_CURRENT  AMT_DRAWINGS_CURRENT  \\\n",
       "0                   135000                       0.0                 877.5   \n",
       "1                    45000                    2250.0                2250.0   \n",
       "2                   450000                       0.0                   0.0   \n",
       "3                   225000                    2250.0                2250.0   \n",
       "4                   450000                       0.0               11547.0   \n",
       "\n",
       "   AMT_DRAWINGS_OTHER_CURRENT  AMT_DRAWINGS_POS_CURRENT  \\\n",
       "0                         0.0                     877.5   \n",
       "1                         0.0                       0.0   \n",
       "2                         0.0                       0.0   \n",
       "3                         0.0                       0.0   \n",
       "4                         0.0                   11547.0   \n",
       "\n",
       "   AMT_INST_MIN_REGULARITY     ...      AMT_RECIVABLE  AMT_TOTAL_RECEIVABLE  \\\n",
       "0                 1700.325     ...              0.000                 0.000   \n",
       "1                 2250.000     ...          64875.555             64875.555   \n",
       "2                 2250.000     ...          31460.085             31460.085   \n",
       "3                11795.760     ...         233048.970            233048.970   \n",
       "4                22924.890     ...         453919.455            453919.455   \n",
       "\n",
       "   CNT_DRAWINGS_ATM_CURRENT  CNT_DRAWINGS_CURRENT  CNT_DRAWINGS_OTHER_CURRENT  \\\n",
       "0                       0.0                     1                         0.0   \n",
       "1                       1.0                     1                         0.0   \n",
       "2                       0.0                     0                         0.0   \n",
       "3                       1.0                     1                         0.0   \n",
       "4                       0.0                     1                         0.0   \n",
       "\n",
       "   CNT_DRAWINGS_POS_CURRENT  CNT_INSTALMENT_MATURE_CUM  NAME_CONTRACT_STATUS  \\\n",
       "0                       1.0                       35.0                Active   \n",
       "1                       0.0                       69.0                Active   \n",
       "2                       0.0                       30.0                Active   \n",
       "3                       0.0                       10.0                Active   \n",
       "4                       1.0                      101.0                Active   \n",
       "\n",
       "   SK_DPD  SK_DPD_DEF  \n",
       "0       0           0  \n",
       "1       0           0  \n",
       "2       0           0  \n",
       "3       0           0  \n",
       "4       0           0  \n",
       "\n",
       "[5 rows x 23 columns]"
      ]
     },
     "execution_count": 27,
     "metadata": {},
     "output_type": "execute_result"
    }
   ],
   "source": [
    "credit_card_balance = pd.read_csv(path + \"credit_card_balance.csv\")\n",
    "credit_card_balance.head()"
   ]
  },
  {
   "cell_type": "markdown",
   "metadata": {
    "_cell_guid": "e437d24d-2db4-4750-998d-5fee2aa0857e",
    "_uuid": "1c083b3fdd9a9f6df7ea762c85f6b87b49479369"
   },
   "source": [
    "## 6. Exploration of POS CASH Balance Data\n",
    "\n",
    "Monthly balance snapshots of previous POS (point of sales) and cash loans that the applicant had with Home Credit. This table has one row for each month of history of every previous credit in Home Credit (consumer credit and cash loans) related to loans in our sample – i.e. the table has (#loans in sample * # of relative previous credits * # of months in which we have some history observable for the previous credits) rows.\n",
    "\n",
    "## 6.1 Snapshot of POS CASH Balance Data"
   ]
  },
  {
   "cell_type": "code",
   "execution_count": 28,
   "metadata": {
    "_cell_guid": "e466a665-ae96-4014-b2e3-d898b9ff1127",
    "_kg_hide-input": true,
    "_uuid": "6a28d16a578c39e441b7c7542b3957c1ffcb9d1c"
   },
   "outputs": [
    {
     "data": {
      "text/html": [
       "<div>\n",
       "<style scoped>\n",
       "    .dataframe tbody tr th:only-of-type {\n",
       "        vertical-align: middle;\n",
       "    }\n",
       "\n",
       "    .dataframe tbody tr th {\n",
       "        vertical-align: top;\n",
       "    }\n",
       "\n",
       "    .dataframe thead th {\n",
       "        text-align: right;\n",
       "    }\n",
       "</style>\n",
       "<table border=\"1\" class=\"dataframe\">\n",
       "  <thead>\n",
       "    <tr style=\"text-align: right;\">\n",
       "      <th></th>\n",
       "      <th>SK_ID_PREV</th>\n",
       "      <th>SK_ID_CURR</th>\n",
       "      <th>MONTHS_BALANCE</th>\n",
       "      <th>CNT_INSTALMENT</th>\n",
       "      <th>CNT_INSTALMENT_FUTURE</th>\n",
       "      <th>NAME_CONTRACT_STATUS</th>\n",
       "      <th>SK_DPD</th>\n",
       "      <th>SK_DPD_DEF</th>\n",
       "    </tr>\n",
       "  </thead>\n",
       "  <tbody>\n",
       "    <tr>\n",
       "      <th>0</th>\n",
       "      <td>1803195</td>\n",
       "      <td>182943</td>\n",
       "      <td>-31</td>\n",
       "      <td>48.0</td>\n",
       "      <td>45.0</td>\n",
       "      <td>Active</td>\n",
       "      <td>0</td>\n",
       "      <td>0</td>\n",
       "    </tr>\n",
       "    <tr>\n",
       "      <th>1</th>\n",
       "      <td>1715348</td>\n",
       "      <td>367990</td>\n",
       "      <td>-33</td>\n",
       "      <td>36.0</td>\n",
       "      <td>35.0</td>\n",
       "      <td>Active</td>\n",
       "      <td>0</td>\n",
       "      <td>0</td>\n",
       "    </tr>\n",
       "    <tr>\n",
       "      <th>2</th>\n",
       "      <td>1784872</td>\n",
       "      <td>397406</td>\n",
       "      <td>-32</td>\n",
       "      <td>12.0</td>\n",
       "      <td>9.0</td>\n",
       "      <td>Active</td>\n",
       "      <td>0</td>\n",
       "      <td>0</td>\n",
       "    </tr>\n",
       "    <tr>\n",
       "      <th>3</th>\n",
       "      <td>1903291</td>\n",
       "      <td>269225</td>\n",
       "      <td>-35</td>\n",
       "      <td>48.0</td>\n",
       "      <td>42.0</td>\n",
       "      <td>Active</td>\n",
       "      <td>0</td>\n",
       "      <td>0</td>\n",
       "    </tr>\n",
       "    <tr>\n",
       "      <th>4</th>\n",
       "      <td>2341044</td>\n",
       "      <td>334279</td>\n",
       "      <td>-35</td>\n",
       "      <td>36.0</td>\n",
       "      <td>35.0</td>\n",
       "      <td>Active</td>\n",
       "      <td>0</td>\n",
       "      <td>0</td>\n",
       "    </tr>\n",
       "  </tbody>\n",
       "</table>\n",
       "</div>"
      ],
      "text/plain": [
       "   SK_ID_PREV  SK_ID_CURR  MONTHS_BALANCE  CNT_INSTALMENT  \\\n",
       "0     1803195      182943             -31            48.0   \n",
       "1     1715348      367990             -33            36.0   \n",
       "2     1784872      397406             -32            12.0   \n",
       "3     1903291      269225             -35            48.0   \n",
       "4     2341044      334279             -35            36.0   \n",
       "\n",
       "   CNT_INSTALMENT_FUTURE NAME_CONTRACT_STATUS  SK_DPD  SK_DPD_DEF  \n",
       "0                   45.0               Active       0           0  \n",
       "1                   35.0               Active       0           0  \n",
       "2                    9.0               Active       0           0  \n",
       "3                   42.0               Active       0           0  \n",
       "4                   35.0               Active       0           0  "
      ]
     },
     "execution_count": 28,
     "metadata": {},
     "output_type": "execute_result"
    }
   ],
   "source": [
    "pcb = pd.read_csv(path + \"POS_CASH_balance.csv\")\n",
    "pcb.head()"
   ]
  },
  {
   "cell_type": "markdown",
   "metadata": {
    "_cell_guid": "5fa69a3c-9e73-4d6e-b3c7-ec0689c75f30",
    "_uuid": "0840360310311a1b4d835cf9f5612b61d39115fe"
   },
   "source": [
    "## 7. Snapshot of Prev Application\n",
    "## 7.1 Snapshot of Prev Application"
   ]
  },
  {
   "cell_type": "code",
   "execution_count": 29,
   "metadata": {
    "_cell_guid": "1bb291e8-65f2-43c4-a09d-2a785837a395",
    "_kg_hide-input": true,
    "_uuid": "2e163de1e8b97df7059624eba3b0ad5f3d51fa9b"
   },
   "outputs": [
    {
     "data": {
      "text/html": [
       "<div>\n",
       "<style scoped>\n",
       "    .dataframe tbody tr th:only-of-type {\n",
       "        vertical-align: middle;\n",
       "    }\n",
       "\n",
       "    .dataframe tbody tr th {\n",
       "        vertical-align: top;\n",
       "    }\n",
       "\n",
       "    .dataframe thead th {\n",
       "        text-align: right;\n",
       "    }\n",
       "</style>\n",
       "<table border=\"1\" class=\"dataframe\">\n",
       "  <thead>\n",
       "    <tr style=\"text-align: right;\">\n",
       "      <th></th>\n",
       "      <th>SK_ID_PREV</th>\n",
       "      <th>SK_ID_CURR</th>\n",
       "      <th>NAME_CONTRACT_TYPE</th>\n",
       "      <th>AMT_ANNUITY</th>\n",
       "      <th>AMT_APPLICATION</th>\n",
       "      <th>AMT_CREDIT</th>\n",
       "      <th>AMT_DOWN_PAYMENT</th>\n",
       "      <th>AMT_GOODS_PRICE</th>\n",
       "      <th>WEEKDAY_APPR_PROCESS_START</th>\n",
       "      <th>HOUR_APPR_PROCESS_START</th>\n",
       "      <th>...</th>\n",
       "      <th>NAME_SELLER_INDUSTRY</th>\n",
       "      <th>CNT_PAYMENT</th>\n",
       "      <th>NAME_YIELD_GROUP</th>\n",
       "      <th>PRODUCT_COMBINATION</th>\n",
       "      <th>DAYS_FIRST_DRAWING</th>\n",
       "      <th>DAYS_FIRST_DUE</th>\n",
       "      <th>DAYS_LAST_DUE_1ST_VERSION</th>\n",
       "      <th>DAYS_LAST_DUE</th>\n",
       "      <th>DAYS_TERMINATION</th>\n",
       "      <th>NFLAG_INSURED_ON_APPROVAL</th>\n",
       "    </tr>\n",
       "  </thead>\n",
       "  <tbody>\n",
       "    <tr>\n",
       "      <th>0</th>\n",
       "      <td>2030495</td>\n",
       "      <td>271877</td>\n",
       "      <td>Consumer loans</td>\n",
       "      <td>1730.430</td>\n",
       "      <td>17145.0</td>\n",
       "      <td>17145.0</td>\n",
       "      <td>0.0</td>\n",
       "      <td>17145.0</td>\n",
       "      <td>SATURDAY</td>\n",
       "      <td>15</td>\n",
       "      <td>...</td>\n",
       "      <td>Connectivity</td>\n",
       "      <td>12.0</td>\n",
       "      <td>middle</td>\n",
       "      <td>POS mobile with interest</td>\n",
       "      <td>365243.0</td>\n",
       "      <td>-42.0</td>\n",
       "      <td>300.0</td>\n",
       "      <td>-42.0</td>\n",
       "      <td>-37.0</td>\n",
       "      <td>0.0</td>\n",
       "    </tr>\n",
       "    <tr>\n",
       "      <th>1</th>\n",
       "      <td>2802425</td>\n",
       "      <td>108129</td>\n",
       "      <td>Cash loans</td>\n",
       "      <td>25188.615</td>\n",
       "      <td>607500.0</td>\n",
       "      <td>679671.0</td>\n",
       "      <td>NaN</td>\n",
       "      <td>607500.0</td>\n",
       "      <td>THURSDAY</td>\n",
       "      <td>11</td>\n",
       "      <td>...</td>\n",
       "      <td>XNA</td>\n",
       "      <td>36.0</td>\n",
       "      <td>low_action</td>\n",
       "      <td>Cash X-Sell: low</td>\n",
       "      <td>365243.0</td>\n",
       "      <td>-134.0</td>\n",
       "      <td>916.0</td>\n",
       "      <td>365243.0</td>\n",
       "      <td>365243.0</td>\n",
       "      <td>1.0</td>\n",
       "    </tr>\n",
       "    <tr>\n",
       "      <th>2</th>\n",
       "      <td>2523466</td>\n",
       "      <td>122040</td>\n",
       "      <td>Cash loans</td>\n",
       "      <td>15060.735</td>\n",
       "      <td>112500.0</td>\n",
       "      <td>136444.5</td>\n",
       "      <td>NaN</td>\n",
       "      <td>112500.0</td>\n",
       "      <td>TUESDAY</td>\n",
       "      <td>11</td>\n",
       "      <td>...</td>\n",
       "      <td>XNA</td>\n",
       "      <td>12.0</td>\n",
       "      <td>high</td>\n",
       "      <td>Cash X-Sell: high</td>\n",
       "      <td>365243.0</td>\n",
       "      <td>-271.0</td>\n",
       "      <td>59.0</td>\n",
       "      <td>365243.0</td>\n",
       "      <td>365243.0</td>\n",
       "      <td>1.0</td>\n",
       "    </tr>\n",
       "    <tr>\n",
       "      <th>3</th>\n",
       "      <td>2819243</td>\n",
       "      <td>176158</td>\n",
       "      <td>Cash loans</td>\n",
       "      <td>47041.335</td>\n",
       "      <td>450000.0</td>\n",
       "      <td>470790.0</td>\n",
       "      <td>NaN</td>\n",
       "      <td>450000.0</td>\n",
       "      <td>MONDAY</td>\n",
       "      <td>7</td>\n",
       "      <td>...</td>\n",
       "      <td>XNA</td>\n",
       "      <td>12.0</td>\n",
       "      <td>middle</td>\n",
       "      <td>Cash X-Sell: middle</td>\n",
       "      <td>365243.0</td>\n",
       "      <td>-482.0</td>\n",
       "      <td>-152.0</td>\n",
       "      <td>-182.0</td>\n",
       "      <td>-177.0</td>\n",
       "      <td>1.0</td>\n",
       "    </tr>\n",
       "    <tr>\n",
       "      <th>4</th>\n",
       "      <td>1784265</td>\n",
       "      <td>202054</td>\n",
       "      <td>Cash loans</td>\n",
       "      <td>31924.395</td>\n",
       "      <td>337500.0</td>\n",
       "      <td>404055.0</td>\n",
       "      <td>NaN</td>\n",
       "      <td>337500.0</td>\n",
       "      <td>THURSDAY</td>\n",
       "      <td>9</td>\n",
       "      <td>...</td>\n",
       "      <td>XNA</td>\n",
       "      <td>24.0</td>\n",
       "      <td>high</td>\n",
       "      <td>Cash Street: high</td>\n",
       "      <td>NaN</td>\n",
       "      <td>NaN</td>\n",
       "      <td>NaN</td>\n",
       "      <td>NaN</td>\n",
       "      <td>NaN</td>\n",
       "      <td>NaN</td>\n",
       "    </tr>\n",
       "  </tbody>\n",
       "</table>\n",
       "<p>5 rows × 37 columns</p>\n",
       "</div>"
      ],
      "text/plain": [
       "   SK_ID_PREV  SK_ID_CURR NAME_CONTRACT_TYPE  AMT_ANNUITY  AMT_APPLICATION  \\\n",
       "0     2030495      271877     Consumer loans     1730.430          17145.0   \n",
       "1     2802425      108129         Cash loans    25188.615         607500.0   \n",
       "2     2523466      122040         Cash loans    15060.735         112500.0   \n",
       "3     2819243      176158         Cash loans    47041.335         450000.0   \n",
       "4     1784265      202054         Cash loans    31924.395         337500.0   \n",
       "\n",
       "   AMT_CREDIT  AMT_DOWN_PAYMENT  AMT_GOODS_PRICE WEEKDAY_APPR_PROCESS_START  \\\n",
       "0     17145.0               0.0          17145.0                   SATURDAY   \n",
       "1    679671.0               NaN         607500.0                   THURSDAY   \n",
       "2    136444.5               NaN         112500.0                    TUESDAY   \n",
       "3    470790.0               NaN         450000.0                     MONDAY   \n",
       "4    404055.0               NaN         337500.0                   THURSDAY   \n",
       "\n",
       "   HOUR_APPR_PROCESS_START            ...            NAME_SELLER_INDUSTRY  \\\n",
       "0                       15            ...                    Connectivity   \n",
       "1                       11            ...                             XNA   \n",
       "2                       11            ...                             XNA   \n",
       "3                        7            ...                             XNA   \n",
       "4                        9            ...                             XNA   \n",
       "\n",
       "   CNT_PAYMENT  NAME_YIELD_GROUP       PRODUCT_COMBINATION  \\\n",
       "0         12.0            middle  POS mobile with interest   \n",
       "1         36.0        low_action          Cash X-Sell: low   \n",
       "2         12.0              high         Cash X-Sell: high   \n",
       "3         12.0            middle       Cash X-Sell: middle   \n",
       "4         24.0              high         Cash Street: high   \n",
       "\n",
       "   DAYS_FIRST_DRAWING DAYS_FIRST_DUE DAYS_LAST_DUE_1ST_VERSION  DAYS_LAST_DUE  \\\n",
       "0            365243.0          -42.0                     300.0          -42.0   \n",
       "1            365243.0         -134.0                     916.0       365243.0   \n",
       "2            365243.0         -271.0                      59.0       365243.0   \n",
       "3            365243.0         -482.0                    -152.0         -182.0   \n",
       "4                 NaN            NaN                       NaN            NaN   \n",
       "\n",
       "  DAYS_TERMINATION NFLAG_INSURED_ON_APPROVAL  \n",
       "0            -37.0                       0.0  \n",
       "1         365243.0                       1.0  \n",
       "2         365243.0                       1.0  \n",
       "3           -177.0                       1.0  \n",
       "4              NaN                       NaN  \n",
       "\n",
       "[5 rows x 37 columns]"
      ]
     },
     "execution_count": 29,
     "metadata": {},
     "output_type": "execute_result"
    }
   ],
   "source": [
    "previous_application = pd.read_csv(path + \"previous_application.csv\")\n",
    "previous_application.head()"
   ]
  },
  {
   "cell_type": "markdown",
   "metadata": {
    "_cell_guid": "4215674c-cf90-4a98-9628-5bc33f7b3d96",
    "_uuid": "5a97d1025d3151b74d5d9387d2523ff51b2d4049"
   },
   "source": [
    "## 7.2 Contract Status Distribution in Previously Filed Applications"
   ]
  },
  {
   "cell_type": "code",
   "execution_count": 30,
   "metadata": {
    "_cell_guid": "b2ff9309-d467-4ff5-8226-9af7e713dc74",
    "_kg_hide-input": true,
    "_uuid": "972f2148294c720e5f06d25484895567e3bfc594"
   },
   "outputs": [
    {
     "data": {
      "application/vnd.plotly.v1+json": {
       "data": [
        {
         "hoverinfo": "",
         "labels": [
          "Approved",
          "Canceled",
          "Refused",
          "Unused offer"
         ],
         "marker": {
          "colors": [
           "#FEBFB3",
           "#E1396C",
           "#96D38C",
           "#D0F9B1"
          ],
          "line": {
           "color": "#fff",
           "width": 2
          }
         },
         "textfont": {
          "size": 12
         },
         "textinfo": "",
         "type": "pie",
         "values": [
          1036781,
          316319,
          290678,
          26436
         ]
        }
       ],
       "layout": {
        "height": 400,
        "title": "Name Contract Status in Previous Applications"
       }
      },
      "text/html": [
       "<div id=\"fd8fabd2-0248-4d16-b49a-d5bf5b267ae5\" style=\"height: 400px; width: 100%;\" class=\"plotly-graph-div\"></div><script type=\"text/javascript\">require([\"plotly\"], function(Plotly) { window.PLOTLYENV=window.PLOTLYENV || {};window.PLOTLYENV.BASE_URL=\"https://plot.ly\";Plotly.newPlot(\"fd8fabd2-0248-4d16-b49a-d5bf5b267ae5\", [{\"type\": \"pie\", \"textinfo\": \"\", \"textfont\": {\"size\": 12}, \"labels\": [\"Approved\", \"Canceled\", \"Refused\", \"Unused offer\"], \"hoverinfo\": \"\", \"values\": [1036781, 316319, 290678, 26436], \"marker\": {\"line\": {\"width\": 2, \"color\": \"#fff\"}, \"colors\": [\"#FEBFB3\", \"#E1396C\", \"#96D38C\", \"#D0F9B1\"]}}], {\"height\": 400, \"title\": \"Name Contract Status in Previous Applications\"}, {\"showLink\": true, \"linkText\": \"Export to plot.ly\"})});</script>"
      ],
      "text/vnd.plotly.v1+html": [
       "<div id=\"fd8fabd2-0248-4d16-b49a-d5bf5b267ae5\" style=\"height: 400px; width: 100%;\" class=\"plotly-graph-div\"></div><script type=\"text/javascript\">require([\"plotly\"], function(Plotly) { window.PLOTLYENV=window.PLOTLYENV || {};window.PLOTLYENV.BASE_URL=\"https://plot.ly\";Plotly.newPlot(\"fd8fabd2-0248-4d16-b49a-d5bf5b267ae5\", [{\"type\": \"pie\", \"textinfo\": \"\", \"textfont\": {\"size\": 12}, \"labels\": [\"Approved\", \"Canceled\", \"Refused\", \"Unused offer\"], \"hoverinfo\": \"\", \"values\": [1036781, 316319, 290678, 26436], \"marker\": {\"line\": {\"width\": 2, \"color\": \"#fff\"}, \"colors\": [\"#FEBFB3\", \"#E1396C\", \"#96D38C\", \"#D0F9B1\"]}}], {\"height\": 400, \"title\": \"Name Contract Status in Previous Applications\"}, {\"showLink\": true, \"linkText\": \"Export to plot.ly\"})});</script>"
      ]
     },
     "metadata": {},
     "output_type": "display_data"
    }
   ],
   "source": [
    "t = previous_application['NAME_CONTRACT_STATUS'].value_counts()\n",
    "labels = t.index\n",
    "values = t.values\n",
    "\n",
    "colors = ['#FEBFB3', '#E1396C', '#96D38C', '#D0F9B1']\n",
    "\n",
    "trace = go.Pie(labels=labels, values=values,\n",
    "               hoverinfo='', textinfo='',\n",
    "               textfont=dict(size=12),\n",
    "               marker=dict(colors=colors,\n",
    "                           line=dict(color='#fff', width=2)))\n",
    "\n",
    "layout = go.Layout(title='Name Contract Status in Previous Applications', height=400)\n",
    "fig = go.Figure(data=[trace], layout=layout)\n",
    "iplot(fig)"
   ]
  },
  {
   "cell_type": "markdown",
   "metadata": {
    "_cell_guid": "b310cc84-4e47-490e-abda-326dd3ca50fb",
    "_uuid": "b1d764955f864244143a58a2f036945755d6ef8e"
   },
   "source": [
    "> - A large number of people (about 62%) had their previous applications approved, while about 19% of them had cancelled and other 17% were resued. \n",
    "\n",
    "## 7.3 Suite Type Distribution of Previous Applications"
   ]
  },
  {
   "cell_type": "code",
   "execution_count": 31,
   "metadata": {
    "_cell_guid": "e9a278ed-0653-43ad-9df4-3daff8b9578c",
    "_kg_hide-input": true,
    "_uuid": "bd0009f9babfb6e399a105c4723f51faf98b7e31"
   },
   "outputs": [
    {
     "data": {
      "application/vnd.plotly.v1+json": {
       "data": [
        {
         "hoverinfo": "",
         "labels": [
          "Unaccompanied",
          "Family",
          "Spouse, partner",
          "Children",
          "Other_B",
          "Other_A",
          "Group of people"
         ],
         "marker": {
          "colors": [
           "#FEBFB3",
           "#E1396C",
           "#96D38C",
           "#D0F9B1"
          ],
          "line": {
           "color": "#fff",
           "width": 2
          }
         },
         "textfont": {
          "size": 12
         },
         "textinfo": "",
         "type": "pie",
         "values": [
          508970,
          213263,
          67069,
          31566,
          17624,
          9077,
          2240
         ]
        }
       ],
       "layout": {
        "height": 400,
        "title": "Suite Type in Previous Application Distribution"
       }
      },
      "text/html": [
       "<div id=\"7171d7dd-a13b-40ec-813a-5ea168287b2b\" style=\"height: 400px; width: 100%;\" class=\"plotly-graph-div\"></div><script type=\"text/javascript\">require([\"plotly\"], function(Plotly) { window.PLOTLYENV=window.PLOTLYENV || {};window.PLOTLYENV.BASE_URL=\"https://plot.ly\";Plotly.newPlot(\"7171d7dd-a13b-40ec-813a-5ea168287b2b\", [{\"type\": \"pie\", \"textinfo\": \"\", \"textfont\": {\"size\": 12}, \"labels\": [\"Unaccompanied\", \"Family\", \"Spouse, partner\", \"Children\", \"Other_B\", \"Other_A\", \"Group of people\"], \"hoverinfo\": \"\", \"values\": [508970, 213263, 67069, 31566, 17624, 9077, 2240], \"marker\": {\"line\": {\"width\": 2, \"color\": \"#fff\"}, \"colors\": [\"#FEBFB3\", \"#E1396C\", \"#96D38C\", \"#D0F9B1\"]}}], {\"height\": 400, \"title\": \"Suite Type in Previous Application Distribution\"}, {\"showLink\": true, \"linkText\": \"Export to plot.ly\"})});</script>"
      ],
      "text/vnd.plotly.v1+html": [
       "<div id=\"7171d7dd-a13b-40ec-813a-5ea168287b2b\" style=\"height: 400px; width: 100%;\" class=\"plotly-graph-div\"></div><script type=\"text/javascript\">require([\"plotly\"], function(Plotly) { window.PLOTLYENV=window.PLOTLYENV || {};window.PLOTLYENV.BASE_URL=\"https://plot.ly\";Plotly.newPlot(\"7171d7dd-a13b-40ec-813a-5ea168287b2b\", [{\"type\": \"pie\", \"textinfo\": \"\", \"textfont\": {\"size\": 12}, \"labels\": [\"Unaccompanied\", \"Family\", \"Spouse, partner\", \"Children\", \"Other_B\", \"Other_A\", \"Group of people\"], \"hoverinfo\": \"\", \"values\": [508970, 213263, 67069, 31566, 17624, 9077, 2240], \"marker\": {\"line\": {\"width\": 2, \"color\": \"#fff\"}, \"colors\": [\"#FEBFB3\", \"#E1396C\", \"#96D38C\", \"#D0F9B1\"]}}], {\"height\": 400, \"title\": \"Suite Type in Previous Application Distribution\"}, {\"showLink\": true, \"linkText\": \"Export to plot.ly\"})});</script>"
      ]
     },
     "metadata": {},
     "output_type": "display_data"
    }
   ],
   "source": [
    "t = previous_application['NAME_TYPE_SUITE'].value_counts()\n",
    "labels = t.index\n",
    "values = t.values\n",
    "\n",
    "colors = ['#FEBFB3', '#E1396C', '#96D38C', '#D0F9B1']\n",
    "\n",
    "trace = go.Pie(labels=labels, values=values,\n",
    "               hoverinfo='', textinfo='',\n",
    "               textfont=dict(size=12),\n",
    "               marker=dict(colors=colors,\n",
    "                           line=dict(color='#fff', width=2)))\n",
    "\n",
    "layout = go.Layout(title='Suite Type in Previous Application Distribution', height=400)\n",
    "fig = go.Figure(data=[trace], layout=layout)\n",
    "iplot(fig)"
   ]
  },
  {
   "cell_type": "markdown",
   "metadata": {
    "_cell_guid": "7a01e53a-85fc-43a1-9c51-bd0c2f616d54",
    "_uuid": "3a73a8e16611a5061e96b43e1f06bcffe5570bad"
   },
   "source": [
    "> - A majority of applicants had previous applications having Unaccompanied Suite Type (about 60%) followed by Family related suite type (about 25%)\n",
    "\n",
    "## 7.4 Client Type of Previous Applications"
   ]
  },
  {
   "cell_type": "code",
   "execution_count": 32,
   "metadata": {
    "_cell_guid": "5176fb10-38ce-4b5e-a22b-6526dee9e519",
    "_kg_hide-input": true,
    "_uuid": "3addc73066d5601a382390d05bd14f841db8f599"
   },
   "outputs": [
    {
     "data": {
      "application/vnd.plotly.v1+json": {
       "data": [
        {
         "hoverinfo": "",
         "labels": [
          "Repeater",
          "New",
          "Refreshed",
          "XNA"
         ],
         "marker": {
          "colors": [
           "#FEBFB3",
           "#E1396C",
           "#96D38C",
           "#D0F9B1"
          ],
          "line": {
           "color": "#fff",
           "width": 2
          }
         },
         "textfont": {
          "size": 12
         },
         "textinfo": "",
         "type": "pie",
         "values": [
          1231261,
          301363,
          135649,
          1941
         ]
        }
       ],
       "layout": {
        "height": 400,
        "title": "Client Type in Previous Applications"
       }
      },
      "text/html": [
       "<div id=\"4a91249e-f46d-47d8-bdf6-f672cecf7c50\" style=\"height: 400px; width: 100%;\" class=\"plotly-graph-div\"></div><script type=\"text/javascript\">require([\"plotly\"], function(Plotly) { window.PLOTLYENV=window.PLOTLYENV || {};window.PLOTLYENV.BASE_URL=\"https://plot.ly\";Plotly.newPlot(\"4a91249e-f46d-47d8-bdf6-f672cecf7c50\", [{\"type\": \"pie\", \"textinfo\": \"\", \"textfont\": {\"size\": 12}, \"labels\": [\"Repeater\", \"New\", \"Refreshed\", \"XNA\"], \"hoverinfo\": \"\", \"values\": [1231261, 301363, 135649, 1941], \"marker\": {\"line\": {\"width\": 2, \"color\": \"#fff\"}, \"colors\": [\"#FEBFB3\", \"#E1396C\", \"#96D38C\", \"#D0F9B1\"]}}], {\"height\": 400, \"title\": \"Client Type in Previous Applications\"}, {\"showLink\": true, \"linkText\": \"Export to plot.ly\"})});</script>"
      ],
      "text/vnd.plotly.v1+html": [
       "<div id=\"4a91249e-f46d-47d8-bdf6-f672cecf7c50\" style=\"height: 400px; width: 100%;\" class=\"plotly-graph-div\"></div><script type=\"text/javascript\">require([\"plotly\"], function(Plotly) { window.PLOTLYENV=window.PLOTLYENV || {};window.PLOTLYENV.BASE_URL=\"https://plot.ly\";Plotly.newPlot(\"4a91249e-f46d-47d8-bdf6-f672cecf7c50\", [{\"type\": \"pie\", \"textinfo\": \"\", \"textfont\": {\"size\": 12}, \"labels\": [\"Repeater\", \"New\", \"Refreshed\", \"XNA\"], \"hoverinfo\": \"\", \"values\": [1231261, 301363, 135649, 1941], \"marker\": {\"line\": {\"width\": 2, \"color\": \"#fff\"}, \"colors\": [\"#FEBFB3\", \"#E1396C\", \"#96D38C\", \"#D0F9B1\"]}}], {\"height\": 400, \"title\": \"Client Type in Previous Applications\"}, {\"showLink\": true, \"linkText\": \"Export to plot.ly\"})});</script>"
      ]
     },
     "metadata": {},
     "output_type": "display_data"
    }
   ],
   "source": [
    "t = previous_application['NAME_CLIENT_TYPE'].value_counts()\n",
    "labels = t.index\n",
    "values = t.values\n",
    "\n",
    "colors = ['#FEBFB3', '#E1396C', '#96D38C', '#D0F9B1']\n",
    "\n",
    "trace = go.Pie(labels=labels, values=values,\n",
    "               hoverinfo='', textinfo='',\n",
    "               textfont=dict(size=12),\n",
    "               marker=dict(colors=colors,\n",
    "                           line=dict(color='#fff', width=2)))\n",
    "\n",
    "layout = go.Layout(title='Client Type in Previous Applications', height=400)\n",
    "fig = go.Figure(data=[trace], layout=layout)\n",
    "iplot(fig)"
   ]
  },
  {
   "cell_type": "markdown",
   "metadata": {
    "_cell_guid": "7816f904-97ab-4f9e-aa5a-454e4ef428d8",
    "_uuid": "36fb1d0c298781a6205a17865003d2ca0fa786f6",
    "collapsed": true
   },
   "source": [
    "> - About 74% of the previous applications were Repeater Clients, while only 18% are new. About 8% are refreshed. \n",
    "\n",
    "## 7.5 Channel Type - Previous Applications "
   ]
  },
  {
   "cell_type": "code",
   "execution_count": 33,
   "metadata": {
    "_cell_guid": "d3d903f1-5dae-439f-ad54-f1e87fa7d569",
    "_kg_hide-input": true,
    "_uuid": "c8e0f239fd06aef97e10e51af1131945bc60a2c4"
   },
   "outputs": [
    {
     "data": {
      "application/vnd.plotly.v1+json": {
       "data": [
        {
         "hoverinfo": "",
         "labels": [
          "Credit and cash offices",
          "Country-wide",
          "Stone",
          "Regional / Local",
          "Contact center",
          "AP+ (Cash loan)",
          "Channel of corporate sales",
          "Car dealer"
         ],
         "marker": {
          "colors": [
           "#FEBFB3",
           "#E1396C",
           "#96D38C",
           "#D0F9B1"
          ],
          "line": {
           "color": "#fff",
           "width": 2
          }
         },
         "textfont": {
          "size": 12
         },
         "textinfo": "",
         "type": "pie",
         "values": [
          719968,
          494690,
          212083,
          108528,
          71297,
          57046,
          6150,
          452
         ]
        }
       ],
       "layout": {
        "height": 400,
        "title": "Channel Type in Previous Applications"
       }
      },
      "text/html": [
       "<div id=\"923f669c-3966-4147-912a-c8764b2b6e60\" style=\"height: 400px; width: 100%;\" class=\"plotly-graph-div\"></div><script type=\"text/javascript\">require([\"plotly\"], function(Plotly) { window.PLOTLYENV=window.PLOTLYENV || {};window.PLOTLYENV.BASE_URL=\"https://plot.ly\";Plotly.newPlot(\"923f669c-3966-4147-912a-c8764b2b6e60\", [{\"type\": \"pie\", \"textinfo\": \"\", \"textfont\": {\"size\": 12}, \"labels\": [\"Credit and cash offices\", \"Country-wide\", \"Stone\", \"Regional / Local\", \"Contact center\", \"AP+ (Cash loan)\", \"Channel of corporate sales\", \"Car dealer\"], \"hoverinfo\": \"\", \"values\": [719968, 494690, 212083, 108528, 71297, 57046, 6150, 452], \"marker\": {\"line\": {\"width\": 2, \"color\": \"#fff\"}, \"colors\": [\"#FEBFB3\", \"#E1396C\", \"#96D38C\", \"#D0F9B1\"]}}], {\"height\": 400, \"title\": \"Channel Type in Previous Applications\"}, {\"showLink\": true, \"linkText\": \"Export to plot.ly\"})});</script>"
      ],
      "text/vnd.plotly.v1+html": [
       "<div id=\"923f669c-3966-4147-912a-c8764b2b6e60\" style=\"height: 400px; width: 100%;\" class=\"plotly-graph-div\"></div><script type=\"text/javascript\">require([\"plotly\"], function(Plotly) { window.PLOTLYENV=window.PLOTLYENV || {};window.PLOTLYENV.BASE_URL=\"https://plot.ly\";Plotly.newPlot(\"923f669c-3966-4147-912a-c8764b2b6e60\", [{\"type\": \"pie\", \"textinfo\": \"\", \"textfont\": {\"size\": 12}, \"labels\": [\"Credit and cash offices\", \"Country-wide\", \"Stone\", \"Regional / Local\", \"Contact center\", \"AP+ (Cash loan)\", \"Channel of corporate sales\", \"Car dealer\"], \"hoverinfo\": \"\", \"values\": [719968, 494690, 212083, 108528, 71297, 57046, 6150, 452], \"marker\": {\"line\": {\"width\": 2, \"color\": \"#fff\"}, \"colors\": [\"#FEBFB3\", \"#E1396C\", \"#96D38C\", \"#D0F9B1\"]}}], {\"height\": 400, \"title\": \"Channel Type in Previous Applications\"}, {\"showLink\": true, \"linkText\": \"Export to plot.ly\"})});</script>"
      ]
     },
     "metadata": {},
     "output_type": "display_data"
    }
   ],
   "source": [
    "t = previous_application['CHANNEL_TYPE'].value_counts()\n",
    "labels = t.index\n",
    "values = t.values\n",
    "\n",
    "colors = ['#FEBFB3', '#E1396C', '#96D38C', '#D0F9B1']\n",
    "\n",
    "trace = go.Pie(labels=labels, values=values,\n",
    "               hoverinfo='', textinfo='',\n",
    "               textfont=dict(size=12),\n",
    "               marker=dict(colors=colors,\n",
    "                           line=dict(color='#fff', width=2)))\n",
    "\n",
    "layout = go.Layout(title='Channel Type in Previous Applications', height=400)\n",
    "fig = go.Figure(data=[trace], layout=layout)\n",
    "iplot(fig)"
   ]
  },
  {
   "cell_type": "markdown",
   "metadata": {
    "_cell_guid": "0e2f999c-0b11-4e4e-88ff-2f7717dca833",
    "_uuid": "3292c40aae11e71d2724862163132c86353d69d7"
   },
   "source": [
    "## 8. Exploration of Installation Payments \n",
    "## 8.1 Snapshot of Installation Payments "
   ]
  },
  {
   "cell_type": "code",
   "execution_count": 34,
   "metadata": {
    "_cell_guid": "e06752f4-1545-4afe-93e6-faaf6303ef80",
    "_kg_hide-input": true,
    "_uuid": "233a79452495afeccba562a2b7def7e64d0a41f0"
   },
   "outputs": [
    {
     "data": {
      "text/html": [
       "<div>\n",
       "<style scoped>\n",
       "    .dataframe tbody tr th:only-of-type {\n",
       "        vertical-align: middle;\n",
       "    }\n",
       "\n",
       "    .dataframe tbody tr th {\n",
       "        vertical-align: top;\n",
       "    }\n",
       "\n",
       "    .dataframe thead th {\n",
       "        text-align: right;\n",
       "    }\n",
       "</style>\n",
       "<table border=\"1\" class=\"dataframe\">\n",
       "  <thead>\n",
       "    <tr style=\"text-align: right;\">\n",
       "      <th></th>\n",
       "      <th>SK_ID_PREV</th>\n",
       "      <th>SK_ID_CURR</th>\n",
       "      <th>NUM_INSTALMENT_VERSION</th>\n",
       "      <th>NUM_INSTALMENT_NUMBER</th>\n",
       "      <th>DAYS_INSTALMENT</th>\n",
       "      <th>DAYS_ENTRY_PAYMENT</th>\n",
       "      <th>AMT_INSTALMENT</th>\n",
       "      <th>AMT_PAYMENT</th>\n",
       "    </tr>\n",
       "  </thead>\n",
       "  <tbody>\n",
       "    <tr>\n",
       "      <th>0</th>\n",
       "      <td>1054186</td>\n",
       "      <td>161674</td>\n",
       "      <td>1.0</td>\n",
       "      <td>6</td>\n",
       "      <td>-1180.0</td>\n",
       "      <td>-1187.0</td>\n",
       "      <td>6948.360</td>\n",
       "      <td>6948.360</td>\n",
       "    </tr>\n",
       "    <tr>\n",
       "      <th>1</th>\n",
       "      <td>1330831</td>\n",
       "      <td>151639</td>\n",
       "      <td>0.0</td>\n",
       "      <td>34</td>\n",
       "      <td>-2156.0</td>\n",
       "      <td>-2156.0</td>\n",
       "      <td>1716.525</td>\n",
       "      <td>1716.525</td>\n",
       "    </tr>\n",
       "    <tr>\n",
       "      <th>2</th>\n",
       "      <td>2085231</td>\n",
       "      <td>193053</td>\n",
       "      <td>2.0</td>\n",
       "      <td>1</td>\n",
       "      <td>-63.0</td>\n",
       "      <td>-63.0</td>\n",
       "      <td>25425.000</td>\n",
       "      <td>25425.000</td>\n",
       "    </tr>\n",
       "    <tr>\n",
       "      <th>3</th>\n",
       "      <td>2452527</td>\n",
       "      <td>199697</td>\n",
       "      <td>1.0</td>\n",
       "      <td>3</td>\n",
       "      <td>-2418.0</td>\n",
       "      <td>-2426.0</td>\n",
       "      <td>24350.130</td>\n",
       "      <td>24350.130</td>\n",
       "    </tr>\n",
       "    <tr>\n",
       "      <th>4</th>\n",
       "      <td>2714724</td>\n",
       "      <td>167756</td>\n",
       "      <td>1.0</td>\n",
       "      <td>2</td>\n",
       "      <td>-1383.0</td>\n",
       "      <td>-1366.0</td>\n",
       "      <td>2165.040</td>\n",
       "      <td>2160.585</td>\n",
       "    </tr>\n",
       "  </tbody>\n",
       "</table>\n",
       "</div>"
      ],
      "text/plain": [
       "   SK_ID_PREV  SK_ID_CURR  NUM_INSTALMENT_VERSION  NUM_INSTALMENT_NUMBER  \\\n",
       "0     1054186      161674                     1.0                      6   \n",
       "1     1330831      151639                     0.0                     34   \n",
       "2     2085231      193053                     2.0                      1   \n",
       "3     2452527      199697                     1.0                      3   \n",
       "4     2714724      167756                     1.0                      2   \n",
       "\n",
       "   DAYS_INSTALMENT  DAYS_ENTRY_PAYMENT  AMT_INSTALMENT  AMT_PAYMENT  \n",
       "0          -1180.0             -1187.0        6948.360     6948.360  \n",
       "1          -2156.0             -2156.0        1716.525     1716.525  \n",
       "2            -63.0               -63.0       25425.000    25425.000  \n",
       "3          -2418.0             -2426.0       24350.130    24350.130  \n",
       "4          -1383.0             -1366.0        2165.040     2160.585  "
      ]
     },
     "execution_count": 34,
     "metadata": {},
     "output_type": "execute_result"
    }
   ],
   "source": [
    "installments_payments = pd.read_csv(path + \"installments_payments.csv\")\n",
    "installments_payments.head()"
   ]
  },
  {
   "cell_type": "markdown",
   "metadata": {
    "_cell_guid": "2cfd03cc-f0bb-462a-a0d3-34158797cad7",
    "_uuid": "282f624b00c2a71fdb4164b6977d44a9d10124b2"
   },
   "source": [
    "## 9. Baseline Model \n",
    "\n",
    "### 9.1 Dataset Preparation"
   ]
  },
  {
   "cell_type": "code",
   "execution_count": 43,
   "metadata": {
    "_cell_guid": "4dcc95a1-8e83-4984-9546-0dbccab81810",
    "_kg_hide-input": false,
    "_uuid": "adf0822296c484e7ced0e6ec5dbb974e219c7d57"
   },
   "outputs": [
    {
     "ename": "OSError",
     "evalue": "dlopen(/anaconda3/envs/pythonstudy/lib/python3.5/site-packages/lightgbm/lib_lightgbm.so, 6): Library not loaded: /usr/local/opt/gcc/lib/gcc/7/libgomp.1.dylib\n  Referenced from: /anaconda3/envs/pythonstudy/lib/python3.5/site-packages/lightgbm/lib_lightgbm.so\n  Reason: image not found",
     "output_type": "error",
     "traceback": [
      "\u001b[0;31m---------------------------------------------------------------------------\u001b[0m",
      "\u001b[0;31mOSError\u001b[0m                                   Traceback (most recent call last)",
      "\u001b[0;32m<ipython-input-43-ee799017b1f3>\u001b[0m in \u001b[0;36m<module>\u001b[0;34m()\u001b[0m\n\u001b[0;32m----> 1\u001b[0;31m \u001b[0;32mimport\u001b[0m \u001b[0mlightgbm\u001b[0m \u001b[0;32mas\u001b[0m \u001b[0mlgb\u001b[0m\u001b[0;34m\u001b[0m\u001b[0m\n\u001b[0m\u001b[1;32m      2\u001b[0m \u001b[0;32mfrom\u001b[0m \u001b[0msklearn\u001b[0m\u001b[0;34m.\u001b[0m\u001b[0mpreprocessing\u001b[0m \u001b[0;32mimport\u001b[0m \u001b[0mLabelEncoder\u001b[0m\u001b[0;34m\u001b[0m\u001b[0m\n\u001b[1;32m      3\u001b[0m \u001b[0;32mfrom\u001b[0m \u001b[0msklearn\u001b[0m\u001b[0;34m.\u001b[0m\u001b[0mmodel_selection\u001b[0m \u001b[0;32mimport\u001b[0m \u001b[0mtrain_test_split\u001b[0m\u001b[0;34m\u001b[0m\u001b[0m\n\u001b[1;32m      4\u001b[0m \u001b[0;34m\u001b[0m\u001b[0m\n\u001b[1;32m      5\u001b[0m \u001b[0;31m# read the test data\u001b[0m\u001b[0;34m\u001b[0m\u001b[0;34m\u001b[0m\u001b[0m\n",
      "\u001b[0;32m/anaconda3/envs/pythonstudy/lib/python3.5/site-packages/lightgbm/__init__.py\u001b[0m in \u001b[0;36m<module>\u001b[0;34m()\u001b[0m\n\u001b[1;32m      6\u001b[0m \u001b[0;32mfrom\u001b[0m \u001b[0m__future__\u001b[0m \u001b[0;32mimport\u001b[0m \u001b[0mabsolute_import\u001b[0m\u001b[0;34m\u001b[0m\u001b[0m\n\u001b[1;32m      7\u001b[0m \u001b[0;34m\u001b[0m\u001b[0m\n\u001b[0;32m----> 8\u001b[0;31m \u001b[0;32mfrom\u001b[0m \u001b[0;34m.\u001b[0m\u001b[0mbasic\u001b[0m \u001b[0;32mimport\u001b[0m \u001b[0mBooster\u001b[0m\u001b[0;34m,\u001b[0m \u001b[0mDataset\u001b[0m\u001b[0;34m\u001b[0m\u001b[0m\n\u001b[0m\u001b[1;32m      9\u001b[0m from .callback import (early_stopping, print_evaluation, record_evaluation,\n\u001b[1;32m     10\u001b[0m                        reset_parameter)\n",
      "\u001b[0;32m/anaconda3/envs/pythonstudy/lib/python3.5/site-packages/lightgbm/basic.py\u001b[0m in \u001b[0;36m<module>\u001b[0;34m()\u001b[0m\n\u001b[1;32m     30\u001b[0m \u001b[0;34m\u001b[0m\u001b[0m\n\u001b[1;32m     31\u001b[0m \u001b[0;34m\u001b[0m\u001b[0m\n\u001b[0;32m---> 32\u001b[0;31m \u001b[0m_LIB\u001b[0m \u001b[0;34m=\u001b[0m \u001b[0m_load_lib\u001b[0m\u001b[0;34m(\u001b[0m\u001b[0;34m)\u001b[0m\u001b[0;34m\u001b[0m\u001b[0m\n\u001b[0m\u001b[1;32m     33\u001b[0m \u001b[0;34m\u001b[0m\u001b[0m\n\u001b[1;32m     34\u001b[0m \u001b[0;34m\u001b[0m\u001b[0m\n",
      "\u001b[0;32m/anaconda3/envs/pythonstudy/lib/python3.5/site-packages/lightgbm/basic.py\u001b[0m in \u001b[0;36m_load_lib\u001b[0;34m()\u001b[0m\n\u001b[1;32m     25\u001b[0m     \u001b[0;32mif\u001b[0m \u001b[0mlen\u001b[0m\u001b[0;34m(\u001b[0m\u001b[0mlib_path\u001b[0m\u001b[0;34m)\u001b[0m \u001b[0;34m==\u001b[0m \u001b[0;36m0\u001b[0m\u001b[0;34m:\u001b[0m\u001b[0;34m\u001b[0m\u001b[0m\n\u001b[1;32m     26\u001b[0m         \u001b[0;32mreturn\u001b[0m \u001b[0;32mNone\u001b[0m\u001b[0;34m\u001b[0m\u001b[0m\n\u001b[0;32m---> 27\u001b[0;31m     \u001b[0mlib\u001b[0m \u001b[0;34m=\u001b[0m \u001b[0mctypes\u001b[0m\u001b[0;34m.\u001b[0m\u001b[0mcdll\u001b[0m\u001b[0;34m.\u001b[0m\u001b[0mLoadLibrary\u001b[0m\u001b[0;34m(\u001b[0m\u001b[0mlib_path\u001b[0m\u001b[0;34m[\u001b[0m\u001b[0;36m0\u001b[0m\u001b[0;34m]\u001b[0m\u001b[0;34m)\u001b[0m\u001b[0;34m\u001b[0m\u001b[0m\n\u001b[0m\u001b[1;32m     28\u001b[0m     \u001b[0mlib\u001b[0m\u001b[0;34m.\u001b[0m\u001b[0mLGBM_GetLastError\u001b[0m\u001b[0;34m.\u001b[0m\u001b[0mrestype\u001b[0m \u001b[0;34m=\u001b[0m \u001b[0mctypes\u001b[0m\u001b[0;34m.\u001b[0m\u001b[0mc_char_p\u001b[0m\u001b[0;34m\u001b[0m\u001b[0m\n\u001b[1;32m     29\u001b[0m     \u001b[0;32mreturn\u001b[0m \u001b[0mlib\u001b[0m\u001b[0;34m\u001b[0m\u001b[0m\n",
      "\u001b[0;32m/anaconda3/envs/pythonstudy/lib/python3.5/ctypes/__init__.py\u001b[0m in \u001b[0;36mLoadLibrary\u001b[0;34m(self, name)\u001b[0m\n\u001b[1;32m    427\u001b[0m \u001b[0;34m\u001b[0m\u001b[0m\n\u001b[1;32m    428\u001b[0m     \u001b[0;32mdef\u001b[0m \u001b[0mLoadLibrary\u001b[0m\u001b[0;34m(\u001b[0m\u001b[0mself\u001b[0m\u001b[0;34m,\u001b[0m \u001b[0mname\u001b[0m\u001b[0;34m)\u001b[0m\u001b[0;34m:\u001b[0m\u001b[0;34m\u001b[0m\u001b[0m\n\u001b[0;32m--> 429\u001b[0;31m         \u001b[0;32mreturn\u001b[0m \u001b[0mself\u001b[0m\u001b[0;34m.\u001b[0m\u001b[0m_dlltype\u001b[0m\u001b[0;34m(\u001b[0m\u001b[0mname\u001b[0m\u001b[0;34m)\u001b[0m\u001b[0;34m\u001b[0m\u001b[0m\n\u001b[0m\u001b[1;32m    430\u001b[0m \u001b[0;34m\u001b[0m\u001b[0m\n\u001b[1;32m    431\u001b[0m \u001b[0mcdll\u001b[0m \u001b[0;34m=\u001b[0m \u001b[0mLibraryLoader\u001b[0m\u001b[0;34m(\u001b[0m\u001b[0mCDLL\u001b[0m\u001b[0;34m)\u001b[0m\u001b[0;34m\u001b[0m\u001b[0m\n",
      "\u001b[0;32m/anaconda3/envs/pythonstudy/lib/python3.5/ctypes/__init__.py\u001b[0m in \u001b[0;36m__init__\u001b[0;34m(self, name, mode, handle, use_errno, use_last_error)\u001b[0m\n\u001b[1;32m    349\u001b[0m \u001b[0;34m\u001b[0m\u001b[0m\n\u001b[1;32m    350\u001b[0m         \u001b[0;32mif\u001b[0m \u001b[0mhandle\u001b[0m \u001b[0;32mis\u001b[0m \u001b[0;32mNone\u001b[0m\u001b[0;34m:\u001b[0m\u001b[0;34m\u001b[0m\u001b[0m\n\u001b[0;32m--> 351\u001b[0;31m             \u001b[0mself\u001b[0m\u001b[0;34m.\u001b[0m\u001b[0m_handle\u001b[0m \u001b[0;34m=\u001b[0m \u001b[0m_dlopen\u001b[0m\u001b[0;34m(\u001b[0m\u001b[0mself\u001b[0m\u001b[0;34m.\u001b[0m\u001b[0m_name\u001b[0m\u001b[0;34m,\u001b[0m \u001b[0mmode\u001b[0m\u001b[0;34m)\u001b[0m\u001b[0;34m\u001b[0m\u001b[0m\n\u001b[0m\u001b[1;32m    352\u001b[0m         \u001b[0;32melse\u001b[0m\u001b[0;34m:\u001b[0m\u001b[0;34m\u001b[0m\u001b[0m\n\u001b[1;32m    353\u001b[0m             \u001b[0mself\u001b[0m\u001b[0;34m.\u001b[0m\u001b[0m_handle\u001b[0m \u001b[0;34m=\u001b[0m \u001b[0mhandle\u001b[0m\u001b[0;34m\u001b[0m\u001b[0m\n",
      "\u001b[0;31mOSError\u001b[0m: dlopen(/anaconda3/envs/pythonstudy/lib/python3.5/site-packages/lightgbm/lib_lightgbm.so, 6): Library not loaded: /usr/local/opt/gcc/lib/gcc/7/libgomp.1.dylib\n  Referenced from: /anaconda3/envs/pythonstudy/lib/python3.5/site-packages/lightgbm/lib_lightgbm.so\n  Reason: image not found"
     ]
    }
   ],
   "source": [
    "import lightgbm as lgb\n",
    "from sklearn.preprocessing import LabelEncoder\n",
    "from sklearn.model_selection import train_test_split \n",
    "\n",
    "# read the test data \n",
    "app_test = pd.read_csv(path + 'application_test.csv')\n",
    "app_test['is_test'] = 1 \n",
    "app_test['is_train'] = 0\n",
    "\n",
    "app_train['is_test'] = 0\n",
    "app_train['is_train'] = 1\n",
    "\n",
    "\n",
    "# target variable \n",
    "Y = app_train['TARGET']\n",
    "test_id = app_test['SK_ID_CURR']\n",
    "\n",
    "train_X = app_train.drop(['TARGET', 'SK_ID_CURR'], axis = 1)\n",
    "test_X = app_test.drop(['SK_ID_CURR'], axis = 1)"
   ]
  },
  {
   "cell_type": "markdown",
   "metadata": {
    "_cell_guid": "30f83912-ecf4-49d9-bd27-ba9d2a3a4d0d",
    "_uuid": "9f906d1da1bccc7fafa88af8ec369a1c9f9d82ae"
   },
   "source": [
    "### 9.2 Label Encoding"
   ]
  },
  {
   "cell_type": "code",
   "execution_count": null,
   "metadata": {
    "_cell_guid": "bbbb40c8-b420-4472-b1cc-3d8e9199f736",
    "_kg_hide-input": false,
    "_uuid": "17438fe941c9d5c16ff99ea76abae92915baf42e",
    "collapsed": true
   },
   "outputs": [],
   "source": [
    "cat_cols = ['NAME_CONTRACT_TYPE', 'CODE_GENDER', 'FLAG_OWN_CAR', 'FLAG_OWN_REALTY', 'NAME_TYPE_SUITE',\n",
    "            'NAME_INCOME_TYPE', 'NAME_EDUCATION_TYPE', 'NAME_FAMILY_STATUS', 'NAME_HOUSING_TYPE',\n",
    "            'OCCUPATION_TYPE', 'WEEKDAY_APPR_PROCESS_START','ORGANIZATION_TYPE', 'FONDKAPREMONT_MODE',\n",
    "            'HOUSETYPE_MODE', 'WALLSMATERIAL_MODE', 'EMERGENCYSTATE_MODE']\n",
    "\n",
    "\n",
    "data = pd.concat([train_X, test_X], axis=0)\n",
    "for c in cat_cols:\n",
    "    data[c] = LabelEncoder().fit_transform(data[c].astype('str').values)\n",
    "\n",
    "train_X = data[data['is_train'] == 1]\n",
    "test_X = data[data['is_test'] == 1]"
   ]
  },
  {
   "cell_type": "markdown",
   "metadata": {
    "_cell_guid": "bb478ad4-70b7-43de-9043-4d162da1bcfb",
    "_uuid": "4c85c54935d70e7ae62705d7daec1913c1332941"
   },
   "source": [
    "### 9.3 Prepare Validation Sets"
   ]
  },
  {
   "cell_type": "code",
   "execution_count": null,
   "metadata": {
    "_cell_guid": "4958e5ee-c072-4768-8474-ef062610c30c",
    "_kg_hide-input": false,
    "_uuid": "1447f95c16467e9159bffe333fb6418195a484fd",
    "collapsed": true
   },
   "outputs": [],
   "source": [
    "# prepare training and validation data\n",
    "x_train, x_val, y_train, y_val = train_test_split(train_X, Y, random_state=18)\n",
    "\n",
    "lgb_train = lgb.Dataset(data=x_train, label=y_train)\n",
    "lgb_eval = lgb.Dataset(data=x_val, label=y_val)"
   ]
  },
  {
   "cell_type": "markdown",
   "metadata": {
    "_cell_guid": "8cd7bbf8-0a9f-4d5d-a563-0fd85bd3244e",
    "_uuid": "d2788b8496e5210d3a2fcbd812d2a82a84934d6a"
   },
   "source": [
    "### 9.4 Fit the Model"
   ]
  },
  {
   "cell_type": "code",
   "execution_count": null,
   "metadata": {
    "_cell_guid": "1447e73c-e7b1-4aac-a7a3-839b81b9cbae",
    "_kg_hide-input": false,
    "_uuid": "2fb7bc4662df2c07cfbfabe9860c79d0d4635553",
    "collapsed": true
   },
   "outputs": [],
   "source": [
    "params = {'task': 'train', 'boosting_type': 'gbdt', 'objective': 'binary', 'metric': 'auc', 'learning_rate': 0.05, 'num_leaves': 32, 'num_iteration': 500, 'verbose': 0 }\n",
    "model = lgb.train(params, lgb_train, valid_sets=lgb_eval, early_stopping_rounds=100, verbose_eval=10)"
   ]
  },
  {
   "cell_type": "markdown",
   "metadata": {
    "_cell_guid": "95e66f13-c1ba-46a3-9fca-53422cb5014f",
    "_uuid": "2e517e7014d049789c97b393a7ab8e72f9932672"
   },
   "source": [
    "### 9.5 Feature Importance "
   ]
  },
  {
   "cell_type": "code",
   "execution_count": null,
   "metadata": {
    "_cell_guid": "d5acdc09-bf70-489e-a6f5-7db8f9a10b87",
    "_kg_hide-input": false,
    "_uuid": "74f91f79d44b44c46445c6ad7e248b5fd8bfe90e",
    "collapsed": true
   },
   "outputs": [],
   "source": [
    "lgb.plot_importance(model, figsize=(12, 20));"
   ]
  },
  {
   "cell_type": "markdown",
   "metadata": {
    "_cell_guid": "f6454263-3924-45a8-bdeb-870d9ace4277",
    "_uuid": "dcc834ec4ff78a3529c4a8488534999a23ba040e"
   },
   "source": [
    "### 9.6 Predict"
   ]
  },
  {
   "cell_type": "code",
   "execution_count": null,
   "metadata": {
    "_cell_guid": "d1513dd9-5e5f-4157-b7fe-dceb9db5483b",
    "_uuid": "7976790886f7d85428dbaf40703cdd6a93586ba7",
    "collapsed": true
   },
   "outputs": [],
   "source": [
    "pred = model.predict(test_X)\n",
    "sub = pd.DataFrame()\n",
    "sub['SK_ID_CURR'] = test_id\n",
    "sub['TARGET'] = pred\n",
    "sub.to_csv(\"baseline_submission.csv\", index=False)\n",
    "sub.head()"
   ]
  },
  {
   "cell_type": "markdown",
   "metadata": {
    "_cell_guid": "27046706-38b0-4886-84b0-f3e61b288be5",
    "_uuid": "e27cf9bb0e6c1cff14c7fa95f603d91789acb5cb",
    "collapsed": true
   },
   "source": [
    "#### In Progress, Stay Tuned for more "
   ]
  },
  {
   "cell_type": "code",
   "execution_count": null,
   "metadata": {
    "_cell_guid": "00b62c0d-bc47-444a-88a0-763314d3b4a3",
    "_uuid": "d93e478cdefe1ffd009317669378d800558d9dd7",
    "collapsed": true
   },
   "outputs": [],
   "source": []
  }
 ],
 "metadata": {
  "kernelspec": {
   "display_name": "Python 3",
   "language": "python",
   "name": "python3"
  },
  "language_info": {
   "codemirror_mode": {
    "name": "ipython",
    "version": 3
   },
   "file_extension": ".py",
   "mimetype": "text/x-python",
   "name": "python",
   "nbconvert_exporter": "python",
   "pygments_lexer": "ipython3",
   "version": "3.5.5"
  }
 },
 "nbformat": 4,
 "nbformat_minor": 1
}
