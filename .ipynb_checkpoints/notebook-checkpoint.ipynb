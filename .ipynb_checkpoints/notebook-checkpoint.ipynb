{
 "cells": [
  {
   "cell_type": "markdown",
   "metadata": {
    "_cell_guid": "2c165ea5-9c16-4765-8f70-4643940c927c",
    "_uuid": "81e16db53fe23d7f531511f996eb6624984d980f"
   },
   "source": [
    "# Home Credit Default Risk - Exploration + Baseline Model\n",
    "\n",
    "Many people struggle to get loans due to insufficient or non-existent credit histories. And, unfortunately, this population is often taken advantage of by untrustworthy lenders. Home Credit strives to broaden financial inclusion for the unbanked population by providing a positive and safe borrowing experience. In order to make sure this underserved population has a positive loan experience, Home Credit makes use of a variety of alternative data--including telco and transactional information--to predict their clients' repayment abilities. \n",
    "\n",
    "While Home Credit is currently using various statistical and machine learning methods to make these predictions, they're challenging Kagglers to help them unlock the full potential of their data. Doing so will ensure that clients capable of repayment are not rejected and that loans are given with a principal, maturity, and repayment calendar that will empower their clients to be successful.\n",
    "\n",
    "This is a simple notebook on exploration and baseline model of home credit default risk data \n",
    "\n",
    "**Contents**   \n",
    "1. Dataset Preparation    \n",
    "2. Exploration - Applications Train  \n",
    "&nbsp;&nbsp;&nbsp;&nbsp; 2.1 Snapshot - Application Train    \n",
    "&nbsp;&nbsp;&nbsp;&nbsp; 2.2 Distribution of Target Variable    \n",
    "&nbsp;&nbsp;&nbsp;&nbsp; 2.3 Gender and Contract Type Distribution and Target Variable    \n",
    "&nbsp;&nbsp;&nbsp;&nbsp; 2.4 Own Realty and Own Car  - Distribution with Target Variable  \n",
    "&nbsp;&nbsp;&nbsp;&nbsp; 2.5 Suit Type and Income Type    \n",
    "&nbsp;&nbsp;&nbsp;&nbsp; 2.6 Family Statue and Housing Type   \n",
    "&nbsp;&nbsp;&nbsp;&nbsp; 2.7 Education Type and Income Type   \n",
    "&nbsp;&nbsp;&nbsp;&nbsp; 2.8.1 Organization Type and Occupation Type   \n",
    "&nbsp;&nbsp;&nbsp;&nbsp; 2.8.2 Walls Material, Foundation and House Type   \n",
    "&nbsp;&nbsp;&nbsp;&nbsp; 2.9 Amount Credit Distribution    \n",
    "&nbsp;&nbsp;&nbsp;&nbsp; 2.10 Amount Annuity Distribution  \n",
    "&nbsp;&nbsp;&nbsp;&nbsp; 2.11 Amount Goods Price   \n",
    "&nbsp;&nbsp;&nbsp;&nbsp; 2.12 Amount Region Population Relative    \n",
    "&nbsp;&nbsp;&nbsp;&nbsp; 2.13 Days Birth   \n",
    "&nbsp;&nbsp;&nbsp;&nbsp; 2.14 Days Employed    \n",
    "&nbsp;&nbsp;&nbsp;&nbsp; 2.15 Num Days Registration  \n",
    "&nbsp;&nbsp;&nbsp;&nbsp; 2.15 Count of Family Members  \n",
    "3. Exploration - Bureau Data  \n",
    "&nbsp;&nbsp;&nbsp;&nbsp; 3.1 Snapshot - Bureau Data    \n",
    "4. Exploration - Bureau Balance Data  \n",
    "&nbsp;&nbsp;&nbsp;&nbsp; 4.1 Snapshot - Bureau Balance Data     \n",
    "5. Exploration - Credit Card Balance Data   \n",
    "&nbsp;&nbsp;&nbsp;&nbsp; 5.1 Snapshot - Credit Card Balance Data   \n",
    "6. Exploration - POS Cash Balance Data   \n",
    "&nbsp;&nbsp;&nbsp;&nbsp; 6.1 Snapshot - POS Cash Balance Data   \n",
    "7. Exploration - Previous Application Data   \n",
    "&nbsp;&nbsp;&nbsp;&nbsp; 7.1 Snapshot - Previous Application Data  \n",
    "&nbsp;&nbsp;&nbsp;&nbsp; 7.2 Contract Status Distribution - Previous Applications  \n",
    "&nbsp;&nbsp;&nbsp;&nbsp; 7.3 Suite Type Distribution - Previous Application    \n",
    "&nbsp;&nbsp;&nbsp;&nbsp; 7.4 Client Type Distribution  - Previous Application    \n",
    "&nbsp;&nbsp;&nbsp;&nbsp; 7.5 Channel Type Distribution - Previous Applications  \n",
    "7. Exploration - Installation Payments  \n",
    "&nbsp;&nbsp;&nbsp;&nbsp; 8.1 Snapshot of Installation Payments  \n",
    "9. Baseline Model  \n",
    "&nbsp;&nbsp;&nbsp;&nbsp; 9.1 Dataset Preparation  \n",
    "&nbsp;&nbsp;&nbsp;&nbsp; 9.2 Label Encoding     \n",
    "&nbsp;&nbsp;&nbsp;&nbsp; 9.3 Validation Sets Preparation    \n",
    "&nbsp;&nbsp;&nbsp;&nbsp; 9.4 Model Fitting    \n",
    "&nbsp;&nbsp;&nbsp;&nbsp; 9.5 Feature Importance    \n",
    "&nbsp;&nbsp;&nbsp;&nbsp; 9.6 Prediction \n",
    "\n",
    "\n",
    "\n",
    "## 1. Dataset Preparation "
   ]
  },
  {
   "cell_type": "code",
   "execution_count": 1,
   "metadata": {
    "_cell_guid": "38416409-89e8-431a-a206-0f78136ac8f2",
    "_kg_hide-input": true,
    "_uuid": "51ee747ada40a7cdfb800dfb02046bc353e5ec66"
   },
   "outputs": [
    {
     "data": {
      "text/html": [
       "<script>requirejs.config({paths: { 'plotly': ['https://cdn.plot.ly/plotly-latest.min']},});if(!window.Plotly) {{require(['plotly'],function(plotly) {window.Plotly=plotly;});}}</script>"
      ],
      "text/vnd.plotly.v1+html": [
       "<script>requirejs.config({paths: { 'plotly': ['https://cdn.plot.ly/plotly-latest.min']},});if(!window.Plotly) {{require(['plotly'],function(plotly) {window.Plotly=plotly;});}}</script>"
      ]
     },
     "metadata": {},
     "output_type": "display_data"
    }
   ],
   "source": [
    "from plotly.offline import init_notebook_mode, iplot\n",
    "from wordcloud import WordCloud\n",
    "import plotly.graph_objs as go\n",
    "import matplotlib.pyplot as plt\n",
    "import plotly.plotly as py\n",
    "from plotly import tools\n",
    "from datetime import date\n",
    "import pandas as pd\n",
    "import numpy as np \n",
    "import seaborn as sns\n",
    "import random \n",
    "import warnings\n",
    "warnings.filterwarnings(\"ignore\")\n",
    "init_notebook_mode(connected=True)\n",
    "\n",
    "path = \"Data/\"\n",
    "\n",
    "def bar_hor(df, col, title, color, w=None, h=None, lm=0, limit=100, return_trace=False, rev=False, xlb = False):\n",
    "    cnt_srs = df[col].value_counts()\n",
    "    yy = cnt_srs.head(limit).index[::-1] \n",
    "    xx = cnt_srs.head(limit).values[::-1] \n",
    "    if rev:\n",
    "        yy = cnt_srs.tail(limit).index[::-1] \n",
    "        xx = cnt_srs.tail(limit).values[::-1] \n",
    "    if xlb:\n",
    "        trace = go.Bar(y=xlb, x=xx, orientation = 'h', marker=dict(color=color))\n",
    "    else:\n",
    "        trace = go.Bar(y=yy, x=xx, orientation = 'h', marker=dict(color=color))\n",
    "    if return_trace:\n",
    "        return trace \n",
    "    layout = dict(title=title, margin=dict(l=lm), width=w, height=h)\n",
    "    data = [trace]\n",
    "    fig = go.Figure(data=data, layout=layout)\n",
    "    iplot(fig)\n",
    "\n",
    "def bar_hor_noagg(x, y, title, color, w=None, h=None, lm=0, limit=100, rt=False):\n",
    "    trace = go.Bar(y=x, x=y, orientation = 'h', marker=dict(color=color))\n",
    "    if rt:\n",
    "        return trace\n",
    "    layout = dict(title=title, margin=dict(l=lm), width=w, height=h)\n",
    "    data = [trace]\n",
    "    fig = go.Figure(data=data, layout=layout)\n",
    "    iplot(fig)\n",
    "\n",
    "\n",
    "def bar_ver_noagg(x, y, title, color, w=None, h=None, lm=0, rt = False):\n",
    "    trace = go.Bar(y=y, x=x, marker=dict(color=color))\n",
    "    if rt:\n",
    "        return trace\n",
    "    layout = dict(title=title, margin=dict(l=lm), width=w, height=h)\n",
    "    data = [trace]\n",
    "    fig = go.Figure(data=data, layout=layout)\n",
    "    iplot(fig)\n",
    "    \n",
    "def gp(col, title):\n",
    "    df1 = app_train[app_train[\"TARGET\"] == 1]\n",
    "    df0 = app_train[app_train[\"TARGET\"] == 0]\n",
    "    a1 = df1[col].value_counts()\n",
    "    b1 = df0[col].value_counts()\n",
    "\n",
    "    trace1 = go.Bar(x=a1.index, y=a1.values, name='Target : 1', marker=dict(color=\"#44ff54\"))\n",
    "    trace2 = go.Bar(x=b1.index, y=b1.values, name='Target : 0', marker=dict(color=\"#ff4444\"))\n",
    "\n",
    "    data = [trace1, trace2]\n",
    "    layout = go.Layout(barmode='group', height=300, title = title)\n",
    "\n",
    "    fig = go.Figure(data=data, layout=layout)\n",
    "    iplot(fig, filename='grouped-bar')"
   ]
  },
  {
   "cell_type": "markdown",
   "metadata": {
    "_cell_guid": "c156fe19-e526-404c-b1e2-3d04f103ae87",
    "_uuid": "156bb2d13eb08c1d800307265994060bfc35cde1"
   },
   "source": [
    "## 2. Exploration of - Application \n",
    "\n",
    "## 2.1 Snapshot of Application Train\n",
    "\n",
    "Application data consists of static data for all applications and every row represents one loan."
   ]
  },
  {
   "cell_type": "code",
   "execution_count": 2,
   "metadata": {
    "_cell_guid": "eb163c92-0997-412e-a351-c954e6c20338",
    "_kg_hide-input": true,
    "_uuid": "c95dcf079aa5b11cec71fdf6f443d01b51218fb4"
   },
   "outputs": [
    {
     "data": {
      "text/html": [
       "<div>\n",
       "<style scoped>\n",
       "    .dataframe tbody tr th:only-of-type {\n",
       "        vertical-align: middle;\n",
       "    }\n",
       "\n",
       "    .dataframe tbody tr th {\n",
       "        vertical-align: top;\n",
       "    }\n",
       "\n",
       "    .dataframe thead th {\n",
       "        text-align: right;\n",
       "    }\n",
       "</style>\n",
       "<table border=\"1\" class=\"dataframe\">\n",
       "  <thead>\n",
       "    <tr style=\"text-align: right;\">\n",
       "      <th></th>\n",
       "      <th>SK_ID_CURR</th>\n",
       "      <th>TARGET</th>\n",
       "      <th>NAME_CONTRACT_TYPE</th>\n",
       "      <th>CODE_GENDER</th>\n",
       "      <th>FLAG_OWN_CAR</th>\n",
       "      <th>FLAG_OWN_REALTY</th>\n",
       "      <th>CNT_CHILDREN</th>\n",
       "      <th>AMT_INCOME_TOTAL</th>\n",
       "      <th>AMT_CREDIT</th>\n",
       "      <th>AMT_ANNUITY</th>\n",
       "      <th>...</th>\n",
       "      <th>FLAG_DOCUMENT_18</th>\n",
       "      <th>FLAG_DOCUMENT_19</th>\n",
       "      <th>FLAG_DOCUMENT_20</th>\n",
       "      <th>FLAG_DOCUMENT_21</th>\n",
       "      <th>AMT_REQ_CREDIT_BUREAU_HOUR</th>\n",
       "      <th>AMT_REQ_CREDIT_BUREAU_DAY</th>\n",
       "      <th>AMT_REQ_CREDIT_BUREAU_WEEK</th>\n",
       "      <th>AMT_REQ_CREDIT_BUREAU_MON</th>\n",
       "      <th>AMT_REQ_CREDIT_BUREAU_QRT</th>\n",
       "      <th>AMT_REQ_CREDIT_BUREAU_YEAR</th>\n",
       "    </tr>\n",
       "  </thead>\n",
       "  <tbody>\n",
       "    <tr>\n",
       "      <th>0</th>\n",
       "      <td>100002</td>\n",
       "      <td>1</td>\n",
       "      <td>Cash loans</td>\n",
       "      <td>M</td>\n",
       "      <td>N</td>\n",
       "      <td>Y</td>\n",
       "      <td>0</td>\n",
       "      <td>202500.0</td>\n",
       "      <td>406597.5</td>\n",
       "      <td>24700.5</td>\n",
       "      <td>...</td>\n",
       "      <td>0</td>\n",
       "      <td>0</td>\n",
       "      <td>0</td>\n",
       "      <td>0</td>\n",
       "      <td>0.0</td>\n",
       "      <td>0.0</td>\n",
       "      <td>0.0</td>\n",
       "      <td>0.0</td>\n",
       "      <td>0.0</td>\n",
       "      <td>1.0</td>\n",
       "    </tr>\n",
       "    <tr>\n",
       "      <th>1</th>\n",
       "      <td>100003</td>\n",
       "      <td>0</td>\n",
       "      <td>Cash loans</td>\n",
       "      <td>F</td>\n",
       "      <td>N</td>\n",
       "      <td>N</td>\n",
       "      <td>0</td>\n",
       "      <td>270000.0</td>\n",
       "      <td>1293502.5</td>\n",
       "      <td>35698.5</td>\n",
       "      <td>...</td>\n",
       "      <td>0</td>\n",
       "      <td>0</td>\n",
       "      <td>0</td>\n",
       "      <td>0</td>\n",
       "      <td>0.0</td>\n",
       "      <td>0.0</td>\n",
       "      <td>0.0</td>\n",
       "      <td>0.0</td>\n",
       "      <td>0.0</td>\n",
       "      <td>0.0</td>\n",
       "    </tr>\n",
       "    <tr>\n",
       "      <th>2</th>\n",
       "      <td>100004</td>\n",
       "      <td>0</td>\n",
       "      <td>Revolving loans</td>\n",
       "      <td>M</td>\n",
       "      <td>Y</td>\n",
       "      <td>Y</td>\n",
       "      <td>0</td>\n",
       "      <td>67500.0</td>\n",
       "      <td>135000.0</td>\n",
       "      <td>6750.0</td>\n",
       "      <td>...</td>\n",
       "      <td>0</td>\n",
       "      <td>0</td>\n",
       "      <td>0</td>\n",
       "      <td>0</td>\n",
       "      <td>0.0</td>\n",
       "      <td>0.0</td>\n",
       "      <td>0.0</td>\n",
       "      <td>0.0</td>\n",
       "      <td>0.0</td>\n",
       "      <td>0.0</td>\n",
       "    </tr>\n",
       "    <tr>\n",
       "      <th>3</th>\n",
       "      <td>100006</td>\n",
       "      <td>0</td>\n",
       "      <td>Cash loans</td>\n",
       "      <td>F</td>\n",
       "      <td>N</td>\n",
       "      <td>Y</td>\n",
       "      <td>0</td>\n",
       "      <td>135000.0</td>\n",
       "      <td>312682.5</td>\n",
       "      <td>29686.5</td>\n",
       "      <td>...</td>\n",
       "      <td>0</td>\n",
       "      <td>0</td>\n",
       "      <td>0</td>\n",
       "      <td>0</td>\n",
       "      <td>NaN</td>\n",
       "      <td>NaN</td>\n",
       "      <td>NaN</td>\n",
       "      <td>NaN</td>\n",
       "      <td>NaN</td>\n",
       "      <td>NaN</td>\n",
       "    </tr>\n",
       "    <tr>\n",
       "      <th>4</th>\n",
       "      <td>100007</td>\n",
       "      <td>0</td>\n",
       "      <td>Cash loans</td>\n",
       "      <td>M</td>\n",
       "      <td>N</td>\n",
       "      <td>Y</td>\n",
       "      <td>0</td>\n",
       "      <td>121500.0</td>\n",
       "      <td>513000.0</td>\n",
       "      <td>21865.5</td>\n",
       "      <td>...</td>\n",
       "      <td>0</td>\n",
       "      <td>0</td>\n",
       "      <td>0</td>\n",
       "      <td>0</td>\n",
       "      <td>0.0</td>\n",
       "      <td>0.0</td>\n",
       "      <td>0.0</td>\n",
       "      <td>0.0</td>\n",
       "      <td>0.0</td>\n",
       "      <td>0.0</td>\n",
       "    </tr>\n",
       "  </tbody>\n",
       "</table>\n",
       "<p>5 rows × 122 columns</p>\n",
       "</div>"
      ],
      "text/plain": [
       "   SK_ID_CURR  TARGET NAME_CONTRACT_TYPE CODE_GENDER FLAG_OWN_CAR  \\\n",
       "0      100002       1         Cash loans           M            N   \n",
       "1      100003       0         Cash loans           F            N   \n",
       "2      100004       0    Revolving loans           M            Y   \n",
       "3      100006       0         Cash loans           F            N   \n",
       "4      100007       0         Cash loans           M            N   \n",
       "\n",
       "  FLAG_OWN_REALTY  CNT_CHILDREN  AMT_INCOME_TOTAL  AMT_CREDIT  AMT_ANNUITY  \\\n",
       "0               Y             0          202500.0    406597.5      24700.5   \n",
       "1               N             0          270000.0   1293502.5      35698.5   \n",
       "2               Y             0           67500.0    135000.0       6750.0   \n",
       "3               Y             0          135000.0    312682.5      29686.5   \n",
       "4               Y             0          121500.0    513000.0      21865.5   \n",
       "\n",
       "              ...              FLAG_DOCUMENT_18 FLAG_DOCUMENT_19  \\\n",
       "0             ...                             0                0   \n",
       "1             ...                             0                0   \n",
       "2             ...                             0                0   \n",
       "3             ...                             0                0   \n",
       "4             ...                             0                0   \n",
       "\n",
       "  FLAG_DOCUMENT_20 FLAG_DOCUMENT_21 AMT_REQ_CREDIT_BUREAU_HOUR  \\\n",
       "0                0                0                        0.0   \n",
       "1                0                0                        0.0   \n",
       "2                0                0                        0.0   \n",
       "3                0                0                        NaN   \n",
       "4                0                0                        0.0   \n",
       "\n",
       "  AMT_REQ_CREDIT_BUREAU_DAY  AMT_REQ_CREDIT_BUREAU_WEEK  \\\n",
       "0                       0.0                         0.0   \n",
       "1                       0.0                         0.0   \n",
       "2                       0.0                         0.0   \n",
       "3                       NaN                         NaN   \n",
       "4                       0.0                         0.0   \n",
       "\n",
       "   AMT_REQ_CREDIT_BUREAU_MON  AMT_REQ_CREDIT_BUREAU_QRT  \\\n",
       "0                        0.0                        0.0   \n",
       "1                        0.0                        0.0   \n",
       "2                        0.0                        0.0   \n",
       "3                        NaN                        NaN   \n",
       "4                        0.0                        0.0   \n",
       "\n",
       "   AMT_REQ_CREDIT_BUREAU_YEAR  \n",
       "0                         1.0  \n",
       "1                         0.0  \n",
       "2                         0.0  \n",
       "3                         NaN  \n",
       "4                         0.0  \n",
       "\n",
       "[5 rows x 122 columns]"
      ]
     },
     "execution_count": 2,
     "metadata": {},
     "output_type": "execute_result"
    }
   ],
   "source": [
    "app_train = pd.read_csv(path + \"application_train.csv\")\n",
    "app_train.head()"
   ]
  },
  {
   "cell_type": "markdown",
   "metadata": {
    "_cell_guid": "9bf8c10b-badd-4189-bcfb-a110774ac101",
    "_uuid": "5e5162264f6388b141ece6c9045f893e49ee17d6"
   },
   "source": [
    "> There is the information about a total of 307,511 loans and a total of 122 columns. \n",
    "\n",
    "## 2.2 Distribution of Target Variable "
   ]
  },
  {
   "cell_type": "code",
   "execution_count": null,
   "metadata": {
    "_cell_guid": "5d0d7438-35db-4da1-937f-fcd7cfcc0d2e",
    "_kg_hide-input": true,
    "_uuid": "aa165b85c9d4d5d990ce4510df8e78d378b545a1",
    "collapsed": true
   },
   "outputs": [],
   "source": [
    "# Target Variable Distribution \n",
    "bar_hor(app_train, \"TARGET\", \"Distribution of Target Variable\" , [\"#44ff54\", '#ff4444'], h=400, w=800, lm=100, xlb = ['Target : 1','Target : 0'])"
   ]
  },
  {
   "cell_type": "markdown",
   "metadata": {
    "_cell_guid": "44d9c548-9c20-4bcd-8405-75acf0d3551d",
    "_uuid": "9c1628bd75bee880b7ef2feb61907ff25059cc53"
   },
   "source": [
    "> - The target variable consists of about 282K (85%) loans having target variable = 0 while only 24K rows are there having target = 1. \n",
    "\n",
    "## 2.3 Which Gender and Contract Type applies for loan\n",
    "\n",
    "### 2.3.1 Distirbution of Gender and Contract"
   ]
  },
  {
   "cell_type": "code",
   "execution_count": null,
   "metadata": {
    "_cell_guid": "442df618-0d36-4575-8802-9e6db878abe9",
    "_kg_hide-input": true,
    "_uuid": "c5e85db5cdb92d5c662e2e43f88954acef42eb4a",
    "collapsed": true
   },
   "outputs": [],
   "source": [
    "tr1 = bar_hor(app_train, \"CODE_GENDER\", \"Distribution of CODE_GENDER Variable\" ,\"#639af2\", w=700, lm=100, return_trace= True)\n",
    "tr2 = bar_hor(app_train, \"NAME_CONTRACT_TYPE\", \"Distribution of NAME_CONTRACT_TYPE Variable\" ,\"#a4c5f9\", w=700, lm=100, return_trace = True)\n",
    "\n",
    "fig = tools.make_subplots(rows=1, cols=2, print_grid=False, subplot_titles = ['Gender' , 'Contract Type'])\n",
    "fig.append_trace(tr1, 1, 1);\n",
    "fig.append_trace(tr2, 1, 2);\n",
    "fig['layout'].update(height=400, showlegend=False, margin=dict(b=100));\n",
    "iplot(fig);"
   ]
  },
  {
   "cell_type": "markdown",
   "metadata": {
    "_cell_guid": "96ae684a-03b3-4c72-8d2b-f03749262478",
    "_uuid": "10eb60b32bea62df50a09b8dd17151c8974bfa28"
   },
   "source": [
    "> Gender wise, Females has applied for a larger number of lonas (202448) as compared to males (105059). Cash loans with about 278K loans contributes to a majorty of total lonas in this dataset. Revolving loans has significantly lesser number equal to about 29K as compared to Cash loans. \n",
    "\n",
    "### 2.3.2 How does Target with Gender and Contract Type "
   ]
  },
  {
   "cell_type": "code",
   "execution_count": null,
   "metadata": {
    "_cell_guid": "252d33aa-3b8c-4ec8-8632-224aa55cee66",
    "_kg_hide-input": true,
    "_uuid": "4c51257cf3a0004b4a9e771a256d1d923ec6a5ce",
    "collapsed": true
   },
   "outputs": [],
   "source": [
    "gp('CODE_GENDER', 'Distribution of Target with Gender')\n",
    "gp('NAME_CONTRACT_TYPE', 'Distribution of Target with Contract Type')"
   ]
  },
  {
   "cell_type": "markdown",
   "metadata": {
    "_cell_guid": "b1b9da54-1677-4d4b-9077-5643e66da284",
    "_uuid": "e29313e46e0914fd8d183a01a95f4c325f597714"
   },
   "source": [
    "## 2.4. Own Realty and Own Car"
   ]
  },
  {
   "cell_type": "code",
   "execution_count": null,
   "metadata": {
    "_cell_guid": "13575cba-492d-4888-864e-c2faeb88cd17",
    "_kg_hide-input": true,
    "_uuid": "e4346a77344f67b931f1f697fd6bc5225ecb19cc",
    "collapsed": true
   },
   "outputs": [],
   "source": [
    "#tr1 = bar_hor(app_train, \"FLAG_OWN_REALTY\", \"Distribution of FLAG_OWN_REALTY\" ,\"#639af2\", w=700, lm=100, return_trace= True)\n",
    "#tr2 = bar_hor(app_train, \"FLAG_OWN_CAR\", \"Distribution of FLAG_OWN_CAR\" ,\"#639af2\", w=700, lm=100, return_trace = True)\n",
    "#gp('FLAG_OWN_REALTY', 'Distribution of Target with Gender')\n",
    "#gp('FLAG_OWN_CAR', 'Distribution of Target with Contract Type')\n",
    "#fig = tools.make_subplots(rows=1, cols=2, print_grid=False, subplot_titles = ['Own Realty' , 'Own CAR'])\n",
    "#fig.append_trace(tr1, 1, 1);\n",
    "#fig.append_trace(tr2, 1, 2);\n",
    "#fig['layout'].update(height=400, showlegend=False, margin=dict(b=100));\n",
    "#iplot(fig);\n",
    "\n",
    "\n",
    "tr1 = bar_hor(app_train, \"FLAG_OWN_REALTY\", \"Distribution of FLAG_OWN_REALTY\" ,\"#639af2\", w=700, lm=100, return_trace= True)\n",
    "tr2 = bar_hor(app_train, \"FLAG_OWN_CAR\", \"Distribution of FLAG_OWN_CAR\" ,\"#639af2\", w=700, lm=100, return_trace = True)\n",
    "\n",
    "fig = tools.make_subplots(rows=1, cols=2, print_grid=False, subplot_titles = ['Own Realty' , 'Own CAR'])\n",
    "fig.append_trace(tr1, 1, 1);\n",
    "fig.append_trace(tr2, 1, 2);\n",
    "fig['layout'].update(height=400, showlegend=False, margin=dict(b=100));\n",
    "iplot(fig);"
   ]
  },
  {
   "cell_type": "markdown",
   "metadata": {
    "_cell_guid": "0a1daaef-b843-4f3f-8656-42b9e3036329",
    "_uuid": "0981a3c786e21b7026f2ddd823450d24ff97f8ab"
   },
   "source": [
    "## 2.5 Suite Type and Income Type of Applicants \n",
    "\n",
    "### 2.5.1 What are the Suite Type and Income Types "
   ]
  },
  {
   "cell_type": "code",
   "execution_count": null,
   "metadata": {
    "_cell_guid": "d6ee79a4-de90-4c89-a1ce-61ad3e4fd87e",
    "_kg_hide-input": true,
    "_uuid": "5420e580caf623e6782339566b483b077a57ebca",
    "collapsed": true
   },
   "outputs": [],
   "source": [
    "tr1 = bar_hor(app_train, \"NAME_TYPE_SUITE\", \"Distribution of NAME_TYPE_SUITE\" ,\"#639af2\", w=700, lm=100, return_trace= True)\n",
    "tr2 = bar_hor(app_train, \"NAME_INCOME_TYPE\", \"Distribution of NAME_INCOME_TYPE\" ,\"#a4c5f9\", w=700, lm=100, return_trace = True)\n",
    "\n",
    "fig = tools.make_subplots(rows=1, cols=2, print_grid=False, subplot_titles = ['Applicants Suite Type' , 'Applicants Income Type'])\n",
    "fig.append_trace(tr1, 1, 1);\n",
    "fig.append_trace(tr2, 1, 2);\n",
    "fig['layout'].update(height=400, showlegend=False, margin=dict(l=100));\n",
    "iplot(fig);"
   ]
  },
  {
   "cell_type": "markdown",
   "metadata": {
    "_cell_guid": "cd90a9aa-f9bf-4bf5-a538-ba53f67fb765",
    "_uuid": "6c2ae07141da1dde8f99f8143c2b4dab5bf2be61"
   },
   "source": [
    "> Top 3 Type Suites which applies for loan are the houses which are unaccompanined with close to 250K applications, followed by Family and Spouse related families  \n",
    "> The income type of people who applies for loan include about 8 categroes, top ones are : \n",
    "    - Working Class (158K)\n",
    "    - Commercial Associate (71K)\n",
    "    - Pensiner (55K)\n",
    "\n",
    "### 2.5.2 How does Target Varies with Suite and Income Type of Applicants "
   ]
  },
  {
   "cell_type": "code",
   "execution_count": null,
   "metadata": {
    "_cell_guid": "2c1c0b71-d841-4774-9f69-20e0c941c9a7",
    "_kg_hide-input": true,
    "_uuid": "62255e896cd313e4d725ed9e64b77fe57591538f",
    "collapsed": true
   },
   "outputs": [],
   "source": [
    "gp('NAME_TYPE_SUITE', 'Target with respect to Suite Type of Applicants')\n",
    "gp('NAME_INCOME_TYPE', 'Target with respect to Income Type of Applicants')"
   ]
  },
  {
   "cell_type": "markdown",
   "metadata": {
    "_cell_guid": "b0ca2663-4f35-4294-ab4f-7ef6015cde82",
    "_uuid": "ba88ba077e94ed387d1df8e13665a94beda77fbc"
   },
   "source": [
    "## 2.6. Family Status and Housing Types\n",
    "\n",
    "### 2.6.1 What are the values of Family Status and Housing Types of Applicants "
   ]
  },
  {
   "cell_type": "code",
   "execution_count": null,
   "metadata": {
    "_cell_guid": "5b00d571-1a5a-47d9-b0aa-d45dcecf5cb0",
    "_kg_hide-input": true,
    "_uuid": "d48290edfae2f4beb09fd98d605fc43fb1218f6c",
    "collapsed": true
   },
   "outputs": [],
   "source": [
    "tr1 = bar_hor(app_train, \"NAME_FAMILY_STATUS\", \"Distribution of NAME_FAMILY_STATUS\" ,\"#639af2\", w=700, lm=100, return_trace= True)\n",
    "tr2 = bar_hor(app_train, \"NAME_HOUSING_TYPE\", \"Distribution of NAME_HOUSING_TYPE\" ,\"#a4c5f9\", w=700, lm=100, return_trace = True)\n",
    "\n",
    "fig = tools.make_subplots(rows=1, cols=2, print_grid=False, subplot_titles = ['NAME_FAMILY_STATUS' , 'NAME_HOUSING_TYPE'])\n",
    "fig.append_trace(tr1, 1, 1);\n",
    "fig.append_trace(tr2, 1, 2);\n",
    "fig['layout'].update(height=400, showlegend=False, margin=dict(l=100));\n",
    "iplot(fig);"
   ]
  },
  {
   "cell_type": "markdown",
   "metadata": {
    "_cell_guid": "10c3308c-ee99-4462-b481-cf7bd33b4396",
    "_uuid": "15842ca1961dfb785669c5b23f4a21bc67a0dc0c"
   },
   "source": [
    "> - It is observed that married people have applied for maximum number of applications equal to 196K followed by Singles. Key Housign Types include : House / Apartment which contributes to almost 85% of all the applications, people living with parents and municipal apartments. \n",
    "\n",
    "### 2.6.2 How does Target Varies with Family Status and Housing Type"
   ]
  },
  {
   "cell_type": "code",
   "execution_count": null,
   "metadata": {
    "_cell_guid": "52767b60-417c-4306-99f4-37158861e18a",
    "_kg_hide-input": true,
    "_uuid": "6962639a7013be92fd724aa2024cd129df7b6528",
    "collapsed": true
   },
   "outputs": [],
   "source": [
    "gp('NAME_FAMILY_STATUS', 'Target and Family Status')\n",
    "gp('NAME_HOUSING_TYPE', 'Target and Housing Type')"
   ]
  },
  {
   "cell_type": "markdown",
   "metadata": {
    "_cell_guid": "84738f83-421d-419d-92bc-db3a0d59271f",
    "_uuid": "ffee1d0dbcf3a88c6af8504346e8948cab301cc6"
   },
   "source": [
    "## 2.7. Education Type and Income Type \n",
    "\n",
    "### 2.7.1 The distribution of Education Type and Income Type in the dataset "
   ]
  },
  {
   "cell_type": "code",
   "execution_count": null,
   "metadata": {
    "_cell_guid": "b24015be-5bb1-43e7-ab67-ca6134e5ee04",
    "_kg_hide-input": true,
    "_uuid": "b7902786f27f2d39870aa3bf1a87004608e27d5c",
    "collapsed": true
   },
   "outputs": [],
   "source": [
    "tr1 = bar_hor(app_train, \"NAME_EDUCATION_TYPE\", \"Distribution of NAME_EDUCATION_TYPE\" ,\"#639af2\", w=700, lm=100, return_trace= True)\n",
    "# tr2 = bar_hor(app_train, \"NAME_INCOME_TYPE\", \"Distribution of NAME_FAMILY_STATUS\" ,\"#a4c5f9\", w=700, lm=100, return_trace = True)\n",
    "\n",
    "fig = tools.make_subplots(rows=1, cols=1, print_grid=False, subplot_titles = ['NAME_EDUCATION_TYPE' ])\n",
    "fig.append_trace(tr1, 1, 1);\n",
    "# fig.append_trace(tr2, 1, 2);\n",
    "fig['layout'].update(height=400, showlegend=False, margin=dict(l=100));\n",
    "iplot(fig);"
   ]
  },
  {
   "cell_type": "markdown",
   "metadata": {
    "_cell_guid": "1424ad43-b276-476d-94d8-56778cdb11c4",
    "_uuid": "6f00b6ce39f587f08e1fec290e4e077ea1f37247"
   },
   "source": [
    "> A large number of applications (218K) are filed by people having secondaty education followed by people with Higher Education with 75K applications.  \n",
    "\n",
    "### 2.7.2 The distribution of Target Variable with Education Type and Income Type in the dataset "
   ]
  },
  {
   "cell_type": "code",
   "execution_count": null,
   "metadata": {
    "_cell_guid": "b6ea7ac6-9a23-4bae-a356-1ca0ce158ece",
    "_kg_hide-input": true,
    "_uuid": "2bc13f25ce2fd90a17a863a51cb57a9b1cb198b8",
    "collapsed": true
   },
   "outputs": [],
   "source": [
    "gp('NAME_EDUCATION_TYPE', 'Education Type and Target')"
   ]
  },
  {
   "cell_type": "markdown",
   "metadata": {
    "_cell_guid": "a21046cc-aaec-412e-a48d-3f703719c103",
    "_uuid": "15253e3157f009bf3024ab49119201a688431913"
   },
   "source": [
    "## 2.8. Which ORGANIZATION_TYPE and OCCUPATION_TYPE applies for the loan\n",
    "\n",
    "### 2.8.1 The distribution of Organization and Occupation Type in the dataset "
   ]
  },
  {
   "cell_type": "code",
   "execution_count": null,
   "metadata": {
    "_cell_guid": "d801838f-659a-4a7a-8487-61dcbc9c7b32",
    "_kg_hide-input": true,
    "_uuid": "4da4b17a348dc1077f3e0a1c503dd455b40b3482",
    "collapsed": true
   },
   "outputs": [],
   "source": [
    "tr1 = bar_hor(app_train, \"ORGANIZATION_TYPE\", \"Distribution of ORGANIZATION_TYPE\" ,\"#639af2\", w=700, lm=100, return_trace= True)\n",
    "tr2 = bar_hor(app_train, \"OCCUPATION_TYPE\", \"Distribution of OCCUPATION_TYPE\" ,\"#a4c5f9\", w=700, lm=100, return_trace = True)\n",
    "\n",
    "fig = tools.make_subplots(rows=1, cols=2, print_grid=False, subplot_titles = ['ORGANIZATION_TYPE' , 'OCCUPATION_TYPE'])\n",
    "fig.append_trace(tr1, 1, 1);\n",
    "fig.append_trace(tr2, 1, 2);\n",
    "fig['layout'].update(height=600, showlegend=False, margin=dict(l=200));\n",
    "iplot(fig);"
   ]
  },
  {
   "cell_type": "markdown",
   "metadata": {
    "_cell_guid": "ef6b95af-4ba5-49fc-908c-f779abbf1bf7",
    "_uuid": "a788d09a4297c0ca34f2dfa9f0d4248923c9eb34"
   },
   "source": [
    "> Top Applicant's who applied for loan : Laborers - Approx 55 K, Sales Staff - Approx 32 K, Core staff - Approx 28 K. Entity Type 3 type organizations have filed maximum number of loans equal to approx 67K\n",
    "\n",
    "### 2.8.2 Target Variable with respect to Organization and Occupation Type "
   ]
  },
  {
   "cell_type": "code",
   "execution_count": null,
   "metadata": {
    "_cell_guid": "3bccf6a4-022e-421a-a01d-873889ba7ef4",
    "_kg_hide-input": true,
    "_uuid": "649f9cdfaacc606bd22cce037de014e59cb8c6eb",
    "collapsed": true
   },
   "outputs": [],
   "source": [
    "gp('ORGANIZATION_TYPE', 'Organization Type and Target')\n",
    "gp('OCCUPATION_TYPE', 'Occupation Type and Target')"
   ]
  },
  {
   "cell_type": "markdown",
   "metadata": {
    "_cell_guid": "944c588e-66b5-4e58-b168-1bb81988e98a",
    "_uuid": "01b48f6d2e0ea1e282dee78cf0eaf04769bfe692"
   },
   "source": [
    "### 2.8.3. Walls Material, Foundation, and House Type Distribution"
   ]
  },
  {
   "cell_type": "code",
   "execution_count": null,
   "metadata": {
    "_cell_guid": "d8b29f65-422d-4e08-955b-e530f9fcaa98",
    "_kg_hide-input": true,
    "_uuid": "d4ddc9b411765359a5c5364e9db02517fa80f05d",
    "collapsed": true
   },
   "outputs": [],
   "source": [
    "tr2 = bar_hor(app_train, \"WALLSMATERIAL_MODE\", \"Distribution of FLAG_OWN_CAR\" ,\"#a4c5f9\", w=700, lm=100, return_trace = True)\n",
    "tr1 = bar_hor(app_train, \"FONDKAPREMONT_MODE\", \"Distribution of FLAG_OWN_REALTY\" ,\"#639af2\", w=700, lm=100, return_trace= True)\n",
    "tr3 = bar_hor(app_train, \"HOUSETYPE_MODE\", \"Distribution of FLAG_OWN_CAR\" ,\"#a4c5f9\", w=700, lm=100, return_trace = True)\n",
    "\n",
    "fig = tools.make_subplots(rows=1, cols=3, print_grid=False, subplot_titles = ['WALLSMATERIAL_MODE' , 'FONDKAPREMONT_MODE', 'HOUSETYPE_MODE'])\n",
    "fig.append_trace(tr1, 1, 1);\n",
    "fig.append_trace(tr2, 1, 2);\n",
    "fig.append_trace(tr3, 1, 3);\n",
    "\n",
    "fig['layout'].update(height=400, showlegend=False, margin=dict(l=100));\n",
    "iplot(fig);"
   ]
  },
  {
   "cell_type": "markdown",
   "metadata": {
    "_cell_guid": "d3909701-1f14-4305-8e74-e9157fe7375e",
    "_uuid": "7abc636890de91c57b91c6e2ea09d1943b0cfc78"
   },
   "source": [
    "> - \"Blocks and Flats\" related house types have filed the largest number of loan applications equal to about 150K, rest of the other categories : Specific Housing and Terraced house have less than 1500 applications. Similarly houses having Panel and Stone Brick type foundations have filed the largest applciations close to 120K combined. \n",
    "\n",
    "### 2.8.4 Target Variable with respect to Walls Material, Fondkappremont, House Type "
   ]
  },
  {
   "cell_type": "code",
   "execution_count": null,
   "metadata": {
    "_cell_guid": "f0cc4749-3a87-48fe-8d60-795139602394",
    "_kg_hide-input": true,
    "_uuid": "76b981c188baf704a6ded05143325a600e24ac81",
    "collapsed": true
   },
   "outputs": [],
   "source": [
    "gp('WALLSMATERIAL_MODE', 'Wall Material and Target')\n",
    "gp('FONDKAPREMONT_MODE', 'Foundation and Target')\n",
    "gp('HOUSETYPE_MODE', 'House Type and Target')"
   ]
  },
  {
   "cell_type": "markdown",
   "metadata": {
    "_cell_guid": "1816b955-1d3e-4aef-8c05-f17fb3383b2d",
    "_uuid": "722da453c5c4af02b281477c6492c7bb6e2b0e38"
   },
   "source": [
    "## 2.9. Distribution of Amount Credit "
   ]
  },
  {
   "cell_type": "code",
   "execution_count": null,
   "metadata": {
    "_cell_guid": "990e5730-12cd-4050-b434-fb89fdb00446",
    "_kg_hide-input": true,
    "_uuid": "b12a764b83e17e73090f54f3c8583a1eb8c9420d",
    "collapsed": true
   },
   "outputs": [],
   "source": [
    "plt.figure(figsize=(12,5))\n",
    "plt.title(\"Distribution of AMT_CREDIT\")\n",
    "ax = sns.distplot(app_train[\"AMT_CREDIT\"])"
   ]
  },
  {
   "cell_type": "markdown",
   "metadata": {
    "_cell_guid": "28618990-d734-4e60-91f1-b8e9239ba745",
    "_uuid": "7e46488114454dfcfeee443b79c79584e58519be"
   },
   "source": [
    "## 2.10 Distribution of Amount AMT_ANNUITY "
   ]
  },
  {
   "cell_type": "code",
   "execution_count": null,
   "metadata": {
    "_cell_guid": "0cded2f2-c56c-45f9-8b3a-960359ec5f47",
    "_kg_hide-input": true,
    "_uuid": "de409db59dc4899075a49438f946480768b77816",
    "collapsed": true
   },
   "outputs": [],
   "source": [
    "plt.figure(figsize=(12,5))\n",
    "plt.title(\"Distribution of AMT_ANNUITY\")\n",
    "ax = sns.distplot(app_train[\"AMT_ANNUITY\"].dropna())"
   ]
  },
  {
   "cell_type": "markdown",
   "metadata": {
    "_cell_guid": "4e3de61e-e138-42c7-955c-12eff8aa2b91",
    "_uuid": "57fbb75649a1eeb1ce5b9f7b2ac423815321f724"
   },
   "source": [
    "## 2.11 Distribution of Amount AMT_GOODS_PRICE "
   ]
  },
  {
   "cell_type": "code",
   "execution_count": null,
   "metadata": {
    "_cell_guid": "ad976051-52ee-4af9-b132-8b7d25712fd2",
    "_kg_hide-input": true,
    "_uuid": "fa776d88b103a82dce34b3c71a07056c20765eaa",
    "collapsed": true
   },
   "outputs": [],
   "source": [
    "plt.figure(figsize=(12,5))\n",
    "plt.title(\"Distribution of AMT_GOODS_PRICE\")\n",
    "ax = sns.distplot(app_train[\"AMT_GOODS_PRICE\"].dropna())\n",
    "# ax = sns.distplot(app_train[\"CNT_CHILDREN\"], kde = False)"
   ]
  },
  {
   "cell_type": "markdown",
   "metadata": {
    "_cell_guid": "f2c59771-3d8d-475c-b947-f2e6f1706be3",
    "_uuid": "a39d45f10303bba1e7a0a9dc1d3b022405f33f32"
   },
   "source": [
    "## 2.12 Distribution of Amount REGION_POPULATION_RELATIVE "
   ]
  },
  {
   "cell_type": "code",
   "execution_count": null,
   "metadata": {
    "_cell_guid": "1bb22b1a-3356-45d0-b33c-7d7eb93e43c1",
    "_kg_hide-input": true,
    "_uuid": "ca9b9e4234d803b99882fff961dab615e813439a",
    "collapsed": true
   },
   "outputs": [],
   "source": [
    "plt.figure(figsize=(12,5))\n",
    "plt.title(\"Distribution of REGION_POPULATION_RELATIVE\")\n",
    "ax = sns.distplot(app_train[\"REGION_POPULATION_RELATIVE\"])"
   ]
  },
  {
   "cell_type": "markdown",
   "metadata": {
    "_cell_guid": "ce024235-2643-428d-9611-670065124bd9",
    "_uuid": "98c03a26c8ec63b7ba231b08cbabf3580900390a"
   },
   "source": [
    "## 2.13 Distribution of Amount DAYS_BIRTH "
   ]
  },
  {
   "cell_type": "code",
   "execution_count": null,
   "metadata": {
    "_cell_guid": "0d64bdd8-0d58-4545-895c-e55df77e4898",
    "_kg_hide-input": true,
    "_uuid": "05e227cb7f791d0342fef9706c8c8834873651c1",
    "collapsed": true
   },
   "outputs": [],
   "source": [
    "plt.figure(figsize=(12,5))\n",
    "plt.title(\"Distribution of DAYS_BIRTH\")\n",
    "ax = sns.distplot(app_train[\"DAYS_BIRTH\"])"
   ]
  },
  {
   "cell_type": "markdown",
   "metadata": {
    "_cell_guid": "5b4de0af-1d9c-4a11-853c-1376f08405f9",
    "_uuid": "33132c54442e0fc616de776e67cf07aa5427e94c"
   },
   "source": [
    "## 2.14 Distribution of Amount DAYS_EMPLOYED "
   ]
  },
  {
   "cell_type": "code",
   "execution_count": null,
   "metadata": {
    "_cell_guid": "88ab2863-ac1f-49f3-8e20-a1d99c77b806",
    "_kg_hide-input": true,
    "_uuid": "011f46cbf2e15df67b9bc421bce75b26185dd063",
    "collapsed": true
   },
   "outputs": [],
   "source": [
    "plt.figure(figsize=(12,5))\n",
    "plt.title(\"Distribution of DAYS_EMPLOYED\")\n",
    "ax = sns.distplot(app_train[\"DAYS_EMPLOYED\"])"
   ]
  },
  {
   "cell_type": "markdown",
   "metadata": {
    "_cell_guid": "38f9c744-1cc6-4f73-98eb-e745a92aaa0b",
    "_uuid": "4747eda62b578e2f70fa8041fca9b0bf89189103"
   },
   "source": [
    "## 2.15 Distribution of Number of Days for Registration"
   ]
  },
  {
   "cell_type": "code",
   "execution_count": null,
   "metadata": {
    "_cell_guid": "e4945b0c-bea0-4cc9-a886-4d6937a6339f",
    "_kg_hide-input": true,
    "_uuid": "966035af648af94461e7be000edd3d277a6ff0aa",
    "collapsed": true
   },
   "outputs": [],
   "source": [
    "plt.figure(figsize=(12,5))\n",
    "plt.title(\"Distribution of DAYS_REGISTRATION\")\n",
    "ax = sns.distplot(app_train[\"DAYS_REGISTRATION\"])"
   ]
  },
  {
   "cell_type": "markdown",
   "metadata": {
    "_cell_guid": "741612f7-2edd-496c-9e20-597957fca3af",
    "_uuid": "8e1d531274f1ab7caf5aeea3a9457fc8a1af15dd"
   },
   "source": [
    "## 2.16 How many Family Members does the applicants has "
   ]
  },
  {
   "cell_type": "code",
   "execution_count": null,
   "metadata": {
    "_cell_guid": "3fda7238-94db-47ef-ad51-a37c625741e1",
    "_kg_hide-input": true,
    "_uuid": "aff6eef4a480681aed36e3fbfec8d23234a90523",
    "collapsed": true
   },
   "outputs": [],
   "source": [
    "plt.figure(figsize=(12,5))\n",
    "plt.title(\"Distribution of CNT_FAM_MEMBERS\")\n",
    "ax = sns.distplot(app_train[\"CNT_FAM_MEMBERS\"].dropna())"
   ]
  },
  {
   "cell_type": "markdown",
   "metadata": {
    "_cell_guid": "916d65fa-363a-446b-a2e8-9b149689caf2",
    "_uuid": "1b128ab27ea0291424856bf4d612aa85d2ba7a5a"
   },
   "source": [
    "## 3. Exploration of Bureau Data\n",
    "\n",
    "All client's previous credits provided by other financial institutions that were reported to Credit Bureau (for clients who have a loan in our sample). For every loan in our sample, there are as many rows as number of credits the client had in Credit Bureau before the application date.\n",
    "\n",
    "## 3.1 Snapshot of Bureau Data"
   ]
  },
  {
   "cell_type": "code",
   "execution_count": null,
   "metadata": {
    "_cell_guid": "c0de05d8-2a4d-4834-bd1e-daabc8b9610f",
    "_kg_hide-input": true,
    "_uuid": "9529bef2d954adb828c2e35ec2cf89e7ea42c002",
    "collapsed": true
   },
   "outputs": [],
   "source": [
    "bureau = pd.read_csv(path + \"bureau.csv\")\n",
    "bureau.head()"
   ]
  },
  {
   "cell_type": "markdown",
   "metadata": {
    "_cell_guid": "abed0e47-f848-4b17-ac4e-d912db58c71d",
    "_uuid": "b50d744e5f0934ebc7965a57f4eecfc5b401e9ce"
   },
   "source": [
    "## 4. Exploration of Bureau Balance Data\n",
    "\n",
    "Monthly balances of previous credits in Credit Bureau. This table has one row for each month of history of every previous credit reported to Credit Bureau – i.e the table has (#loans in sample * # of relative previous credits * # of months where we have some history observable for the previous credits) rows.\n",
    "\n",
    "## 4.1 Snapshot of Bureau Balance Data"
   ]
  },
  {
   "cell_type": "code",
   "execution_count": null,
   "metadata": {
    "_cell_guid": "c14ec3ef-7db0-4317-b449-0124db8572d8",
    "_kg_hide-input": true,
    "_uuid": "ac67d7d783e9e13f3775ddf803d010e3d664c4f6",
    "collapsed": true
   },
   "outputs": [],
   "source": [
    "bureau_balance = pd.read_csv(path + \"bureau_balance.csv\")\n",
    "bureau_balance.head()"
   ]
  },
  {
   "cell_type": "markdown",
   "metadata": {
    "_cell_guid": "d552c14d-f574-4392-9706-f4c12db8b549",
    "_uuid": "76f36853e9a9812c5a9ef82fc31d50ef87da1d41"
   },
   "source": [
    "## 5. Exploration of Credit Card Balance\n",
    "\n",
    "Monthly balance snapshots of previous credit cards that the applicant has with Home Credit.This table has one row for each month of history of every previous credit in Home Credit (consumer credit and cash loans) related to loans in our sample – i.e. the table has (#loans in sample * # of relative previous credit cards * # of months where we have some history observable for the previous credit card) rows.\n",
    "\n",
    "## 5.1 Snapshot of Credit Card Balance"
   ]
  },
  {
   "cell_type": "code",
   "execution_count": null,
   "metadata": {
    "_cell_guid": "0407eeec-c672-4f64-95e4-633893271130",
    "_kg_hide-input": true,
    "_uuid": "89ef3131f2f1a6125b4a0b3df9aef52c1e985039",
    "collapsed": true
   },
   "outputs": [],
   "source": [
    "credit_card_balance = pd.read_csv(path + \"credit_card_balance.csv\")\n",
    "credit_card_balance.head()"
   ]
  },
  {
   "cell_type": "markdown",
   "metadata": {
    "_cell_guid": "e437d24d-2db4-4750-998d-5fee2aa0857e",
    "_uuid": "1c083b3fdd9a9f6df7ea762c85f6b87b49479369"
   },
   "source": [
    "## 6. Exploration of POS CASH Balance Data\n",
    "\n",
    "Monthly balance snapshots of previous POS (point of sales) and cash loans that the applicant had with Home Credit. This table has one row for each month of history of every previous credit in Home Credit (consumer credit and cash loans) related to loans in our sample – i.e. the table has (#loans in sample * # of relative previous credits * # of months in which we have some history observable for the previous credits) rows.\n",
    "\n",
    "## 6.1 Snapshot of POS CASH Balance Data"
   ]
  },
  {
   "cell_type": "code",
   "execution_count": null,
   "metadata": {
    "_cell_guid": "e466a665-ae96-4014-b2e3-d898b9ff1127",
    "_kg_hide-input": true,
    "_uuid": "6a28d16a578c39e441b7c7542b3957c1ffcb9d1c",
    "collapsed": true
   },
   "outputs": [],
   "source": [
    "pcb = pd.read_csv(path + \"POS_CASH_balance.csv\")\n",
    "pcb.head()"
   ]
  },
  {
   "cell_type": "markdown",
   "metadata": {
    "_cell_guid": "5fa69a3c-9e73-4d6e-b3c7-ec0689c75f30",
    "_uuid": "0840360310311a1b4d835cf9f5612b61d39115fe"
   },
   "source": [
    "## 7. Snapshot of Prev Application\n",
    "## 7.1 Snapshot of Prev Application"
   ]
  },
  {
   "cell_type": "code",
   "execution_count": null,
   "metadata": {
    "_cell_guid": "1bb291e8-65f2-43c4-a09d-2a785837a395",
    "_kg_hide-input": true,
    "_uuid": "2e163de1e8b97df7059624eba3b0ad5f3d51fa9b",
    "collapsed": true
   },
   "outputs": [],
   "source": [
    "previous_application = pd.read_csv(path + \"previous_application.csv\")\n",
    "previous_application.head()"
   ]
  },
  {
   "cell_type": "markdown",
   "metadata": {
    "_cell_guid": "4215674c-cf90-4a98-9628-5bc33f7b3d96",
    "_uuid": "5a97d1025d3151b74d5d9387d2523ff51b2d4049"
   },
   "source": [
    "## 7.2 Contract Status Distribution in Previously Filed Applications"
   ]
  },
  {
   "cell_type": "code",
   "execution_count": null,
   "metadata": {
    "_cell_guid": "b2ff9309-d467-4ff5-8226-9af7e713dc74",
    "_kg_hide-input": true,
    "_uuid": "972f2148294c720e5f06d25484895567e3bfc594",
    "collapsed": true
   },
   "outputs": [],
   "source": [
    "t = previous_application['NAME_CONTRACT_STATUS'].value_counts()\n",
    "labels = t.index\n",
    "values = t.values\n",
    "\n",
    "colors = ['#FEBFB3', '#E1396C', '#96D38C', '#D0F9B1']\n",
    "\n",
    "trace = go.Pie(labels=labels, values=values,\n",
    "               hoverinfo='', textinfo='',\n",
    "               textfont=dict(size=12),\n",
    "               marker=dict(colors=colors,\n",
    "                           line=dict(color='#fff', width=2)))\n",
    "\n",
    "layout = go.Layout(title='Name Contract Status in Previous Applications', height=400)\n",
    "fig = go.Figure(data=[trace], layout=layout)\n",
    "iplot(fig)"
   ]
  },
  {
   "cell_type": "markdown",
   "metadata": {
    "_cell_guid": "b310cc84-4e47-490e-abda-326dd3ca50fb",
    "_uuid": "b1d764955f864244143a58a2f036945755d6ef8e"
   },
   "source": [
    "> - A large number of people (about 62%) had their previous applications approved, while about 19% of them had cancelled and other 17% were resued. \n",
    "\n",
    "## 7.3 Suite Type Distribution of Previous Applications"
   ]
  },
  {
   "cell_type": "code",
   "execution_count": null,
   "metadata": {
    "_cell_guid": "e9a278ed-0653-43ad-9df4-3daff8b9578c",
    "_kg_hide-input": true,
    "_uuid": "bd0009f9babfb6e399a105c4723f51faf98b7e31",
    "collapsed": true
   },
   "outputs": [],
   "source": [
    "t = previous_application['NAME_TYPE_SUITE'].value_counts()\n",
    "labels = t.index\n",
    "values = t.values\n",
    "\n",
    "colors = ['#FEBFB3', '#E1396C', '#96D38C', '#D0F9B1']\n",
    "\n",
    "trace = go.Pie(labels=labels, values=values,\n",
    "               hoverinfo='', textinfo='',\n",
    "               textfont=dict(size=12),\n",
    "               marker=dict(colors=colors,\n",
    "                           line=dict(color='#fff', width=2)))\n",
    "\n",
    "layout = go.Layout(title='Suite Type in Previous Application Distribution', height=400)\n",
    "fig = go.Figure(data=[trace], layout=layout)\n",
    "iplot(fig)"
   ]
  },
  {
   "cell_type": "markdown",
   "metadata": {
    "_cell_guid": "7a01e53a-85fc-43a1-9c51-bd0c2f616d54",
    "_uuid": "3a73a8e16611a5061e96b43e1f06bcffe5570bad"
   },
   "source": [
    "> - A majority of applicants had previous applications having Unaccompanied Suite Type (about 60%) followed by Family related suite type (about 25%)\n",
    "\n",
    "## 7.4 Client Type of Previous Applications"
   ]
  },
  {
   "cell_type": "code",
   "execution_count": null,
   "metadata": {
    "_cell_guid": "5176fb10-38ce-4b5e-a22b-6526dee9e519",
    "_kg_hide-input": true,
    "_uuid": "3addc73066d5601a382390d05bd14f841db8f599",
    "collapsed": true
   },
   "outputs": [],
   "source": [
    "t = previous_application['NAME_CLIENT_TYPE'].value_counts()\n",
    "labels = t.index\n",
    "values = t.values\n",
    "\n",
    "colors = ['#FEBFB3', '#E1396C', '#96D38C', '#D0F9B1']\n",
    "\n",
    "trace = go.Pie(labels=labels, values=values,\n",
    "               hoverinfo='', textinfo='',\n",
    "               textfont=dict(size=12),\n",
    "               marker=dict(colors=colors,\n",
    "                           line=dict(color='#fff', width=2)))\n",
    "\n",
    "layout = go.Layout(title='Client Type in Previous Applications', height=400)\n",
    "fig = go.Figure(data=[trace], layout=layout)\n",
    "iplot(fig)"
   ]
  },
  {
   "cell_type": "markdown",
   "metadata": {
    "_cell_guid": "7816f904-97ab-4f9e-aa5a-454e4ef428d8",
    "_uuid": "36fb1d0c298781a6205a17865003d2ca0fa786f6",
    "collapsed": true
   },
   "source": [
    "> - About 74% of the previous applications were Repeater Clients, while only 18% are new. About 8% are refreshed. \n",
    "\n",
    "## 7.5 Channel Type - Previous Applications "
   ]
  },
  {
   "cell_type": "code",
   "execution_count": null,
   "metadata": {
    "_cell_guid": "d3d903f1-5dae-439f-ad54-f1e87fa7d569",
    "_kg_hide-input": true,
    "_uuid": "c8e0f239fd06aef97e10e51af1131945bc60a2c4",
    "collapsed": true
   },
   "outputs": [],
   "source": [
    "t = previous_application['CHANNEL_TYPE'].value_counts()\n",
    "labels = t.index\n",
    "values = t.values\n",
    "\n",
    "colors = ['#FEBFB3', '#E1396C', '#96D38C', '#D0F9B1']\n",
    "\n",
    "trace = go.Pie(labels=labels, values=values,\n",
    "               hoverinfo='', textinfo='',\n",
    "               textfont=dict(size=12),\n",
    "               marker=dict(colors=colors,\n",
    "                           line=dict(color='#fff', width=2)))\n",
    "\n",
    "layout = go.Layout(title='Channel Type in Previous Applications', height=400)\n",
    "fig = go.Figure(data=[trace], layout=layout)\n",
    "iplot(fig)"
   ]
  },
  {
   "cell_type": "markdown",
   "metadata": {
    "_cell_guid": "0e2f999c-0b11-4e4e-88ff-2f7717dca833",
    "_uuid": "3292c40aae11e71d2724862163132c86353d69d7"
   },
   "source": [
    "## 8. Exploration of Installation Payments \n",
    "## 8.1 Snapshot of Installation Payments "
   ]
  },
  {
   "cell_type": "code",
   "execution_count": null,
   "metadata": {
    "_cell_guid": "e06752f4-1545-4afe-93e6-faaf6303ef80",
    "_kg_hide-input": true,
    "_uuid": "233a79452495afeccba562a2b7def7e64d0a41f0",
    "collapsed": true
   },
   "outputs": [],
   "source": [
    "installments_payments = pd.read_csv(path + \"installments_payments.csv\")\n",
    "installments_payments.head()"
   ]
  },
  {
   "cell_type": "markdown",
   "metadata": {
    "_cell_guid": "2cfd03cc-f0bb-462a-a0d3-34158797cad7",
    "_uuid": "282f624b00c2a71fdb4164b6977d44a9d10124b2"
   },
   "source": [
    "## 9. Baseline Model \n",
    "\n",
    "### 9.1 Dataset Preparation"
   ]
  },
  {
   "cell_type": "code",
   "execution_count": null,
   "metadata": {
    "_cell_guid": "4dcc95a1-8e83-4984-9546-0dbccab81810",
    "_kg_hide-input": false,
    "_uuid": "adf0822296c484e7ced0e6ec5dbb974e219c7d57",
    "collapsed": true
   },
   "outputs": [],
   "source": [
    "import lightgbm as lgb\n",
    "from sklearn.preprocessing import LabelEncoder\n",
    "from sklearn.model_selection import train_test_split \n",
    "\n",
    "# read the test data \n",
    "app_test = pd.read_csv(path + 'application_test.csv')\n",
    "app_test['is_test'] = 1 \n",
    "app_test['is_train'] = 0\n",
    "\n",
    "app_train['is_test'] = 0\n",
    "app_train['is_train'] = 1\n",
    "\n",
    "\n",
    "# target variable \n",
    "Y = app_train['TARGET']\n",
    "test_id = app_test['SK_ID_CURR']\n",
    "\n",
    "train_X = app_train.drop(['TARGET', 'SK_ID_CURR'], axis = 1)\n",
    "test_X = app_test.drop(['SK_ID_CURR'], axis = 1)"
   ]
  },
  {
   "cell_type": "markdown",
   "metadata": {
    "_cell_guid": "30f83912-ecf4-49d9-bd27-ba9d2a3a4d0d",
    "_uuid": "9f906d1da1bccc7fafa88af8ec369a1c9f9d82ae"
   },
   "source": [
    "### 9.2 Label Encoding"
   ]
  },
  {
   "cell_type": "code",
   "execution_count": null,
   "metadata": {
    "_cell_guid": "bbbb40c8-b420-4472-b1cc-3d8e9199f736",
    "_kg_hide-input": false,
    "_uuid": "17438fe941c9d5c16ff99ea76abae92915baf42e",
    "collapsed": true
   },
   "outputs": [],
   "source": [
    "cat_cols = ['NAME_CONTRACT_TYPE', 'CODE_GENDER', 'FLAG_OWN_CAR', 'FLAG_OWN_REALTY', 'NAME_TYPE_SUITE',\n",
    "            'NAME_INCOME_TYPE', 'NAME_EDUCATION_TYPE', 'NAME_FAMILY_STATUS', 'NAME_HOUSING_TYPE',\n",
    "            'OCCUPATION_TYPE', 'WEEKDAY_APPR_PROCESS_START','ORGANIZATION_TYPE', 'FONDKAPREMONT_MODE',\n",
    "            'HOUSETYPE_MODE', 'WALLSMATERIAL_MODE', 'EMERGENCYSTATE_MODE']\n",
    "\n",
    "\n",
    "data = pd.concat([train_X, test_X], axis=0)\n",
    "for c in cat_cols:\n",
    "    data[c] = LabelEncoder().fit_transform(data[c].astype('str').values)\n",
    "\n",
    "train_X = data[data['is_train'] == 1]\n",
    "test_X = data[data['is_test'] == 1]"
   ]
  },
  {
   "cell_type": "markdown",
   "metadata": {
    "_cell_guid": "bb478ad4-70b7-43de-9043-4d162da1bcfb",
    "_uuid": "4c85c54935d70e7ae62705d7daec1913c1332941"
   },
   "source": [
    "### 9.3 Prepare Validation Sets"
   ]
  },
  {
   "cell_type": "code",
   "execution_count": null,
   "metadata": {
    "_cell_guid": "4958e5ee-c072-4768-8474-ef062610c30c",
    "_kg_hide-input": false,
    "_uuid": "1447f95c16467e9159bffe333fb6418195a484fd",
    "collapsed": true
   },
   "outputs": [],
   "source": [
    "# prepare training and validation data\n",
    "x_train, x_val, y_train, y_val = train_test_split(train_X, Y, random_state=18)\n",
    "\n",
    "lgb_train = lgb.Dataset(data=x_train, label=y_train)\n",
    "lgb_eval = lgb.Dataset(data=x_val, label=y_val)"
   ]
  },
  {
   "cell_type": "markdown",
   "metadata": {
    "_cell_guid": "8cd7bbf8-0a9f-4d5d-a563-0fd85bd3244e",
    "_uuid": "d2788b8496e5210d3a2fcbd812d2a82a84934d6a"
   },
   "source": [
    "### 9.4 Fit the Model"
   ]
  },
  {
   "cell_type": "code",
   "execution_count": null,
   "metadata": {
    "_cell_guid": "1447e73c-e7b1-4aac-a7a3-839b81b9cbae",
    "_kg_hide-input": false,
    "_uuid": "2fb7bc4662df2c07cfbfabe9860c79d0d4635553",
    "collapsed": true
   },
   "outputs": [],
   "source": [
    "params = {'task': 'train', 'boosting_type': 'gbdt', 'objective': 'binary', 'metric': 'auc', 'learning_rate': 0.05, 'num_leaves': 32, 'num_iteration': 500, 'verbose': 0 }\n",
    "model = lgb.train(params, lgb_train, valid_sets=lgb_eval, early_stopping_rounds=100, verbose_eval=10)"
   ]
  },
  {
   "cell_type": "markdown",
   "metadata": {
    "_cell_guid": "95e66f13-c1ba-46a3-9fca-53422cb5014f",
    "_uuid": "2e517e7014d049789c97b393a7ab8e72f9932672"
   },
   "source": [
    "### 9.5 Feature Importance "
   ]
  },
  {
   "cell_type": "code",
   "execution_count": null,
   "metadata": {
    "_cell_guid": "d5acdc09-bf70-489e-a6f5-7db8f9a10b87",
    "_kg_hide-input": false,
    "_uuid": "74f91f79d44b44c46445c6ad7e248b5fd8bfe90e",
    "collapsed": true
   },
   "outputs": [],
   "source": [
    "lgb.plot_importance(model, figsize=(12, 20));"
   ]
  },
  {
   "cell_type": "markdown",
   "metadata": {
    "_cell_guid": "f6454263-3924-45a8-bdeb-870d9ace4277",
    "_uuid": "dcc834ec4ff78a3529c4a8488534999a23ba040e"
   },
   "source": [
    "### 9.6 Predict"
   ]
  },
  {
   "cell_type": "code",
   "execution_count": null,
   "metadata": {
    "_cell_guid": "d1513dd9-5e5f-4157-b7fe-dceb9db5483b",
    "_uuid": "7976790886f7d85428dbaf40703cdd6a93586ba7",
    "collapsed": true
   },
   "outputs": [],
   "source": [
    "pred = model.predict(test_X)\n",
    "sub = pd.DataFrame()\n",
    "sub['SK_ID_CURR'] = test_id\n",
    "sub['TARGET'] = pred\n",
    "sub.to_csv(\"baseline_submission.csv\", index=False)\n",
    "sub.head()"
   ]
  },
  {
   "cell_type": "markdown",
   "metadata": {
    "_cell_guid": "27046706-38b0-4886-84b0-f3e61b288be5",
    "_uuid": "e27cf9bb0e6c1cff14c7fa95f603d91789acb5cb",
    "collapsed": true
   },
   "source": [
    "#### In Progress, Stay Tuned for more "
   ]
  },
  {
   "cell_type": "code",
   "execution_count": null,
   "metadata": {
    "_cell_guid": "00b62c0d-bc47-444a-88a0-763314d3b4a3",
    "_uuid": "d93e478cdefe1ffd009317669378d800558d9dd7",
    "collapsed": true
   },
   "outputs": [],
   "source": []
  }
 ],
 "metadata": {
  "kernelspec": {
   "display_name": "Python 3",
   "language": "python",
   "name": "python3"
  },
  "language_info": {
   "codemirror_mode": {
    "name": "ipython",
    "version": 3
   },
   "file_extension": ".py",
   "mimetype": "text/x-python",
   "name": "python",
   "nbconvert_exporter": "python",
   "pygments_lexer": "ipython3",
   "version": "3.5.5"
  }
 },
 "nbformat": 4,
 "nbformat_minor": 1
}
